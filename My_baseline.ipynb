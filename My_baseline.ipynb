{
 "cells": [
  {
   "attachments": {},
   "cell_type": "markdown",
   "metadata": {
    "colab_type": "text",
    "id": "mNAvIBJ3QFa8"
   },
   "source": [
    "# **Импорт всех пакетов**"
   ]
  },
  {
   "cell_type": "code",
   "execution_count": 1,
   "metadata": {
    "colab": {
     "base_uri": "https://localhost:8080/",
     "height": 171
    },
    "colab_type": "code",
    "id": "Yn6uaRjyMs9G",
    "outputId": "942d84e7-0ee0-4482-f4a0-0e3f33a25199"
   },
   "outputs": [
    {
     "name": "stderr",
     "output_type": "stream",
     "text": [
      "/home/voland/.local/lib/python3.6/site-packages/keras/backend.py:401: UserWarning: `tf.keras.backend.set_learning_phase` is deprecated and will be removed after 2020-10-11. To update it, simply pass a True/False value to the `training` argument of the `__call__` method of your layer or model.\n",
      "  warnings.warn('`tf.keras.backend.set_learning_phase` is deprecated and '\n"
     ]
    }
   ],
   "source": [
    "import tensorflow as tf\n",
    "import keras\n",
    "from keras import layers, regularizers, optimizers\n",
    "from keras.layers import (\n",
    "    Dense,\n",
    "    Add,\n",
    "    Flatten,\n",
    "    Input,\n",
    "    Activation,\n",
    "    Embedding,\n",
    "    Conv1D,\n",
    "    GlobalMaxPooling1D,\n",
    "    Dropout,\n",
    "    Lambda,\n",
    "    concatenate,\n",
    ")\n",
    "from keras.models import Sequential, Model, load_model\n",
    "from keras.applications.vgg16 import VGG16\n",
    "from keras.preprocessing.text import Tokenizer\n",
    "from keras.preprocessing.sequence import pad_sequences\n",
    "import matplotlib.pyplot as plt\n",
    "import seaborn as sns\n",
    "from sklearn.utils import shuffle\n",
    "from sklearn.metrics.pairwise import cosine_similarity\n",
    "import pandas as pd\n",
    "import cv2\n",
    "import numpy as np\n",
    "from numpy import load, save\n",
    "import re\n",
    "import keras.backend as K\n",
    "\n",
    "import json\n",
    "from tqdm.notebook import trange, tqdm\n",
    "\n",
    "K.set_image_data_format(\"channels_last\")\n",
    "K.set_learning_phase(1)\n",
    "\n",
    "WIDTH = 128  # Размер изображения 128"
   ]
  },
  {
   "attachments": {},
   "cell_type": "markdown",
   "metadata": {
    "colab_type": "text",
    "id": "5mAxPTkiAxDd"
   },
   "source": [
    "# **Предварительная обработка изображения и данных**"
   ]
  },
  {
   "cell_type": "code",
   "execution_count": 2,
   "metadata": {},
   "outputs": [],
   "source": [
    "# ! pip install pyarrow==6.0.1\n"
   ]
  },
  {
   "cell_type": "code",
   "execution_count": 32,
   "metadata": {
    "colab": {},
    "colab_type": "code",
    "id": "Evst1ZMPSwUD"
   },
   "outputs": [],
   "source": [
    "# Reading train.parquet file using pandas\n",
    "train = pd.read_parquet(\"train.parquet\", engine=\"pyarrow\")\n",
    "test = pd.read_parquet(\"test.parquet\", engine=\"pyarrow\")"
   ]
  },
  {
   "cell_type": "code",
   "execution_count": 4,
   "metadata": {},
   "outputs": [
    {
     "data": {
      "text/html": [
       "<div>\n",
       "<style scoped>\n",
       "    .dataframe tbody tr th:only-of-type {\n",
       "        vertical-align: middle;\n",
       "    }\n",
       "\n",
       "    .dataframe tbody tr th {\n",
       "        vertical-align: top;\n",
       "    }\n",
       "\n",
       "    .dataframe thead th {\n",
       "        text-align: right;\n",
       "    }\n",
       "</style>\n",
       "<table border=\"1\" class=\"dataframe\">\n",
       "  <thead>\n",
       "    <tr style=\"text-align: right;\">\n",
       "      <th></th>\n",
       "      <th>product_id</th>\n",
       "      <th>category_id</th>\n",
       "      <th>sale</th>\n",
       "      <th>shop_id</th>\n",
       "      <th>shop_title</th>\n",
       "      <th>rating</th>\n",
       "      <th>text_fields</th>\n",
       "      <th>category_name</th>\n",
       "    </tr>\n",
       "  </thead>\n",
       "  <tbody>\n",
       "    <tr>\n",
       "      <th>0</th>\n",
       "      <td>325286</td>\n",
       "      <td>12171</td>\n",
       "      <td>False</td>\n",
       "      <td>9031</td>\n",
       "      <td>Aksik</td>\n",
       "      <td>5.0</td>\n",
       "      <td>{\"title\": \"Зарядный кабель Borofone BX1 Lightn...</td>\n",
       "      <td>Все категории-&gt;Электроника-&gt;Смартфоны и телефо...</td>\n",
       "    </tr>\n",
       "  </tbody>\n",
       "</table>\n",
       "</div>"
      ],
      "text/plain": [
       "   product_id  category_id   sale  shop_id shop_title  rating  \\\n",
       "0      325286        12171  False     9031      Aksik     5.0   \n",
       "\n",
       "                                         text_fields  \\\n",
       "0  {\"title\": \"Зарядный кабель Borofone BX1 Lightn...   \n",
       "\n",
       "                                       category_name  \n",
       "0  Все категории->Электроника->Смартфоны и телефо...  "
      ]
     },
     "execution_count": 4,
     "metadata": {},
     "output_type": "execute_result"
    }
   ],
   "source": [
    "train.head(1)"
   ]
  },
  {
   "cell_type": "code",
   "execution_count": 5,
   "metadata": {},
   "outputs": [
    {
     "data": {
      "text/html": [
       "<div>\n",
       "<style scoped>\n",
       "    .dataframe tbody tr th:only-of-type {\n",
       "        vertical-align: middle;\n",
       "    }\n",
       "\n",
       "    .dataframe tbody tr th {\n",
       "        vertical-align: top;\n",
       "    }\n",
       "\n",
       "    .dataframe thead th {\n",
       "        text-align: right;\n",
       "    }\n",
       "</style>\n",
       "<table border=\"1\" class=\"dataframe\">\n",
       "  <thead>\n",
       "    <tr style=\"text-align: right;\">\n",
       "      <th></th>\n",
       "      <th>product_id</th>\n",
       "      <th>sale</th>\n",
       "      <th>shop_id</th>\n",
       "      <th>shop_title</th>\n",
       "      <th>rating</th>\n",
       "      <th>text_fields</th>\n",
       "    </tr>\n",
       "  </thead>\n",
       "  <tbody>\n",
       "    <tr>\n",
       "      <th>1</th>\n",
       "      <td>1997646</td>\n",
       "      <td>False</td>\n",
       "      <td>22758</td>\n",
       "      <td>Sky_Electronics</td>\n",
       "      <td>5.0</td>\n",
       "      <td>{\"title\": \"Светодиодная лента Smart led Strip ...</td>\n",
       "    </tr>\n",
       "  </tbody>\n",
       "</table>\n",
       "</div>"
      ],
      "text/plain": [
       "   product_id   sale  shop_id       shop_title  rating  \\\n",
       "1     1997646  False    22758  Sky_Electronics     5.0   \n",
       "\n",
       "                                         text_fields  \n",
       "1  {\"title\": \"Светодиодная лента Smart led Strip ...  "
      ]
     },
     "execution_count": 5,
     "metadata": {},
     "output_type": "execute_result"
    }
   ],
   "source": [
    "test.head(1)"
   ]
  },
  {
   "attachments": {},
   "cell_type": "markdown",
   "metadata": {},
   "source": [
    "Разделим категории на подкатегории и посмотрим сколько уникальных категорий содержит наш набор"
   ]
  },
  {
   "cell_type": "code",
   "execution_count": 6,
   "metadata": {},
   "outputs": [],
   "source": [
    "query_train = train.category_name.str.split(\"->\", 5, expand=True)"
   ]
  },
  {
   "cell_type": "code",
   "execution_count": 7,
   "metadata": {},
   "outputs": [
    {
     "data": {
      "text/html": [
       "<div>\n",
       "<style scoped>\n",
       "    .dataframe tbody tr th:only-of-type {\n",
       "        vertical-align: middle;\n",
       "    }\n",
       "\n",
       "    .dataframe tbody tr th {\n",
       "        vertical-align: top;\n",
       "    }\n",
       "\n",
       "    .dataframe thead th {\n",
       "        text-align: right;\n",
       "    }\n",
       "</style>\n",
       "<table border=\"1\" class=\"dataframe\">\n",
       "  <thead>\n",
       "    <tr style=\"text-align: right;\">\n",
       "      <th></th>\n",
       "      <th>0</th>\n",
       "      <th>1</th>\n",
       "      <th>2</th>\n",
       "      <th>3</th>\n",
       "      <th>4</th>\n",
       "      <th>5</th>\n",
       "    </tr>\n",
       "  </thead>\n",
       "  <tbody>\n",
       "    <tr>\n",
       "      <th>0</th>\n",
       "      <td>Все категории</td>\n",
       "      <td>Электроника</td>\n",
       "      <td>Смартфоны и телефоны</td>\n",
       "      <td>Аксессуары и запчасти</td>\n",
       "      <td>Зарядные устройства и кабели</td>\n",
       "      <td>Кабели</td>\n",
       "    </tr>\n",
       "    <tr>\n",
       "      <th>1</th>\n",
       "      <td>Все категории</td>\n",
       "      <td>Одежда</td>\n",
       "      <td>Женская одежда</td>\n",
       "      <td>Белье и купальники</td>\n",
       "      <td>Трусы</td>\n",
       "      <td>None</td>\n",
       "    </tr>\n",
       "  </tbody>\n",
       "</table>\n",
       "</div>"
      ],
      "text/plain": [
       "               0            1                     2                      3  \\\n",
       "0  Все категории  Электроника  Смартфоны и телефоны  Аксессуары и запчасти   \n",
       "1  Все категории       Одежда        Женская одежда     Белье и купальники   \n",
       "\n",
       "                              4       5  \n",
       "0  Зарядные устройства и кабели  Кабели  \n",
       "1                         Трусы    None  "
      ]
     },
     "execution_count": 7,
     "metadata": {},
     "output_type": "execute_result"
    }
   ],
   "source": [
    "query_train.head(2)\n"
   ]
  },
  {
   "cell_type": "code",
   "execution_count": 8,
   "metadata": {},
   "outputs": [
    {
     "name": "stdout",
     "output_type": "stream",
     "text": [
      "0 Have None in 1 values? --> False\n",
      "1 Have None in 5 values? --> False\n",
      "2 Have None in 45 values? --> False\n",
      "3 Have None in 278 values? --> True\n",
      "4 Have None in 532 values? --> True\n"
     ]
    }
   ],
   "source": [
    "for i in range(5):\n",
    "    print(\n",
    "        i,\n",
    "        \"Have None in %d values? --> %s\"\n",
    "        % (query_train[i].nunique(), (None in query_train[i].unique())),\n",
    "    )\n"
   ]
  },
  {
   "attachments": {},
   "cell_type": "markdown",
   "metadata": {},
   "source": [
    "2 колонка разбивается на категории без Нан значений. \n",
    "Таким образом мы будем использовать 45 уникальных категорий"
   ]
  },
  {
   "cell_type": "code",
   "execution_count": 9,
   "metadata": {},
   "outputs": [],
   "source": [
    "train[\"category_name\"] = query_train[2]"
   ]
  },
  {
   "attachments": {},
   "cell_type": "markdown",
   "metadata": {},
   "source": [
    "Прописываем название изображения в колонке product_id в формате 1.jpg"
   ]
  },
  {
   "cell_type": "code",
   "execution_count": 10,
   "metadata": {},
   "outputs": [],
   "source": [
    "train[\"product_id\"] = train[\"product_id\"].apply(lambda x: str(x) + \".jpg\")"
   ]
  },
  {
   "cell_type": "code",
   "execution_count": 11,
   "metadata": {},
   "outputs": [],
   "source": [
    "# НЕ ПОДОШЛО - перевод колонки в JSON и нормализация по столбцу выдает неверные значения (Оставлено для истории)\n",
    "\n",
    "# Колонка text_fields содержит значения. Поэтому разбиваем их в датафрейм\n",
    "# df_json1 = pd.json_normalize(train[\"text_fields\"].apply(json.loads).apply(lambda x: x['title']))\n",
    "# Чтобы заменить все невложенные HTML теги на пробелы в столбце description\n",
    "# df_json1[\"description\"] = df_json1[\"description\"].str.replace(r\"\\<[^\\>]*\\>\", \" \")\n",
    "# Объединяем df\n",
    "# train = train.join(df_json1)\n",
    "# Давайте посмотрим на перетасованные данные, которые будут использоваться для предварительной обработки данных.\n",
    "# удалены все столбцы, в которых количество не-NaN элементов меньше 50.\n",
    "# train = train.dropna(axis=1, thresh=50)\n",
    "# НИЖНИЙ РЕЗУЛЬТАТ БЫЛ НЕ ВЕРЕН\n",
    "# train.query(\"product_id == '201.jpg'\")\n"
   ]
  },
  {
   "cell_type": "code",
   "execution_count": 12,
   "metadata": {},
   "outputs": [],
   "source": [
    "col_tf = train[\"text_fields\"].apply(\n",
    "    json.loads)[0].keys()"
   ]
  },
  {
   "cell_type": "code",
   "execution_count": 13,
   "metadata": {},
   "outputs": [
    {
     "data": {
      "text/plain": [
       "dict_keys(['title', 'description', 'attributes', 'custom_characteristics', 'defined_characteristics', 'filters'])"
      ]
     },
     "execution_count": 13,
     "metadata": {},
     "output_type": "execute_result"
    }
   ],
   "source": [
    "col_tf"
   ]
  },
  {
   "cell_type": "code",
   "execution_count": 14,
   "metadata": {},
   "outputs": [],
   "source": [
    "# Колонка text_fields содержит значения в json формате.  Необходимая колонка это 'title'\n",
    "for col in col_tf:\n",
    "    train[col] = train[\"text_fields\"].apply(\n",
    "    json.loads).apply(lambda x: x[col])\n"
   ]
  },
  {
   "attachments": {},
   "cell_type": "markdown",
   "metadata": {
    "colab_type": "text",
    "id": "rExIs2ZYQIRU"
   },
   "source": [
    "***Вывод***: важные столбцы\n",
    "- Первый столбец - это названия изображений продуктов 'product_id', которые мы будет использовать для чтения изображений, \n",
    "- 2-й - категория продукта 'category name', а \n",
    "- последний столбец - это название продукта 'title'. "
   ]
  },
  {
   "cell_type": "code",
   "execution_count": 15,
   "metadata": {},
   "outputs": [],
   "source": [
    "train = train.drop(columns=['text_fields'],axis = 1)"
   ]
  },
  {
   "cell_type": "code",
   "execution_count": 16,
   "metadata": {},
   "outputs": [
    {
     "data": {
      "text/html": [
       "<div>\n",
       "<style scoped>\n",
       "    .dataframe tbody tr th:only-of-type {\n",
       "        vertical-align: middle;\n",
       "    }\n",
       "\n",
       "    .dataframe tbody tr th {\n",
       "        vertical-align: top;\n",
       "    }\n",
       "\n",
       "    .dataframe thead th {\n",
       "        text-align: right;\n",
       "    }\n",
       "</style>\n",
       "<table border=\"1\" class=\"dataframe\">\n",
       "  <thead>\n",
       "    <tr style=\"text-align: right;\">\n",
       "      <th></th>\n",
       "      <th>product_id</th>\n",
       "      <th>category_id</th>\n",
       "      <th>sale</th>\n",
       "      <th>shop_id</th>\n",
       "      <th>shop_title</th>\n",
       "      <th>rating</th>\n",
       "      <th>category_name</th>\n",
       "      <th>title</th>\n",
       "      <th>description</th>\n",
       "      <th>attributes</th>\n",
       "      <th>custom_characteristics</th>\n",
       "      <th>defined_characteristics</th>\n",
       "      <th>filters</th>\n",
       "    </tr>\n",
       "  </thead>\n",
       "  <tbody>\n",
       "    <tr>\n",
       "      <th>0</th>\n",
       "      <td>325286.jpg</td>\n",
       "      <td>12171</td>\n",
       "      <td>False</td>\n",
       "      <td>9031</td>\n",
       "      <td>Aksik</td>\n",
       "      <td>5.0</td>\n",
       "      <td>Смартфоны и телефоны</td>\n",
       "      <td>Зарядный кабель Borofone BX1 Lightning для айф...</td>\n",
       "      <td>&lt;p&gt;&lt;span style=\"background-color: transparent;...</td>\n",
       "      <td>[Длина: 1м, Разъем: Lightning, Подерживает быс...</td>\n",
       "      <td>{}</td>\n",
       "      <td>{'Цвет': ['Черный', 'Белый']}</td>\n",
       "      <td>{'Цвет': ['Белый', 'Черный']}</td>\n",
       "    </tr>\n",
       "  </tbody>\n",
       "</table>\n",
       "</div>"
      ],
      "text/plain": [
       "   product_id  category_id   sale  shop_id shop_title  rating  \\\n",
       "0  325286.jpg        12171  False     9031      Aksik     5.0   \n",
       "\n",
       "          category_name                                              title  \\\n",
       "0  Смартфоны и телефоны  Зарядный кабель Borofone BX1 Lightning для айф...   \n",
       "\n",
       "                                         description  \\\n",
       "0  <p><span style=\"background-color: transparent;...   \n",
       "\n",
       "                                          attributes custom_characteristics  \\\n",
       "0  [Длина: 1м, Разъем: Lightning, Подерживает быс...                     {}   \n",
       "\n",
       "         defined_characteristics                        filters  \n",
       "0  {'Цвет': ['Черный', 'Белый']}  {'Цвет': ['Белый', 'Черный']}  "
      ]
     },
     "execution_count": 16,
     "metadata": {},
     "output_type": "execute_result"
    }
   ],
   "source": [
    "train.head(1)"
   ]
  },
  {
   "cell_type": "code",
   "execution_count": 15,
   "metadata": {
    "colab": {},
    "colab_type": "code",
    "id": "QI5bUp3EL9k3"
   },
   "outputs": [],
   "source": [
    "# Случайно перетасовать данные\n",
    "# train = shuffle(train)\n",
    "# train = train.reset_index(drop=True)\n"
   ]
  },
  {
   "cell_type": "code",
   "execution_count": 16,
   "metadata": {},
   "outputs": [],
   "source": [
    "# import os\n",
    "# from PIL import Image\n",
    "\n",
    "# # https://github.com/python-pillow/Pillow/issues/4574\n",
    "# # Сохраним сжатые картинки в лучшем качестве в папке images/train_PIL\n",
    "# # Расположение извлеченных изображений\n",
    "# path = \"images/train\"\n",
    "# train_images = []  # Создание пустого списка для сохранения изображений\n",
    "# path_output = \"images/train_PIL\"\n",
    "\n",
    "# for img in tqdm(\n",
    "#     train[\"product_id\"]\n",
    "# ):  # Итерация над всеми именами изображений в train ['product_id'] для чтения изображений\n",
    "#     final_path = os.path.join(\n",
    "#         path, img\n",
    "#     )  # Присоединение пути с изображениями, чтобы получить полный путь изображений\n",
    "#     final_path2 = os.path.join(\n",
    "#         path_output, img\n",
    "#     )\n",
    "#     # Чтение изображений с использованием PILLOW\n",
    "#     img = Image.open(final_path)\n",
    "\n",
    "#     img.resize((WIDTH, WIDTH), Image.ANTIALIAS)  # Width: 64, Height: 64\n",
    "#     img.save(final_path2, quality=100)\n",
    "# im = Image.open(\"images/train/120.jpg\")\n",
    "# im.size"
   ]
  },
  {
   "cell_type": "code",
   "execution_count": 20,
   "metadata": {
    "colab": {
     "base_uri": "https://localhost:8080/",
     "height": 50
    },
    "colab_type": "code",
    "id": "oOXdstGGS6u3",
    "outputId": "7a7a5090-26a0-4195-e3d5-972ae0cd7c8a"
   },
   "outputs": [
    {
     "data": {
      "application/vnd.jupyter.widget-view+json": {
       "model_id": "640f3b7566c14395b7003c6829c99131",
       "version_major": 2,
       "version_minor": 0
      },
      "text/plain": [
       "  0%|          | 0/91120 [00:00<?, ?it/s]"
      ]
     },
     "metadata": {},
     "output_type": "display_data"
    },
    {
     "ename": "KeyboardInterrupt",
     "evalue": "",
     "output_type": "error",
     "traceback": [
      "\u001b[0;31m---------------------------------------------------------------------------\u001b[0m",
      "\u001b[0;31mKeyboardInterrupt\u001b[0m                         Traceback (most recent call last)",
      "\u001b[0;32m<ipython-input-20-c92a4e1d2929>\u001b[0m in \u001b[0;36m<module>\u001b[0;34m\u001b[0m\n\u001b[1;32m     35\u001b[0m \u001b[0;34m\u001b[0m\u001b[0m\n\u001b[1;32m     36\u001b[0m \u001b[0;34m\u001b[0m\u001b[0m\n\u001b[0;32m---> 37\u001b[0;31m \u001b[0mcreate_train\u001b[0m\u001b[0;34m(\u001b[0m\u001b[0;34m)\u001b[0m  \u001b[0;31m# Теперь вызов нашей функции создания, чтобы получить список\u001b[0m\u001b[0;34m\u001b[0m\u001b[0m\n\u001b[0m",
      "\u001b[0;32m<ipython-input-20-c92a4e1d2929>\u001b[0m in \u001b[0;36mcreate_train\u001b[0;34m()\u001b[0m\n\u001b[1;32m     20\u001b[0m         \u001b[0;31m# # Convert RGB to BGR\u001b[0m\u001b[0;34m\u001b[0m\u001b[0;34m\u001b[0m\u001b[0m\n\u001b[1;32m     21\u001b[0m         \u001b[0;31m# img_arr = open_cv_image[:, :, ::-1].copy()\u001b[0m\u001b[0;34m\u001b[0m\u001b[0;34m\u001b[0m\u001b[0m\n\u001b[0;32m---> 22\u001b[0;31m         \u001b[0mtrain_img\u001b[0m \u001b[0;34m=\u001b[0m \u001b[0mcv2\u001b[0m\u001b[0;34m.\u001b[0m\u001b[0mimread\u001b[0m\u001b[0;34m(\u001b[0m\u001b[0mfinal_path\u001b[0m\u001b[0;34m)\u001b[0m  \u001b[0;31m## reading images using cv2\u001b[0m\u001b[0;34m\u001b[0m\u001b[0m\n\u001b[0m\u001b[1;32m     23\u001b[0m \u001b[0;34m\u001b[0m\u001b[0m\n\u001b[1;32m     24\u001b[0m         \u001b[0;31m# Чтение изображений с использованием CV2 BAD QUALITY\u001b[0m\u001b[0;34m\u001b[0m\u001b[0;34m\u001b[0m\u001b[0m\n",
      "\u001b[0;31mKeyboardInterrupt\u001b[0m: "
     ]
    }
   ],
   "source": [
    "import os\n",
    "from PIL import Image\n",
    "\n",
    "# Расположение извлеченных изображений\n",
    "path = \"images/train\"\n",
    "train_images = []  # Создание пустого списка для сохранения изображений\n",
    "\n",
    "\n",
    "def create_train():  # Определение функции для создания обучающих данных по изображениям.\n",
    "    # Итерация над всеми именами изображений в train ['product_id'] для чтения изображений\n",
    "    for img in tqdm(train[\"product_id\"]):\n",
    "        # Присоединение пути с изображениями, чтобы получить полный путь изображений\n",
    "        final_path = os.path.join(path, img)\n",
    "\n",
    "        # Чтение изображений с использованием PILLOW\n",
    "        # img = Image.open(final_path)\n",
    "\n",
    "        # pil_image = img.convert('RGB')\n",
    "        # pil_image = np.array(pil_image) / 255 # Normalize data\n",
    "        # # Convert RGB to BGR\n",
    "        # img_arr = open_cv_image[:, :, ::-1].copy()\n",
    "        train_img = cv2.imread(final_path)  ## reading images using cv2\n",
    "\n",
    "        # Чтение изображений с использованием CV2 BAD QUALITY\n",
    "        # train_img = cv2.imread(final_path)\n",
    "        # #Мы изменим размер наших изображений, чтобы стать изображениями (WIDTH,WIDTH). Интерполяцию выбираем INTER_AREA, дольше но четче изображения\n",
    "        # Сохранение измененного изображения в списке Train_images.Этот процесс повторился, пока мы не достигнем последнего имени изображения.\n",
    "        img_arr = cv2.resize(\n",
    "            train_img,\n",
    "            (WIDTH, WIDTH),\n",
    "            interpolation=cv2.INTER_AREA,\n",
    "        )\n",
    "\n",
    "        train_images.append(img_arr)\n",
    "\n",
    "\n",
    "create_train()  # Теперь вызов нашей функции создания, чтобы получить список"
   ]
  },
  {
   "cell_type": "code",
   "execution_count": 18,
   "metadata": {},
   "outputs": [
    {
     "data": {
      "text/plain": [
       "<matplotlib.image.AxesImage at 0x7fc93007c080>"
      ]
     },
     "execution_count": 18,
     "metadata": {},
     "output_type": "execute_result"
    },
    {
     "data": {
      "image/png": "[encoded data removed]",
      "text/plain": [
       "<Figure size 432x288 with 1 Axes>"
      ]
     },
     "metadata": {
      "needs_background": "light"
     },
     "output_type": "display_data"
    }
   ],
   "source": [
    "plt.imshow(train_images[10])\n"
   ]
  },
  {
   "cell_type": "code",
   "execution_count": 19,
   "metadata": {},
   "outputs": [
    {
     "data": {
      "text/plain": [
       "45"
      ]
     },
     "execution_count": 19,
     "metadata": {},
     "output_type": "execute_result"
    }
   ],
   "source": [
    "train.category_name.nunique()"
   ]
  },
  {
   "attachments": {},
   "cell_type": "markdown",
   "metadata": {
    "colab_type": "text",
    "id": "gpv8RPVsTknM"
   },
   "source": [
    "У нас не нан 45 уникальных категорий товара"
   ]
  },
  {
   "cell_type": "code",
   "execution_count": 20,
   "metadata": {
    "colab": {},
    "colab_type": "code",
    "id": "nvh0Y4RYbkaa"
   },
   "outputs": [],
   "source": [
    "# Создание численных меток category_name в наших данных\n",
    "train[\"category_name\"] = train[\"category_name\"].astype(\"category\")\n",
    "train[\"uniq_labels\"] = train[\"category_name\"].cat.codes"
   ]
  },
  {
   "attachments": {},
   "cell_type": "markdown",
   "metadata": {
    "colab_type": "text",
    "id": "gWrcxWKkUAss"
   },
   "source": [
    "У нас сейчас есть численные labels для работы"
   ]
  },
  {
   "cell_type": "code",
   "execution_count": 21,
   "metadata": {
    "colab": {
     "base_uri": "https://localhost:8080/",
     "height": 591
    },
    "colab_type": "code",
    "id": "99yTdBzxe9Hg",
    "outputId": "0e096756-bda4-458a-c01f-062ea8e9cf54"
   },
   "outputs": [
    {
     "name": "stderr",
     "output_type": "stream",
     "text": [
      "/home/voland/anaconda3/envs/rtx_3060/lib/python3.6/site-packages/seaborn/_decorators.py:43: FutureWarning: Pass the following variable as a keyword arg: x. From version 0.12, the only valid positional argument will be `data`, and passing other arguments without an explicit keyword will result in an error or misinterpretation.\n",
      "  FutureWarning\n"
     ]
    },
    {
     "data": {
      "text/plain": [
       "<AxesSubplot:xlabel='labels', ylabel='count'>"
      ]
     },
     "execution_count": 21,
     "metadata": {},
     "output_type": "execute_result"
    },
    {
     "data": {
      "image/png": "[encoded data removed]",
      "text/plain": [
       "<Figure size 720x720 with 1 Axes>"
      ]
     },
     "metadata": {
      "needs_background": "light"
     },
     "output_type": "display_data"
    }
   ],
   "source": [
    "# Let's have a look at the label distribution\n",
    "plt.figure(figsize=(10, 10))\n",
    "sns.countplot(train[\"uniq_labels\"])"
   ]
  },
  {
   "attachments": {},
   "cell_type": "markdown",
   "metadata": {
    "colab_type": "text",
    "id": "r0gQL4twUQBF"
   },
   "source": [
    "Как вы можете видеть, на labels 28 произошло больше всего количества раз, что составляет около 14000. Есть много labels, которые происходят менее чем в 1000 раз.Есть 12 labels, которые происходили более 2000 раз. \n",
    "\n",
    "Надо решить задачу многоклассовой классификации. В качестве метрики для задания выбран взвешенный F1-score"
   ]
  },
  {
   "cell_type": "code",
   "execution_count": 24,
   "metadata": {},
   "outputs": [
    {
     "data": {
      "text/plain": [
       "874"
      ]
     },
     "execution_count": 24,
     "metadata": {},
     "output_type": "execute_result"
    }
   ],
   "source": [
    "train[\"category_id\"].nunique()"
   ]
  },
  {
   "cell_type": "code",
   "execution_count": 17,
   "metadata": {
    "colab": {},
    "colab_type": "code",
    "id": "Gkm-AWw8eJQA"
   },
   "outputs": [],
   "source": [
    "# Теперь давайте создадим множество тренировочных лейблов.\n",
    "train_labels = train[\"category_id\"]\n",
    "train = train.drop(columns=['category_id'],axis = 1)\n",
    "train_labels = np.array(train_labels)"
   ]
  },
  {
   "cell_type": "code",
   "execution_count": 18,
   "metadata": {
    "colab": {
     "base_uri": "https://localhost:8080/",
     "height": 34
    },
    "colab_type": "code",
    "id": "li5Np8CKgUTk",
    "outputId": "eef40eb4-5f74-4ff8-c4da-9c71747cae25"
   },
   "outputs": [
    {
     "data": {
      "text/plain": [
       "(91120,)"
      ]
     },
     "execution_count": 18,
     "metadata": {},
     "output_type": "execute_result"
    }
   ],
   "source": [
    "train_labels.shape\n"
   ]
  },
  {
   "cell_type": "code",
   "execution_count": 19,
   "metadata": {
    "colab": {},
    "colab_type": "code",
    "id": "vATj7xkbnLfL"
   },
   "outputs": [],
   "source": [
    "# Изменить Training_label для получения соответствующего формата\n",
    "train_labels = train_labels.reshape(train_labels.shape[0], -1)\n"
   ]
  },
  {
   "cell_type": "code",
   "execution_count": 20,
   "metadata": {
    "colab": {
     "base_uri": "https://localhost:8080/",
     "height": 34
    },
    "colab_type": "code",
    "id": "e15PvF9EnLbY",
    "outputId": "3e792b7d-9497-4933-ffa0-28a98bca63bf"
   },
   "outputs": [
    {
     "data": {
      "text/plain": [
       "(91120, 1)"
      ]
     },
     "execution_count": 20,
     "metadata": {},
     "output_type": "execute_result"
    }
   ],
   "source": [
    "train_labels.shape\n"
   ]
  },
  {
   "cell_type": "code",
   "execution_count": 23,
   "metadata": {},
   "outputs": [
    {
     "data": {
      "text/plain": [
       "91120"
      ]
     },
     "execution_count": 23,
     "metadata": {},
     "output_type": "execute_result"
    }
   ],
   "source": [
    "np.unique(train_labels)"
   ]
  },
  {
   "attachments": {},
   "cell_type": "markdown",
   "metadata": {
    "colab_type": "text",
    "id": "NbAlwi8vYZUP"
   },
   "source": [
    "У нас 874 labels. Следовательно, нам нужно one-hot encoding, чтобы сделать классификацию"
   ]
  },
  {
   "cell_type": "code",
   "execution_count": 27,
   "metadata": {
    "colab": {},
    "colab_type": "code",
    "id": "V5g20bpznLYs"
   },
   "outputs": [],
   "source": [
    "# np.eye() Создаст матрицу идентификации, которая будет использовать учебные labels в качестве индекса для\n",
    "# one-hot представление.Например, если каждый раз labels 0 появляется первым столбцом, будет одним еще ноль.Ограничительно для других классов.\n",
    "train_labels = np.eye(874)[train_labels.reshape(-1)]"
   ]
  },
  {
   "cell_type": "code",
   "execution_count": 28,
   "metadata": {
    "colab": {
     "base_uri": "https://localhost:8080/",
     "height": 34
    },
    "colab_type": "code",
    "id": "KkqtWmRinLWL",
    "outputId": "89a28a8a-b43c-457f-8229-7b96931f285e"
   },
   "outputs": [
    {
     "data": {
      "text/plain": [
       "(91120, 45)"
      ]
     },
     "execution_count": 28,
     "metadata": {},
     "output_type": "execute_result"
    }
   ],
   "source": [
    "train_labels.shape\n"
   ]
  },
  {
   "cell_type": "markdown",
   "metadata": {
    "colab_type": "text",
    "id": "IUWauj5gciUO"
   },
   "source": [
    "Now we have one hot encoding of labels "
   ]
  },
  {
   "cell_type": "code",
   "execution_count": 29,
   "metadata": {
    "colab": {
     "base_uri": "https://localhost:8080/",
     "height": 134
    },
    "colab_type": "code",
    "id": "_oVtbkNwnu7x",
    "outputId": "c4bf5d1b-2d4e-49f1-b922-04756f26ad7e"
   },
   "outputs": [
    {
     "data": {
      "text/plain": [
       "array([[0., 0., 0., ..., 0., 0., 0.],\n",
       "       [0., 0., 0., ..., 0., 0., 0.],\n",
       "       [0., 0., 0., ..., 0., 0., 0.],\n",
       "       ...,\n",
       "       [0., 0., 0., ..., 0., 0., 0.],\n",
       "       [0., 0., 0., ..., 0., 0., 0.],\n",
       "       [0., 0., 0., ..., 0., 0., 0.]])"
      ]
     },
     "execution_count": 29,
     "metadata": {},
     "output_type": "execute_result"
    }
   ],
   "source": [
    "train_labels\n"
   ]
  },
  {
   "attachments": {},
   "cell_type": "markdown",
   "metadata": {
    "colab_type": "text",
    "id": "1jbOjGJCcq_L"
   },
   "source": [
    "Мы сохранили изображения в списке.Но для запуска алгоритмов поверх наших данных нам нужен массив формы, подобной (нет, высота, ширина, каналы).Там, где никто не является чем -то иным, как представлением количества изображений, высота и ширина - это размер изображения (пиксели), а каналы используются для представления изображений Graysacale или RGB.Если это изображение серого, то это будет 1, если изображение будет RGB, то канал будет 3. Таким образом, мы преобразуем наши данные изображения в этом формате."
   ]
  },
  {
   "cell_type": "code",
   "execution_count": 30,
   "metadata": {},
   "outputs": [
    {
     "data": {
      "text/plain": [
       "91120"
      ]
     },
     "execution_count": 30,
     "metadata": {},
     "output_type": "execute_result"
    }
   ],
   "source": [
    "len(train_images)"
   ]
  },
  {
   "cell_type": "code",
   "execution_count": 31,
   "metadata": {},
   "outputs": [],
   "source": [
    "# Преобразование наших данных train_images из списка в массив\n",
    "# Наши данные занимают много места в Оперативной памяти поэтом используем np.memmap\n",
    "# https://stackoverflow.com/questions/16149803/working-with-big-data-in-python-and-numpy-not-enough-ram-how-to-save-partial-r\n",
    "# https://stackoverflow.com/questions/67736180/numpy-memory-error-converting-a-big-dataset-from-list-to-numpy-array\n",
    "# train_images = np.array(train_images)"
   ]
  },
  {
   "cell_type": "code",
   "execution_count": 32,
   "metadata": {},
   "outputs": [],
   "source": [
    "train_images_memmap = np.memmap(\n",
    "    \"train_images.mymemmap\", dtype=\"float32\", mode=\"w+\", shape=(91120, WIDTH, WIDTH, 3)\n",
    ")\n"
   ]
  },
  {
   "cell_type": "code",
   "execution_count": 33,
   "metadata": {},
   "outputs": [],
   "source": [
    "train_images_memmap[:] = train_images[:]  # 2 min wait\n"
   ]
  },
  {
   "attachments": {},
   "cell_type": "markdown",
   "metadata": {},
   "source": [
    "Нормализация данных путем деления 255. Причина деления 255 заключается в том, что значение пикселя колеблется от 0 до 255. Это даст нам значения от 0 до 1."
   ]
  },
  {
   "cell_type": "code",
   "execution_count": 34,
   "metadata": {},
   "outputs": [],
   "source": [
    "train_images_memmap = train_images_memmap / 255"
   ]
  },
  {
   "cell_type": "code",
   "execution_count": 35,
   "metadata": {},
   "outputs": [],
   "source": [
    "del train_images"
   ]
  },
  {
   "cell_type": "code",
   "execution_count": 36,
   "metadata": {},
   "outputs": [
    {
     "data": {
      "text/plain": [
       "array([[[0.8862745 , 0.90588236, 0.9019608 ],\n",
       "        [0.8862745 , 0.90588236, 0.9019608 ],\n",
       "        [0.8862745 , 0.90588236, 0.9019608 ],\n",
       "        ...,\n",
       "        [0.89411765, 0.9137255 , 0.9098039 ],\n",
       "        [0.89411765, 0.9137255 , 0.9098039 ],\n",
       "        [0.89411765, 0.9137255 , 0.9098039 ]],\n",
       "\n",
       "       [[0.8862745 , 0.90588236, 0.9019608 ],\n",
       "        [0.8862745 , 0.90588236, 0.9019608 ],\n",
       "        [0.8862745 , 0.90588236, 0.9019608 ],\n",
       "        ...,\n",
       "        [0.89411765, 0.9137255 , 0.9098039 ],\n",
       "        [0.89411765, 0.9137255 , 0.9098039 ],\n",
       "        [0.89411765, 0.9137255 , 0.9098039 ]],\n",
       "\n",
       "       [[0.8862745 , 0.90588236, 0.9019608 ],\n",
       "        [0.8862745 , 0.90588236, 0.9019608 ],\n",
       "        [0.8862745 , 0.90588236, 0.9019608 ],\n",
       "        ...,\n",
       "        [0.89411765, 0.9137255 , 0.9098039 ],\n",
       "        [0.89411765, 0.9137255 , 0.9098039 ],\n",
       "        [0.89411765, 0.9137255 , 0.9098039 ]],\n",
       "\n",
       "       ...,\n",
       "\n",
       "       [[0.89411765, 0.9137255 , 0.9098039 ],\n",
       "        [0.89411765, 0.9137255 , 0.9098039 ],\n",
       "        [0.89411765, 0.9137255 , 0.9098039 ],\n",
       "        ...,\n",
       "        [0.52156866, 0.63529414, 0.8392157 ],\n",
       "        [0.49411765, 0.6       , 0.827451  ],\n",
       "        [0.49411765, 0.59607846, 0.8352941 ]],\n",
       "\n",
       "       [[0.9019608 , 0.92156863, 0.91764706],\n",
       "        [0.9019608 , 0.92156863, 0.91764706],\n",
       "        [0.9019608 , 0.92156863, 0.91764706],\n",
       "        ...,\n",
       "        [0.5019608 , 0.6156863 , 0.8235294 ],\n",
       "        [0.4862745 , 0.5882353 , 0.8156863 ],\n",
       "        [0.4627451 , 0.5647059 , 0.8039216 ]],\n",
       "\n",
       "       [[0.9019608 , 0.92156863, 0.91764706],\n",
       "        [0.9019608 , 0.92156863, 0.91764706],\n",
       "        [0.9019608 , 0.92156863, 0.91764706],\n",
       "        ...,\n",
       "        [0.5019608 , 0.6156863 , 0.8235294 ],\n",
       "        [0.4862745 , 0.5882353 , 0.8156863 ],\n",
       "        [0.4627451 , 0.5647059 , 0.8039216 ]]], dtype=float32)"
      ]
     },
     "execution_count": 36,
     "metadata": {},
     "output_type": "execute_result"
    }
   ],
   "source": [
    "train_images_memmap[1]"
   ]
  },
  {
   "cell_type": "code",
   "execution_count": 37,
   "metadata": {
    "colab": {
     "base_uri": "https://localhost:8080/",
     "height": 34
    },
    "colab_type": "code",
    "id": "N1fgNXg8ff4a",
    "outputId": "64fc4112-9eaa-48ab-b9cf-9d3b3722fc54"
   },
   "outputs": [
    {
     "data": {
      "text/plain": [
       "(91120, 128, 128, 3)"
      ]
     },
     "execution_count": 37,
     "metadata": {},
     "output_type": "execute_result"
    }
   ],
   "source": [
    "train_images_memmap.shape\n"
   ]
  },
  {
   "attachments": {},
   "cell_type": "markdown",
   "metadata": {
    "colab_type": "text",
    "id": "ofdOtuDgd898"
   },
   "source": [
    "Теперь у нас есть подходящий формат данных изображения для запуска алгоритмов.На следующем шаге мы разделим наши данные на обучение и тестирование"
   ]
  },
  {
   "cell_type": "code",
   "execution_count": 38,
   "metadata": {
    "colab": {},
    "colab_type": "code",
    "id": "F8t3AyfVBlNe"
   },
   "outputs": [],
   "source": [
    "X_train = train_images_memmap[0:80000, :, :, :]\n",
    "Y_train = train_labels[0:80000, :]\n",
    "X_test = train_images_memmap[80000:, :]\n",
    "Y_test = train_labels[80000:, :]"
   ]
  },
  {
   "cell_type": "code",
   "execution_count": 39,
   "metadata": {
    "colab": {
     "base_uri": "https://localhost:8080/",
     "height": 34
    },
    "colab_type": "code",
    "id": "jC4sAFCLRRJC",
    "outputId": "333aa145-89e9-4009-b453-0d6737be9e6a"
   },
   "outputs": [
    {
     "data": {
      "text/plain": [
       "(80000, 128, 128, 3)"
      ]
     },
     "execution_count": 39,
     "metadata": {},
     "output_type": "execute_result"
    }
   ],
   "source": [
    "X_train.shape\n"
   ]
  },
  {
   "cell_type": "code",
   "execution_count": 40,
   "metadata": {
    "colab": {
     "base_uri": "https://localhost:8080/",
     "height": 34
    },
    "colab_type": "code",
    "id": "aJZyjKmrRUoj",
    "outputId": "fd64b0c5-2624-4ac3-98a4-83d63ee66649"
   },
   "outputs": [
    {
     "data": {
      "text/plain": [
       "(80000, 45)"
      ]
     },
     "execution_count": 40,
     "metadata": {},
     "output_type": "execute_result"
    }
   ],
   "source": [
    "Y_train.shape\n"
   ]
  },
  {
   "cell_type": "code",
   "execution_count": 41,
   "metadata": {},
   "outputs": [
    {
     "data": {
      "text/html": [
       "<div>\n",
       "<style scoped>\n",
       "    .dataframe tbody tr th:only-of-type {\n",
       "        vertical-align: middle;\n",
       "    }\n",
       "\n",
       "    .dataframe tbody tr th {\n",
       "        vertical-align: top;\n",
       "    }\n",
       "\n",
       "    .dataframe thead th {\n",
       "        text-align: right;\n",
       "    }\n",
       "</style>\n",
       "<table border=\"1\" class=\"dataframe\">\n",
       "  <thead>\n",
       "    <tr style=\"text-align: right;\">\n",
       "      <th></th>\n",
       "      <th>product_id</th>\n",
       "      <th>title</th>\n",
       "      <th>category_name</th>\n",
       "      <th>labels</th>\n",
       "    </tr>\n",
       "  </thead>\n",
       "  <tbody>\n",
       "    <tr>\n",
       "      <th>0</th>\n",
       "      <td>325286.jpg</td>\n",
       "      <td>Зарядный кабель Borofone BX1 Lightning для айф...</td>\n",
       "      <td>Смартфоны и телефоны</td>\n",
       "      <td>28</td>\n",
       "    </tr>\n",
       "    <tr>\n",
       "      <th>1</th>\n",
       "      <td>888134.jpg</td>\n",
       "      <td>Трусы Sela</td>\n",
       "      <td>Женская одежда</td>\n",
       "      <td>6</td>\n",
       "    </tr>\n",
       "    <tr>\n",
       "      <th>3</th>\n",
       "      <td>1267173.jpg</td>\n",
       "      <td>Гуашь \"ЮНЫЙ ВОЛШЕБНИК\", 12 цветов по 35 мл, БО...</td>\n",
       "      <td>Рисование</td>\n",
       "      <td>25</td>\n",
       "    </tr>\n",
       "    <tr>\n",
       "      <th>4</th>\n",
       "      <td>1416943.jpg</td>\n",
       "      <td>Колба для кальяна Крафт (разные цвета)</td>\n",
       "      <td>Товары для курения</td>\n",
       "      <td>36</td>\n",
       "    </tr>\n",
       "    <tr>\n",
       "      <th>5</th>\n",
       "      <td>1058275.jpg</td>\n",
       "      <td>Пижама женская, однотонная с шортами</td>\n",
       "      <td>Женская одежда</td>\n",
       "      <td>6</td>\n",
       "    </tr>\n",
       "  </tbody>\n",
       "</table>\n",
       "</div>"
      ],
      "text/plain": [
       "    product_id                                              title  \\\n",
       "0   325286.jpg  Зарядный кабель Borofone BX1 Lightning для айф...   \n",
       "1   888134.jpg                                         Трусы Sela   \n",
       "3  1267173.jpg  Гуашь \"ЮНЫЙ ВОЛШЕБНИК\", 12 цветов по 35 мл, БО...   \n",
       "4  1416943.jpg             Колба для кальяна Крафт (разные цвета)   \n",
       "5  1058275.jpg               Пижама женская, однотонная с шортами   \n",
       "\n",
       "          category_name  labels  \n",
       "0  Смартфоны и телефоны      28  \n",
       "1        Женская одежда       6  \n",
       "3             Рисование      25  \n",
       "4    Товары для курения      36  \n",
       "5        Женская одежда       6  "
      ]
     },
     "execution_count": 41,
     "metadata": {},
     "output_type": "execute_result"
    }
   ],
   "source": [
    "train.head(5)\n"
   ]
  },
  {
   "cell_type": "code",
   "execution_count": 42,
   "metadata": {
    "colab": {
     "base_uri": "https://localhost:8080/",
     "height": 335
    },
    "colab_type": "code",
    "id": "JK2ZM_CWUAB1",
    "outputId": "fdde3197-476c-4554-d95a-446874462632"
   },
   "outputs": [
    {
     "name": "stdout",
     "output_type": "stream",
     "text": [
      "[0. 0. 0. 0. 0. 0. 1. 0. 0. 0. 0. 0. 0. 0. 0. 0. 0. 0. 0. 0. 0. 0. 0. 0.\n",
      " 0. 0. 0. 0. 0. 0. 0. 0. 0. 0. 0. 0. 0. 0. 0. 0. 0. 0. 0. 0. 0.]\n",
      "Женская одежда\n",
      "Трусы Sela\n"
     ]
    },
    {
     "data": {
      "image/png": "[encoded data removed]",
      "text/plain": [
       "<Figure size 432x288 with 1 Axes>"
      ]
     },
     "metadata": {
      "needs_background": "light"
     },
     "output_type": "display_data"
    }
   ],
   "source": [
    "# Давайте посмотрим на одно изображение\n",
    "n_image = 1\n",
    "plt.imshow(train_images_memmap[n_image])\n",
    "print(train_labels[n_image])\n",
    "print(train[\"category_name\"].iloc[n_image])\n",
    "print(train[\"title\"].iloc[n_image])\n"
   ]
  },
  {
   "attachments": {},
   "cell_type": "markdown",
   "metadata": {
    "colab_type": "text",
    "id": "QZ61Kg2leyuf"
   },
   "source": [
    "Нормализация данных путем деления 255. Причина деления 255 заключается в том, что значение пикселя колеблется от 0 до 255. Это даст нам значения от 0 до 1."
   ]
  },
  {
   "cell_type": "code",
   "execution_count": 43,
   "metadata": {},
   "outputs": [
    {
     "data": {
      "text/plain": [
       "array([[[[0.9411765 , 0.9411765 , 0.9411765 ],\n",
       "         [0.9411765 , 0.9411765 , 0.9411765 ],\n",
       "         [0.9411765 , 0.9411765 , 0.9411765 ],\n",
       "         ...,\n",
       "         [0.9411765 , 0.9411765 , 0.9411765 ],\n",
       "         [0.9411765 , 0.9411765 , 0.9411765 ],\n",
       "         [0.9411765 , 0.9411765 , 0.9411765 ]],\n",
       "\n",
       "        [[0.9411765 , 0.9411765 , 0.9411765 ],\n",
       "         [0.9411765 , 0.9411765 , 0.9411765 ],\n",
       "         [0.9411765 , 0.9411765 , 0.9411765 ],\n",
       "         ...,\n",
       "         [0.9411765 , 0.9411765 , 0.9411765 ],\n",
       "         [0.9411765 , 0.9411765 , 0.9411765 ],\n",
       "         [0.9411765 , 0.9411765 , 0.9411765 ]],\n",
       "\n",
       "        [[0.9411765 , 0.9411765 , 0.9411765 ],\n",
       "         [0.9411765 , 0.9411765 , 0.9411765 ],\n",
       "         [0.9411765 , 0.9411765 , 0.9411765 ],\n",
       "         ...,\n",
       "         [0.9411765 , 0.9411765 , 0.9411765 ],\n",
       "         [0.9411765 , 0.9411765 , 0.9411765 ],\n",
       "         [0.9411765 , 0.9411765 , 0.9411765 ]],\n",
       "\n",
       "        ...,\n",
       "\n",
       "        [[0.9411765 , 0.9411765 , 0.9411765 ],\n",
       "         [0.9411765 , 0.9411765 , 0.9411765 ],\n",
       "         [0.9411765 , 0.9411765 , 0.9411765 ],\n",
       "         ...,\n",
       "         [0.9411765 , 0.9411765 , 0.9411765 ],\n",
       "         [0.9411765 , 0.9411765 , 0.9411765 ],\n",
       "         [0.9411765 , 0.9411765 , 0.9411765 ]],\n",
       "\n",
       "        [[0.9411765 , 0.9411765 , 0.9411765 ],\n",
       "         [0.9411765 , 0.9411765 , 0.9411765 ],\n",
       "         [0.9411765 , 0.9411765 , 0.9411765 ],\n",
       "         ...,\n",
       "         [0.9411765 , 0.9411765 , 0.9411765 ],\n",
       "         [0.9411765 , 0.9411765 , 0.9411765 ],\n",
       "         [0.9411765 , 0.9411765 , 0.9411765 ]],\n",
       "\n",
       "        [[0.9411765 , 0.9411765 , 0.9411765 ],\n",
       "         [0.9411765 , 0.9411765 , 0.9411765 ],\n",
       "         [0.9411765 , 0.9411765 , 0.9411765 ],\n",
       "         ...,\n",
       "         [0.9411765 , 0.9411765 , 0.9411765 ],\n",
       "         [0.9411765 , 0.9411765 , 0.9411765 ],\n",
       "         [0.9411765 , 0.9411765 , 0.9411765 ]]],\n",
       "\n",
       "\n",
       "       [[[0.8862745 , 0.90588236, 0.9019608 ],\n",
       "         [0.8862745 , 0.90588236, 0.9019608 ],\n",
       "         [0.8862745 , 0.90588236, 0.9019608 ],\n",
       "         ...,\n",
       "         [0.89411765, 0.9137255 , 0.9098039 ],\n",
       "         [0.89411765, 0.9137255 , 0.9098039 ],\n",
       "         [0.89411765, 0.9137255 , 0.9098039 ]],\n",
       "\n",
       "        [[0.8862745 , 0.90588236, 0.9019608 ],\n",
       "         [0.8862745 , 0.90588236, 0.9019608 ],\n",
       "         [0.8862745 , 0.90588236, 0.9019608 ],\n",
       "         ...,\n",
       "         [0.89411765, 0.9137255 , 0.9098039 ],\n",
       "         [0.89411765, 0.9137255 , 0.9098039 ],\n",
       "         [0.89411765, 0.9137255 , 0.9098039 ]],\n",
       "\n",
       "        [[0.8862745 , 0.90588236, 0.9019608 ],\n",
       "         [0.8862745 , 0.90588236, 0.9019608 ],\n",
       "         [0.8862745 , 0.90588236, 0.9019608 ],\n",
       "         ...,\n",
       "         [0.89411765, 0.9137255 , 0.9098039 ],\n",
       "         [0.89411765, 0.9137255 , 0.9098039 ],\n",
       "         [0.89411765, 0.9137255 , 0.9098039 ]],\n",
       "\n",
       "        ...,\n",
       "\n",
       "        [[0.89411765, 0.9137255 , 0.9098039 ],\n",
       "         [0.89411765, 0.9137255 , 0.9098039 ],\n",
       "         [0.89411765, 0.9137255 , 0.9098039 ],\n",
       "         ...,\n",
       "         [0.52156866, 0.63529414, 0.8392157 ],\n",
       "         [0.49411765, 0.6       , 0.827451  ],\n",
       "         [0.49411765, 0.59607846, 0.8352941 ]],\n",
       "\n",
       "        [[0.9019608 , 0.92156863, 0.91764706],\n",
       "         [0.9019608 , 0.92156863, 0.91764706],\n",
       "         [0.9019608 , 0.92156863, 0.91764706],\n",
       "         ...,\n",
       "         [0.5019608 , 0.6156863 , 0.8235294 ],\n",
       "         [0.4862745 , 0.5882353 , 0.8156863 ],\n",
       "         [0.4627451 , 0.5647059 , 0.8039216 ]],\n",
       "\n",
       "        [[0.9019608 , 0.92156863, 0.91764706],\n",
       "         [0.9019608 , 0.92156863, 0.91764706],\n",
       "         [0.9019608 , 0.92156863, 0.91764706],\n",
       "         ...,\n",
       "         [0.5019608 , 0.6156863 , 0.8235294 ],\n",
       "         [0.4862745 , 0.5882353 , 0.8156863 ],\n",
       "         [0.4627451 , 0.5647059 , 0.8039216 ]]],\n",
       "\n",
       "\n",
       "       [[[0.9411765 , 0.9411765 , 0.9411765 ],\n",
       "         [0.9411765 , 0.9411765 , 0.9411765 ],\n",
       "         [0.9411765 , 0.9411765 , 0.9411765 ],\n",
       "         ...,\n",
       "         [0.9411765 , 0.9411765 , 0.9411765 ],\n",
       "         [0.9411765 , 0.9411765 , 0.9411765 ],\n",
       "         [0.9411765 , 0.9411765 , 0.9411765 ]],\n",
       "\n",
       "        [[0.9411765 , 0.9411765 , 0.9411765 ],\n",
       "         [0.9411765 , 0.9411765 , 0.9411765 ],\n",
       "         [0.9411765 , 0.9411765 , 0.9411765 ],\n",
       "         ...,\n",
       "         [0.9411765 , 0.9411765 , 0.9411765 ],\n",
       "         [0.9411765 , 0.9411765 , 0.9411765 ],\n",
       "         [0.9411765 , 0.9411765 , 0.9411765 ]],\n",
       "\n",
       "        [[0.9411765 , 0.9411765 , 0.9411765 ],\n",
       "         [0.9411765 , 0.9411765 , 0.9411765 ],\n",
       "         [0.9411765 , 0.9411765 , 0.9411765 ],\n",
       "         ...,\n",
       "         [0.9411765 , 0.9411765 , 0.9411765 ],\n",
       "         [0.9411765 , 0.9411765 , 0.9411765 ],\n",
       "         [0.9411765 , 0.9411765 , 0.9411765 ]],\n",
       "\n",
       "        ...,\n",
       "\n",
       "        [[0.9411765 , 0.9411765 , 0.9411765 ],\n",
       "         [0.9411765 , 0.9411765 , 0.9411765 ],\n",
       "         [0.9411765 , 0.9411765 , 0.9411765 ],\n",
       "         ...,\n",
       "         [0.9411765 , 0.9411765 , 0.9411765 ],\n",
       "         [0.9411765 , 0.9411765 , 0.9411765 ],\n",
       "         [0.9411765 , 0.9411765 , 0.9411765 ]],\n",
       "\n",
       "        [[0.9411765 , 0.9411765 , 0.9411765 ],\n",
       "         [0.9411765 , 0.9411765 , 0.9411765 ],\n",
       "         [0.9411765 , 0.9411765 , 0.9411765 ],\n",
       "         ...,\n",
       "         [0.9411765 , 0.9411765 , 0.9411765 ],\n",
       "         [0.9411765 , 0.9411765 , 0.9411765 ],\n",
       "         [0.9411765 , 0.9411765 , 0.9411765 ]],\n",
       "\n",
       "        [[0.9411765 , 0.9411765 , 0.9411765 ],\n",
       "         [0.9411765 , 0.9411765 , 0.9411765 ],\n",
       "         [0.9411765 , 0.9411765 , 0.9411765 ],\n",
       "         ...,\n",
       "         [0.9411765 , 0.9411765 , 0.9411765 ],\n",
       "         [0.9411765 , 0.9411765 , 0.9411765 ],\n",
       "         [0.9411765 , 0.9411765 , 0.9411765 ]]],\n",
       "\n",
       "\n",
       "       ...,\n",
       "\n",
       "\n",
       "       [[[0.9411765 , 0.9411765 , 0.9411765 ],\n",
       "         [0.9411765 , 0.9411765 , 0.9411765 ],\n",
       "         [0.9411765 , 0.9411765 , 0.9411765 ],\n",
       "         ...,\n",
       "         [0.9411765 , 0.9411765 , 0.9411765 ],\n",
       "         [0.9411765 , 0.9411765 , 0.9411765 ],\n",
       "         [0.9411765 , 0.9411765 , 0.9411765 ]],\n",
       "\n",
       "        [[0.9411765 , 0.9411765 , 0.9411765 ],\n",
       "         [0.9411765 , 0.9411765 , 0.9411765 ],\n",
       "         [0.9411765 , 0.9411765 , 0.9411765 ],\n",
       "         ...,\n",
       "         [0.9411765 , 0.9411765 , 0.9411765 ],\n",
       "         [0.9411765 , 0.9411765 , 0.9411765 ],\n",
       "         [0.9411765 , 0.9411765 , 0.9411765 ]],\n",
       "\n",
       "        [[0.9411765 , 0.9411765 , 0.9411765 ],\n",
       "         [0.9411765 , 0.9411765 , 0.9411765 ],\n",
       "         [0.9411765 , 0.9411765 , 0.9411765 ],\n",
       "         ...,\n",
       "         [0.9411765 , 0.9411765 , 0.9411765 ],\n",
       "         [0.9411765 , 0.9411765 , 0.9411765 ],\n",
       "         [0.9411765 , 0.9411765 , 0.9411765 ]],\n",
       "\n",
       "        ...,\n",
       "\n",
       "        [[0.9411765 , 0.9411765 , 0.9411765 ],\n",
       "         [0.9411765 , 0.9411765 , 0.9411765 ],\n",
       "         [0.9411765 , 0.9411765 , 0.9411765 ],\n",
       "         ...,\n",
       "         [0.9411765 , 0.9411765 , 0.9411765 ],\n",
       "         [0.9411765 , 0.9411765 , 0.9411765 ],\n",
       "         [0.9411765 , 0.9411765 , 0.9411765 ]],\n",
       "\n",
       "        [[0.9411765 , 0.9411765 , 0.9411765 ],\n",
       "         [0.9411765 , 0.9411765 , 0.9411765 ],\n",
       "         [0.9411765 , 0.9411765 , 0.9411765 ],\n",
       "         ...,\n",
       "         [0.9411765 , 0.9411765 , 0.9411765 ],\n",
       "         [0.9411765 , 0.9411765 , 0.9411765 ],\n",
       "         [0.9411765 , 0.9411765 , 0.9411765 ]],\n",
       "\n",
       "        [[0.9411765 , 0.9411765 , 0.9411765 ],\n",
       "         [0.9411765 , 0.9411765 , 0.9411765 ],\n",
       "         [0.9411765 , 0.9411765 , 0.9411765 ],\n",
       "         ...,\n",
       "         [0.9411765 , 0.9411765 , 0.9411765 ],\n",
       "         [0.9411765 , 0.9411765 , 0.9411765 ],\n",
       "         [0.9411765 , 0.9411765 , 0.9411765 ]]],\n",
       "\n",
       "\n",
       "       [[[0.9411765 , 0.9411765 , 0.9411765 ],\n",
       "         [0.9411765 , 0.9411765 , 0.9411765 ],\n",
       "         [0.9411765 , 0.9411765 , 0.9411765 ],\n",
       "         ...,\n",
       "         [0.9411765 , 0.9411765 , 0.9411765 ],\n",
       "         [0.9411765 , 0.9411765 , 0.9411765 ],\n",
       "         [0.9411765 , 0.9411765 , 0.9411765 ]],\n",
       "\n",
       "        [[0.9411765 , 0.9411765 , 0.9411765 ],\n",
       "         [0.9411765 , 0.9411765 , 0.9411765 ],\n",
       "         [0.9411765 , 0.9411765 , 0.9411765 ],\n",
       "         ...,\n",
       "         [0.9411765 , 0.9411765 , 0.9411765 ],\n",
       "         [0.9411765 , 0.9411765 , 0.9411765 ],\n",
       "         [0.9411765 , 0.9411765 , 0.9411765 ]],\n",
       "\n",
       "        [[0.9411765 , 0.9411765 , 0.9411765 ],\n",
       "         [0.9411765 , 0.9411765 , 0.9411765 ],\n",
       "         [0.9411765 , 0.9411765 , 0.9411765 ],\n",
       "         ...,\n",
       "         [0.9411765 , 0.9411765 , 0.9411765 ],\n",
       "         [0.9411765 , 0.9411765 , 0.9411765 ],\n",
       "         [0.9411765 , 0.9411765 , 0.9411765 ]],\n",
       "\n",
       "        ...,\n",
       "\n",
       "        [[0.9411765 , 0.9411765 , 0.9411765 ],\n",
       "         [0.9411765 , 0.9411765 , 0.9411765 ],\n",
       "         [0.9411765 , 0.9411765 , 0.9411765 ],\n",
       "         ...,\n",
       "         [0.9411765 , 0.9411765 , 0.9411765 ],\n",
       "         [0.9411765 , 0.9411765 , 0.9411765 ],\n",
       "         [0.9411765 , 0.9411765 , 0.9411765 ]],\n",
       "\n",
       "        [[0.9411765 , 0.9411765 , 0.9411765 ],\n",
       "         [0.9411765 , 0.9411765 , 0.9411765 ],\n",
       "         [0.9411765 , 0.9411765 , 0.9411765 ],\n",
       "         ...,\n",
       "         [0.9411765 , 0.9411765 , 0.9411765 ],\n",
       "         [0.9411765 , 0.9411765 , 0.9411765 ],\n",
       "         [0.9411765 , 0.9411765 , 0.9411765 ]],\n",
       "\n",
       "        [[0.9411765 , 0.9411765 , 0.9411765 ],\n",
       "         [0.9411765 , 0.9411765 , 0.9411765 ],\n",
       "         [0.9411765 , 0.9411765 , 0.9411765 ],\n",
       "         ...,\n",
       "         [0.9411765 , 0.9411765 , 0.9411765 ],\n",
       "         [0.9411765 , 0.9411765 , 0.9411765 ],\n",
       "         [0.9411765 , 0.9411765 , 0.9411765 ]]],\n",
       "\n",
       "\n",
       "       [[[0.7490196 , 0.72156864, 0.70980394],\n",
       "         [0.7490196 , 0.72156864, 0.70980394],\n",
       "         [0.7490196 , 0.72156864, 0.70980394],\n",
       "         ...,\n",
       "         [0.8       , 0.78039217, 0.78431374],\n",
       "         [0.8       , 0.78039217, 0.78431374],\n",
       "         [0.8       , 0.78039217, 0.78431374]],\n",
       "\n",
       "        [[0.7490196 , 0.72156864, 0.70980394],\n",
       "         [0.7490196 , 0.72156864, 0.70980394],\n",
       "         [0.7490196 , 0.72156864, 0.70980394],\n",
       "         ...,\n",
       "         [0.8       , 0.78039217, 0.78431374],\n",
       "         [0.8       , 0.78039217, 0.78431374],\n",
       "         [0.8       , 0.78039217, 0.78431374]],\n",
       "\n",
       "        [[0.75686276, 0.7294118 , 0.7176471 ],\n",
       "         [0.75686276, 0.7294118 , 0.7176471 ],\n",
       "         [0.75686276, 0.7294118 , 0.7176471 ],\n",
       "         ...,\n",
       "         [0.8       , 0.78039217, 0.78431374],\n",
       "         [0.8       , 0.78039217, 0.78431374],\n",
       "         [0.8       , 0.78039217, 0.78431374]],\n",
       "\n",
       "        ...,\n",
       "\n",
       "        [[0.80784315, 0.7882353 , 0.7921569 ],\n",
       "         [0.80784315, 0.7882353 , 0.7921569 ],\n",
       "         [0.80784315, 0.7882353 , 0.7921569 ],\n",
       "         ...,\n",
       "         [0.8627451 , 0.84313726, 0.84705883],\n",
       "         [0.8627451 , 0.84313726, 0.84705883],\n",
       "         [0.8627451 , 0.84313726, 0.84705883]],\n",
       "\n",
       "        [[0.8156863 , 0.79607844, 0.8       ],\n",
       "         [0.8156863 , 0.79607844, 0.8       ],\n",
       "         [0.80784315, 0.7882353 , 0.7921569 ],\n",
       "         ...,\n",
       "         [0.87058824, 0.8509804 , 0.85490197],\n",
       "         [0.87058824, 0.8509804 , 0.85490197],\n",
       "         [0.87058824, 0.8509804 , 0.85490197]],\n",
       "\n",
       "        [[0.8156863 , 0.79607844, 0.8       ],\n",
       "         [0.8156863 , 0.79607844, 0.8       ],\n",
       "         [0.80784315, 0.7882353 , 0.7921569 ],\n",
       "         ...,\n",
       "         [0.87058824, 0.8509804 , 0.85490197],\n",
       "         [0.87058824, 0.8509804 , 0.85490197],\n",
       "         [0.87058824, 0.8509804 , 0.85490197]]]], dtype=float32)"
      ]
     },
     "execution_count": 43,
     "metadata": {},
     "output_type": "execute_result"
    }
   ],
   "source": [
    "X_train"
   ]
  },
  {
   "cell_type": "code",
   "execution_count": 44,
   "metadata": {
    "colab": {},
    "colab_type": "code",
    "id": "D3Ht-OgIXGUr"
   },
   "outputs": [],
   "source": [
    "# Normalizing нужно в массиве с меньшим количеством элементов, так как забивается пасять\n",
    "# X_train = X_train / 255  # Normalizing train data\n",
    "# X_test = X_test / 255  # Normalizing test data"
   ]
  },
  {
   "attachments": {},
   "cell_type": "markdown",
   "metadata": {
    "colab_type": "text",
    "id": "49-mQtdThYi2"
   },
   "source": [
    "Сохранение данных изображения Preprocessesd для будущего использования"
   ]
  },
  {
   "cell_type": "code",
   "execution_count": 45,
   "metadata": {
    "colab": {},
    "colab_type": "code",
    "id": "POHgj5inXGRZ"
   },
   "outputs": [],
   "source": [
    "# Сохранение данных для будущего использования\n",
    "save(\"train.npy\", X_train)\n",
    "save(\"test.npy\", X_test)\n",
    "save(\"label_train.npy\", Y_train)\n",
    "save(\"label_test.npy\", Y_test)\n",
    "del train_images_memmap\n",
    "del X_test\n",
    "del X_train\n",
    "del Y_train\n",
    "del Y_test\n"
   ]
  },
  {
   "attachments": {},
   "cell_type": "markdown",
   "metadata": {
    "colab_type": "text",
    "id": "GGFg3UiVepqK"
   },
   "source": [
    "Вы можете загрузить свои данные с помощью кода ниже."
   ]
  },
  {
   "cell_type": "code",
   "execution_count": 2,
   "metadata": {
    "colab": {},
    "colab_type": "code",
    "id": "imcoXkUr02-3"
   },
   "outputs": [],
   "source": [
    "X_train = np.memmap(\n",
    "    \"X_train.mymemmap\", dtype=\"float32\", mode=\"w+\", shape=(80000, WIDTH, WIDTH, 3)\n",
    ")\n",
    "X_train = load(\"train.npy\")\n",
    "X_test = load(\"test.npy\")\n",
    "Y_train = load(\"label_train.npy\")\n",
    "Y_test = load(\"label_test.npy\")\n"
   ]
  },
  {
   "cell_type": "code",
   "execution_count": 4,
   "metadata": {},
   "outputs": [
    {
     "data": {
      "text/plain": [
       "1.0"
      ]
     },
     "execution_count": 4,
     "metadata": {},
     "output_type": "execute_result"
    }
   ],
   "source": [
    "X_train.max()\n"
   ]
  },
  {
   "cell_type": "code",
   "execution_count": 5,
   "metadata": {},
   "outputs": [
    {
     "data": {
      "text/plain": [
       "128"
      ]
     },
     "execution_count": 5,
     "metadata": {},
     "output_type": "execute_result"
    }
   ],
   "source": [
    "len(X_train[1])\n"
   ]
  },
  {
   "cell_type": "code",
   "execution_count": 6,
   "metadata": {
    "colab": {
     "base_uri": "https://localhost:8080/",
     "height": 285
    },
    "colab_type": "code",
    "id": "GLGzBBvNycgE",
    "outputId": "8881b70a-2081-4133-e009-6c37fb61cdef"
   },
   "outputs": [
    {
     "name": "stdout",
     "output_type": "stream",
     "text": [
      "24\n"
     ]
    },
    {
     "data": {
      "image/png": "[encoded data removed]",
      "text/plain": [
       "<Figure size 432x288 with 1 Axes>"
      ]
     },
     "metadata": {
      "needs_background": "light"
     },
     "output_type": "display_data"
    }
   ],
   "source": [
    "plt.imshow(X_train[10])\n",
    "print(np.argmax(Y_train[10]))"
   ]
  },
  {
   "cell_type": "markdown",
   "metadata": {
    "colab_type": "text",
    "id": "4nBpwajM2J1t"
   },
   "source": [
    "# **Text PreProcessing**"
   ]
  },
  {
   "attachments": {},
   "cell_type": "markdown",
   "metadata": {
    "colab_type": "text",
    "id": "nTDHWBDPfmPh"
   },
   "source": [
    "Мы определим чистую функцию, которая удалит знаки препинания, числа и дополнительные места с конца предложения.Он также заменит буквы верхнего регистра в нижний"
   ]
  },
  {
   "cell_type": "code",
   "execution_count": 26,
   "metadata": {},
   "outputs": [
    {
     "data": {
      "text/html": [
       "<div>\n",
       "<style scoped>\n",
       "    .dataframe tbody tr th:only-of-type {\n",
       "        vertical-align: middle;\n",
       "    }\n",
       "\n",
       "    .dataframe tbody tr th {\n",
       "        vertical-align: top;\n",
       "    }\n",
       "\n",
       "    .dataframe thead th {\n",
       "        text-align: right;\n",
       "    }\n",
       "</style>\n",
       "<table border=\"1\" class=\"dataframe\">\n",
       "  <thead>\n",
       "    <tr style=\"text-align: right;\">\n",
       "      <th></th>\n",
       "      <th>product_id</th>\n",
       "      <th>category_id</th>\n",
       "      <th>sale</th>\n",
       "      <th>shop_id</th>\n",
       "      <th>shop_title</th>\n",
       "      <th>rating</th>\n",
       "      <th>category_name</th>\n",
       "      <th>title</th>\n",
       "      <th>description</th>\n",
       "      <th>attributes</th>\n",
       "      <th>custom_characteristics</th>\n",
       "      <th>defined_characteristics</th>\n",
       "      <th>filters</th>\n",
       "    </tr>\n",
       "  </thead>\n",
       "  <tbody>\n",
       "    <tr>\n",
       "      <th>0</th>\n",
       "      <td>325286.jpg</td>\n",
       "      <td>12171</td>\n",
       "      <td>False</td>\n",
       "      <td>9031</td>\n",
       "      <td>Aksik</td>\n",
       "      <td>5.0</td>\n",
       "      <td>Смартфоны и телефоны</td>\n",
       "      <td>Зарядный кабель Borofone BX1 Lightning для айф...</td>\n",
       "      <td>&lt;p&gt;&lt;span style=\"background-color: transparent;...</td>\n",
       "      <td>[Длина: 1м, Разъем: Lightning, Подерживает быс...</td>\n",
       "      <td>{}</td>\n",
       "      <td>{'Цвет': ['Черный', 'Белый']}</td>\n",
       "      <td>{'Цвет': ['Белый', 'Черный']}</td>\n",
       "    </tr>\n",
       "  </tbody>\n",
       "</table>\n",
       "</div>"
      ],
      "text/plain": [
       "   product_id  category_id   sale  shop_id shop_title  rating  \\\n",
       "0  325286.jpg        12171  False     9031      Aksik     5.0   \n",
       "\n",
       "          category_name                                              title  \\\n",
       "0  Смартфоны и телефоны  Зарядный кабель Borofone BX1 Lightning для айф...   \n",
       "\n",
       "                                         description  \\\n",
       "0  <p><span style=\"background-color: transparent;...   \n",
       "\n",
       "                                          attributes custom_characteristics  \\\n",
       "0  [Длина: 1м, Разъем: Lightning, Подерживает быс...                     {}   \n",
       "\n",
       "         defined_characteristics                        filters  \n",
       "0  {'Цвет': ['Черный', 'Белый']}  {'Цвет': ['Белый', 'Черный']}  "
      ]
     },
     "execution_count": 26,
     "metadata": {},
     "output_type": "execute_result"
    }
   ],
   "source": [
    "train.head(1)"
   ]
  },
  {
   "cell_type": "code",
   "execution_count": 32,
   "metadata": {},
   "outputs": [
    {
     "ename": "TypeError",
     "evalue": "list() takes at most 1 argument (9 given)",
     "output_type": "error",
     "traceback": [
      "\u001b[0;31m---------------------------------------------------------------------------\u001b[0m",
      "\u001b[0;31mTypeError\u001b[0m                                 Traceback (most recent call last)",
      "\u001b[0;32m<ipython-input-32-76c9f5590434>\u001b[0m in \u001b[0;36m<module>\u001b[0;34m\u001b[0m\n\u001b[0;32m----> 1\u001b[0;31m \u001b[0mcol_cat\u001b[0m \u001b[0;34m=\u001b[0m \u001b[0mlist\u001b[0m\u001b[0;34m(\u001b[0m\u001b[0;34m'shop_title'\u001b[0m\u001b[0;34m,\u001b[0m\u001b[0;34m'rating'\u001b[0m\u001b[0;34m,\u001b[0m \u001b[0;34m'category_name'\u001b[0m\u001b[0;34m,\u001b[0m \u001b[0;34m'title'\u001b[0m\u001b[0;34m,\u001b[0m \u001b[0;34m'description'\u001b[0m\u001b[0;34m,\u001b[0m \u001b[0;34m'attributes'\u001b[0m\u001b[0;34m,\u001b[0m \u001b[0;34m'custom_characteristics'\u001b[0m\u001b[0;34m,\u001b[0m\u001b[0;34m'defined_characteristics'\u001b[0m\u001b[0;34m,\u001b[0m\u001b[0;34m'filter'\u001b[0m\u001b[0;34m)\u001b[0m\u001b[0;34m\u001b[0m\u001b[0m\n\u001b[0m",
      "\u001b[0;31mTypeError\u001b[0m: list() takes at most 1 argument (9 given)"
     ]
    }
   ],
   "source": [
    "col_cat = list(['shop_title','rating', 'category_name', 'title', 'description', 'attributes', 'custom_characteristics','defined_characteristics','filter'])"
   ]
  },
  {
   "cell_type": "code",
   "execution_count": null,
   "metadata": {
    "colab": {},
    "colab_type": "code",
    "id": "qoGygyBs2XOd"
   },
   "outputs": [],
   "source": [
    "def clean_text(data):\n",
    "    # На этом этапе мы преобразуем Charecters в нижний чехол\n",
    "    for i in range(data.shape[0]):\n",
    "        data[i] = data[i].lower()\n",
    "    # На этом этапе мы удаляем числа и знаки препинания из текста\n",
    "    for i in range(data.shape[0]):\n",
    "        data[i] = re.sub(r\"[^\\w\\s]+|[\\d]+\", \"\", data[i])\n",
    "        #  выбрасывает все слова (преимущественно предлоги), длинна которых меньше 3-х символов.\n",
    "        data[i] = \" \".join(word for word in data[i].split() if len(word) > 3)\n",
    "    # Здесь мы снимаем дополнительное пространство с конца и начала предложения\n",
    "    for i in range(data.shape[0]):\n",
    "        data[i] = data[i].strip()\n",
    "    return data\n"
   ]
  },
  {
   "attachments": {},
   "cell_type": "markdown",
   "metadata": {
    "colab_type": "text",
    "id": "w5BJYO8R4CHd"
   },
   "source": [
    " **Сравните данные перед чисткой и после очистки жирного шрифта**\n",
    " \n",
    " **Перед чисткой :** \n",
    "'Холсты грунтованные на деревяном подрамнике'\n",
    "\n",
    " **После уборки :**  \n",
    "'холсты грунтованные деревяном подрамнике'\n",
    "\n",
    "Вы можете видеть, что мы изменили заглавные буквы и удалили числа, знаки препинания и дополнительные места с конца предложения."
   ]
  },
  {
   "cell_type": "code",
   "execution_count": 9,
   "metadata": {},
   "outputs": [],
   "source": [
    "MAX_NB_WORDS = 5000\n",
    "# Максимальное количество слов в каждом имени.\n",
    "MAX_SEQUENCE_LENGTH = 15\n",
    "EMBEDDING_DIM = 100"
   ]
  },
  {
   "cell_type": "code",
   "execution_count": 29,
   "metadata": {
    "colab": {
     "base_uri": "https://localhost:8080/",
     "height": 34
    },
    "colab_type": "code",
    "id": "Rf2J1mIQ5o2u",
    "outputId": "c3e7373c-ec4f-41f5-a0ca-82084dc3a2ab"
   },
   "outputs": [
    {
     "ename": "NameError",
     "evalue": "name 'col_cat' is not defined",
     "output_type": "error",
     "traceback": [
      "\u001b[0;31m---------------------------------------------------------------------------\u001b[0m",
      "\u001b[0;31mNameError\u001b[0m                                 Traceback (most recent call last)",
      "\u001b[0;32m<ipython-input-29-7cc59f818956>\u001b[0m in \u001b[0;36m<module>\u001b[0;34m\u001b[0m\n\u001b[0;32m----> 1\u001b[0;31m \u001b[0;32mfor\u001b[0m \u001b[0mcol\u001b[0m \u001b[0;32min\u001b[0m \u001b[0mcol_cat\u001b[0m\u001b[0;34m:\u001b[0m\u001b[0;34m\u001b[0m\u001b[0m\n\u001b[0m\u001b[1;32m      2\u001b[0m     \u001b[0mnames\u001b[0m \u001b[0;34m=\u001b[0m \u001b[0mnp\u001b[0m\u001b[0;34m.\u001b[0m\u001b[0marray\u001b[0m\u001b[0;34m(\u001b[0m\u001b[0mtrain\u001b[0m\u001b[0;34m[\u001b[0m\u001b[0mcol\u001b[0m\u001b[0;34m]\u001b[0m\u001b[0;34m.\u001b[0m\u001b[0mastype\u001b[0m\u001b[0;34m(\u001b[0m\u001b[0mstr\u001b[0m\u001b[0;34m)\u001b[0m\u001b[0;34m)\u001b[0m\u001b[0;34m\u001b[0m\u001b[0m\n\u001b[1;32m      3\u001b[0m     \u001b[0;31m# Применение функции clean_text для получения чистых текстовых данных\u001b[0m\u001b[0;34m\u001b[0m\u001b[0;34m\u001b[0m\u001b[0m\n\u001b[1;32m      4\u001b[0m     \u001b[0mnames\u001b[0m \u001b[0;34m=\u001b[0m \u001b[0mclean_text\u001b[0m\u001b[0;34m(\u001b[0m\u001b[0mnames\u001b[0m\u001b[0;34m)\u001b[0m\u001b[0;34m\u001b[0m\u001b[0m\n\u001b[1;32m      5\u001b[0m     \u001b[0;31m# Максимальное количество слов, которые будут использоваться.\u001b[0m\u001b[0;34m\u001b[0m\u001b[0;34m\u001b[0m\u001b[0m\n",
      "\u001b[0;31mNameError\u001b[0m: name 'col_cat' is not defined"
     ]
    }
   ],
   "source": [
    "for col in col_cat:\n",
    "    names = np.array(train[col].astype(str))\n",
    "    # Применение функции clean_text для получения чистых текстовых данных\n",
    "    names = clean_text(names)\n",
    "    # Максимальное количество слов, которые будут использоваться.\n",
    "    MAX_NB_WORDS = 5000\n",
    "    # Максимальное количество слов в каждом имени.\n",
    "    MAX_SEQUENCE_LENGTH = 15\n",
    "    EMBEDDING_DIM = 100\n",
    "    \n",
    "    # Создание токенов слова\n",
    "    tokenizer = Tokenizer(\n",
    "        num_words=MAX_NB_WORDS,\n",
    "        filters='!\"#$%&()*+,-./:;<=>?@[\\]^_`{|}~',\n",
    "        lower=True,\n",
    "        char_level=False,\n",
    "    )\n",
    "    tokenizer.fit_on_texts(names)\n",
    "    word_index = tokenizer.word_index\n",
    "    \n",
    "    print(\"Found %s unique tokens.\" % len(word_index))\n",
    "    # Наконец мы создаем наши текстовые данные для обучения\n",
    "    X = tokenizer.texts_to_sequences(\n",
    "        names\n",
    "    )  # Здесь он берет каждое слово от имен и заменяет его соответствующим номером от нашего Word_index\n",
    "    X = pad_sequences(\n",
    "        X, maxlen=MAX_SEQUENCE_LENGTH\n",
    "    )  # Он преобразует список последовательностей в массив формы Numpy (num_sequence, num_timestep)\n",
    "    # Где числовая последовательность - это количество предложений в именах, а num_timestep - это количество слов в каждом предложении, которое в данном случае составляет 15.\n",
    "    print(\"Shape of data tensor:\", X.shape)"
   ]
  },
  {
   "attachments": {},
   "cell_type": "markdown",
   "metadata": {
    "colab_type": "text",
    "id": "pLvCUK2VgIMz"
   },
   "source": [
    "У нас есть 356090 уникальных токенов, которые мы будем использовать для обучения нашей текстовой модели."
   ]
  },
  {
   "cell_type": "code",
   "execution_count": null,
   "metadata": {
    "colab": {
     "base_uri": "https://localhost:8080/",
     "height": 1000
    },
    "colab_type": "code",
    "id": "Y16qP4TY5ozF",
    "outputId": "06b1efe9-5dbd-4c9b-9769-54c426c67ce8"
   },
   "outputs": [],
   "source": [
    "# Let's look at the tokens\n",
    "word_index\n"
   ]
  },
  {
   "cell_type": "code",
   "execution_count": null,
   "metadata": {
    "colab": {
     "base_uri": "https://localhost:8080/",
     "height": 34
    },
    "colab_type": "code",
    "id": "f1oat1rU7LRn",
    "outputId": "b58ee95c-5371-4c93-854b-0db722589cd2"
   },
   "outputs": [
    {
     "name": "stdout",
     "output_type": "stream",
     "text": [
      "Shape of data tensor: (91120, 15)\n"
     ]
    }
   ],
   "source": []
  },
  {
   "cell_type": "code",
   "execution_count": null,
   "metadata": {
    "colab": {
     "base_uri": "https://localhost:8080/",
     "height": 134
    },
    "colab_type": "code",
    "id": "jbY0coqq7LPX",
    "outputId": "e12ab32d-3583-4d82-af2d-8986c691763a"
   },
   "outputs": [],
   "source": [
    "# Здесь вы можете увидеть массив, где для каждого примера (предложение) у нас есть 15 функций (слова).\n",
    "X\n"
   ]
  },
  {
   "cell_type": "code",
   "execution_count": null,
   "metadata": {
    "colab": {
     "base_uri": "https://localhost:8080/",
     "height": 50
    },
    "colab_type": "code",
    "id": "UV05tnokClu-",
    "outputId": "02888612-ab7e-4d10-cfb4-7d0e77811287"
   },
   "outputs": [],
   "source": [
    "# Теперь давайте создадим наборы данных поезда и тестирование\n",
    "X_traintext = X[0:80000, :]\n",
    "X_testtext = X[80000:, :]\n",
    "print(X_traintext.shape, Y_train.shape)\n",
    "print(X_testtext.shape, Y_test.shape)"
   ]
  },
  {
   "attachments": {},
   "cell_type": "markdown",
   "metadata": {
    "colab_type": "text",
    "id": "QAzkbfi8g8ji"
   },
   "source": [
    "Сохранение текстовых данных Preprocessesd для будущего использования"
   ]
  },
  {
   "cell_type": "code",
   "execution_count": null,
   "metadata": {
    "colab": {},
    "colab_type": "code",
    "id": "pJjQ_czTPsrV"
   },
   "outputs": [],
   "source": [
    "save(\"train_text.npy\", X_traintext)\n",
    "save(\"test_text.npy\", X_testtext)\n"
   ]
  },
  {
   "attachments": {},
   "cell_type": "markdown",
   "metadata": {
    "colab_type": "text",
    "id": "j6FSNR9bhB-d"
   },
   "source": [
    "Мы можем перезагрузить текстовые данные с помощью кода ниже"
   ]
  },
  {
   "cell_type": "code",
   "execution_count": 3,
   "metadata": {
    "colab": {},
    "colab_type": "code",
    "id": "Y4VmaEtqCPJ4"
   },
   "outputs": [],
   "source": [
    "X_traintext = load(\"train_text.npy\")\n",
    "X_testtext = load(\"test_text.npy\")"
   ]
  },
  {
   "attachments": {},
   "cell_type": "markdown",
   "metadata": {
    "colab_type": "text",
    "id": "rORm_ZQzVd1b"
   },
   "source": [
    "# **Image Embeddings**\n",
    "\n",
    "\n"
   ]
  },
  {
   "attachments": {},
   "cell_type": "markdown",
   "metadata": {
    "colab_type": "text",
    "id": "9px8jsIPhlaL"
   },
   "source": [
    "Это часть 1 назначения, где мы будем использовать предварительную модель VGG16 для получения встроенных изображений."
   ]
  },
  {
   "cell_type": "code",
   "execution_count": 5,
   "metadata": {
    "colab": {
     "base_uri": "https://localhost:8080/",
     "height": 50
    },
    "colab_type": "code",
    "id": "n-XEUjys4-0Y",
    "outputId": "585aa329-2b6e-4175-ffe4-5e98167e0b84"
   },
   "outputs": [],
   "source": [
    "# Загрузка модели VGG16 с формой (ширина, ширина, 3),\n",
    "new_model = VGG16(weights=\"imagenet\", include_top=False,\n",
    "                  input_shape=(WIDTH, WIDTH, 3))\n",
    "# Исключение последнего слоя и использование весов ImageNet.\n",
    "model = Sequential()  # Создание новой модели, где мы загрузим нашу модель VGG16\n",
    "for layer in new_model.layers:\n",
    "    model.add(layer)\n",
    "for layer in model.layers:  # Установка слоев модели на триан\n",
    "    layer.trainable = False\n",
    "# Добавление уплотненного слоя в конце, чтобы получить векторный выход\n",
    "model.add(Flatten())\n"
   ]
  },
  {
   "cell_type": "code",
   "execution_count": 4,
   "metadata": {},
   "outputs": [],
   "source": [
    "model = Sequential() "
   ]
  },
  {
   "cell_type": "code",
   "execution_count": 13,
   "metadata": {
    "colab": {
     "base_uri": "https://localhost:8080/",
     "height": 790
    },
    "colab_type": "code",
    "id": "2c_Plbpe5cKs",
    "outputId": "69e43a39-62ea-4958-9b07-f0280690d667"
   },
   "outputs": [
    {
     "name": "stdout",
     "output_type": "stream",
     "text": [
      "Model: \"sequential\"\n",
      "_________________________________________________________________\n",
      "Layer (type)                 Output Shape              Param #   \n",
      "=================================================================\n",
      "block1_conv1 (Conv2D)        (None, 128, 128, 64)      1792      \n",
      "_________________________________________________________________\n",
      "block1_conv2 (Conv2D)        (None, 128, 128, 64)      36928     \n",
      "_________________________________________________________________\n",
      "block1_pool (MaxPooling2D)   (None, 64, 64, 64)        0         \n",
      "_________________________________________________________________\n",
      "block2_conv1 (Conv2D)        (None, 64, 64, 128)       73856     \n",
      "_________________________________________________________________\n",
      "block2_conv2 (Conv2D)        (None, 64, 64, 128)       147584    \n",
      "_________________________________________________________________\n",
      "block2_pool (MaxPooling2D)   (None, 32, 32, 128)       0         \n",
      "_________________________________________________________________\n",
      "block3_conv1 (Conv2D)        (None, 32, 32, 256)       295168    \n",
      "_________________________________________________________________\n",
      "block3_conv2 (Conv2D)        (None, 32, 32, 256)       590080    \n",
      "_________________________________________________________________\n",
      "block3_conv3 (Conv2D)        (None, 32, 32, 256)       590080    \n",
      "_________________________________________________________________\n",
      "block3_pool (MaxPooling2D)   (None, 16, 16, 256)       0         \n",
      "_________________________________________________________________\n",
      "block4_conv1 (Conv2D)        (None, 16, 16, 512)       1180160   \n",
      "_________________________________________________________________\n",
      "block4_conv2 (Conv2D)        (None, 16, 16, 512)       2359808   \n",
      "_________________________________________________________________\n",
      "block4_conv3 (Conv2D)        (None, 16, 16, 512)       2359808   \n",
      "_________________________________________________________________\n",
      "block4_pool (MaxPooling2D)   (None, 8, 8, 512)         0         \n",
      "_________________________________________________________________\n",
      "block5_conv1 (Conv2D)        (None, 8, 8, 512)         2359808   \n",
      "_________________________________________________________________\n",
      "block5_conv2 (Conv2D)        (None, 8, 8, 512)         2359808   \n",
      "_________________________________________________________________\n",
      "block5_conv3 (Conv2D)        (None, 8, 8, 512)         2359808   \n",
      "_________________________________________________________________\n",
      "block5_pool (MaxPooling2D)   (None, 4, 4, 512)         0         \n",
      "_________________________________________________________________\n",
      "flatten (Flatten)            (None, 8192)              0         \n",
      "=================================================================\n",
      "Total params: 14,714,688\n",
      "Trainable params: 0\n",
      "Non-trainable params: 14,714,688\n",
      "_________________________________________________________________\n"
     ]
    }
   ],
   "source": [
    "# Теперь давайте посмотрим на резюме модели\n",
    "model.summary()\n"
   ]
  },
  {
   "attachments": {},
   "cell_type": "markdown",
   "metadata": {
    "colab_type": "text",
    "id": "a_e4B4TWmpIW"
   },
   "source": [
    "Вы можете увидеть сглаженного слоя в конце, который выводит вектор размеров 2048.Эти встроения 2048 года будут переданы в башню изображения позже.Говоря о модели, вы можете видеть, что есть 14 714 688 общих параметров, но обучаемые параметры 0, так как не хотят обучать модель VGG16."
   ]
  },
  {
   "cell_type": "markdown",
   "metadata": {
    "colab_type": "text",
    "id": "inlzz2kM53A2"
   },
   "source": [
    "# **Implementinng Image Tower**"
   ]
  },
  {
   "cell_type": "code",
   "execution_count": 5,
   "metadata": {
    "colab": {},
    "colab_type": "code",
    "id": "f6Pq96Sl6Ug5"
   },
   "outputs": [],
   "source": [
    "# Создание модели Image_tower\n",
    "# Как определено , мы собираемся использовать 5 скрытый плотный слой с 512 единицами каждый\n",
    "# Выпадение 0,15 используется между всеми скрытыми слоями.\n",
    "# L2 -нормализация используется\n",
    "image_tower = Sequential()\n",
    "image_tower.add(Dense(512, activation=\"softmax\"))\n",
    "image_tower.add(Dropout(0.15))\n",
    "image_tower.add(Dense(512, activation=\"softmax\"))\n",
    "image_tower.add(Dropout(0.15))\n",
    "image_tower.add(Dense(512, activation=\"softmax\"))\n",
    "image_tower.add(Dropout(0.15))\n",
    "image_tower.add(Dense(512, activation=\"softmax\"))\n",
    "image_tower.add(Dropout(0.15))\n",
    "image_tower.add(\n",
    "    Dense(512, activation=\"softmax\")\n",
    ")  # Последний слой с D = 512 скрытыми единицами с последующей нормализацией L2.\n",
    "image_tower.add(Lambda(lambda xz: K.l2_normalize(xz, axis=1)))  # Normalizing"
   ]
  },
  {
   "attachments": {},
   "cell_type": "markdown",
   "metadata": {
    "colab_type": "text",
    "id": "cPVQfDT1sBt2"
   },
   "source": [
    "Теперь мы добавим нашу модель Image_tower в модель встраивания изображений"
   ]
  },
  {
   "cell_type": "code",
   "execution_count": 6,
   "metadata": {
    "colab": {},
    "colab_type": "code",
    "id": "etwIAzxv6cV2"
   },
   "outputs": [],
   "source": [
    "model.add(image_tower)\n"
   ]
  },
  {
   "cell_type": "code",
   "execution_count": null,
   "metadata": {
    "colab": {
     "base_uri": "https://localhost:8080/",
     "height": 823
    },
    "colab_type": "code",
    "id": "4nCGVj1L6cRs",
    "outputId": "05d13bc5-08e7-4ee6-c5e0-d3b1476805a0"
   },
   "outputs": [],
   "source": [
    "model.summary()\n"
   ]
  },
  {
   "attachments": {},
   "cell_type": "markdown",
   "metadata": {
    "colab_type": "text",
    "id": "XOZEVbdhsnDv"
   },
   "source": [
    "Как видите, существует 14 714 688 необработанных параметров из предыдущей модели и 2 099 712 новых параметров из модели Image_tower, которые подлежат обучению.Последний слой 'Sequiential_2' представляет модель Image_tower."
   ]
  },
  {
   "cell_type": "markdown",
   "metadata": {
    "colab_type": "text",
    "id": "3NJ8N_HVz7L_"
   },
   "source": [
    "# **Text Embeddings**"
   ]
  },
  {
   "attachments": {},
   "cell_type": "markdown",
   "metadata": {
    "colab_type": "text",
    "id": "PHWMW9G8tvef"
   },
   "source": [
    "Часть 1 текст встраивает.Здесь мы решили обучить небольшую модель для встраивания текста, а не использовать предварительную модель.Эта модель будет тренироваться, и она передаст текстовые встраивания в Text_tower."
   ]
  },
  {
   "cell_type": "code",
   "execution_count": 10,
   "metadata": {
    "colab": {},
    "colab_type": "code",
    "id": "aROucZEhVVuA"
   },
   "outputs": [],
   "source": [
    "# Создание TextModel\n",
    "textmodel = Sequential()\n",
    "# Мы начинаем с эффективного встроенного слоя, который карты\n",
    "# Наши индексы слока в размеры Embedding_dims\n",
    "textmodel.add(Embedding(MAX_NB_WORDS, EMBEDDING_DIM,\n",
    "              input_length=X_traintext.shape[1]))\n",
    "textmodel.add(Dropout(0.2))\n",
    "\n",
    "# Мы добавляем Convolution1d, которая изучит фильтры\n",
    "# Группа слов фильтры по размеру filter_length:\n",
    "textmodel.add(Conv1D(256, 5, padding=\"valid\", activation=\"relu\", strides=1))\n",
    "# Мы используем Max Pooling:\n",
    "textmodel.add(GlobalMaxPooling1D())\n",
    "\n",
    "# Добавляем полностью подключенный скрытый слой:\n",
    "textmodel.add(Dense(512))\n",
    "textmodel.add(Dropout(0.2))\n",
    "textmodel.add(Activation(\"relu\"))\n"
   ]
  },
  {
   "cell_type": "code",
   "execution_count": 19,
   "metadata": {
    "colab": {
     "base_uri": "https://localhost:8080/",
     "height": 386
    },
    "colab_type": "code",
    "id": "5uf_igPnsOyW",
    "outputId": "946cf4cb-7dc9-41a7-d483-72bec6980f80"
   },
   "outputs": [
    {
     "name": "stdout",
     "output_type": "stream",
     "text": [
      "Model: \"sequential_3\"\n",
      "_________________________________________________________________\n",
      "Layer (type)                 Output Shape              Param #   \n",
      "=================================================================\n",
      "embedding (Embedding)        (None, 15, 100)           500000    \n",
      "_________________________________________________________________\n",
      "dropout_4 (Dropout)          (None, 15, 100)           0         \n",
      "_________________________________________________________________\n",
      "conv1d (Conv1D)              (None, 11, 256)           128256    \n",
      "_________________________________________________________________\n",
      "global_max_pooling1d (Global (None, 256)               0         \n",
      "_________________________________________________________________\n",
      "dense_5 (Dense)              (None, 512)               131584    \n",
      "_________________________________________________________________\n",
      "dropout_5 (Dropout)          (None, 512)               0         \n",
      "_________________________________________________________________\n",
      "activation (Activation)      (None, 512)               0         \n",
      "=================================================================\n",
      "Total params: 759,840\n",
      "Trainable params: 759,840\n",
      "Non-trainable params: 0\n",
      "_________________________________________________________________\n"
     ]
    }
   ],
   "source": [
    "# Теперь посмотрите на краткое изложение этой модели\n",
    "textmodel.summary()\n"
   ]
  },
  {
   "cell_type": "code",
   "execution_count": null,
   "metadata": {},
   "outputs": [],
   "source": [
    "X_train"
   ]
  },
  {
   "attachments": {},
   "cell_type": "markdown",
   "metadata": {
    "colab_type": "text",
    "id": "Zlnlj1zhuici"
   },
   "source": [
    "Таким образом, у нас есть 7 слоев в этой модели и 759 840 параметров, которые можно обучить.И последний слой передаст текстовые встроения в текстовую башню."
   ]
  },
  {
   "cell_type": "markdown",
   "metadata": {
    "colab_type": "text",
    "id": "XvPYcvTo7LeW"
   },
   "source": [
    "# **Implementing Text tower**"
   ]
  },
  {
   "attachments": {},
   "cell_type": "markdown",
   "metadata": {
    "colab_type": "text",
    "id": "CPuwWtl-vD2s"
   },
   "source": [
    "Теперь мы будем реализовать текстовую башню части 2.Здесь мы приняли ссылки из «4.1.3 Процесс обучения» бумаги на создание текстовой башни.Мы также приняли ссылки из «3.2. Структура сети» третьего абзаца, который является «Текстовой башней и башней изображения может иметь различное количество скрытых слоев и разные скрытые размеры слоев. Единственное ограничение заключается в том, что последний слой обеих башен должен иметь dскрытые единицы с последующей нормализацией L2 \"\n"
   ]
  },
  {
   "cell_type": "code",
   "execution_count": 11,
   "metadata": {
    "colab": {},
    "colab_type": "code",
    "id": "HiHXYSCz7P4y"
   },
   "outputs": [],
   "source": [
    "# Creating text_tower model\n",
    "# As defined in paper we are going to use 2 hidden Dense layer with 512 units each\n",
    "# A dropout of 0.15 is used between all hidden layers.\n",
    "# L2 normalization is used\n",
    "text_tower = Sequential()\n",
    "text_tower.add(Dense(512, activation=\"relu\"))\n",
    "text_tower.add(Dropout(0.15))\n",
    "text_tower.add(\n",
    "    Dense(512, activation=\"relu\")\n",
    ")  # Last layer with D=512 hidden units followed by L2 normalization.\n",
    "# L2 normalizaton.\n",
    "text_tower.add(Lambda(lambda xz: K.l2_normalize(xz, axis=1)))"
   ]
  },
  {
   "cell_type": "markdown",
   "metadata": {
    "colab_type": "text",
    "id": "MSj-r1Quv3iH"
   },
   "source": [
    "Now we will add text_tower model to text embedding model"
   ]
  },
  {
   "cell_type": "code",
   "execution_count": 12,
   "metadata": {
    "colab": {},
    "colab_type": "code",
    "id": "oche1vLK7ici"
   },
   "outputs": [],
   "source": [
    "# Добавление text_tower в TextModel\n",
    "textmodel.add(text_tower)\n"
   ]
  },
  {
   "cell_type": "code",
   "execution_count": null,
   "metadata": {
    "colab": {
     "base_uri": "https://localhost:8080/",
     "height": 420
    },
    "colab_type": "code",
    "id": "77JZg7ic7m69",
    "outputId": "26088853-8075-4a7a-f872-3e55abd27b40"
   },
   "outputs": [],
   "source": [
    "# Давайте сейчас посмотрим TextModel.\n",
    "textmodel.summary()\n"
   ]
  },
  {
   "attachments": {},
   "cell_type": "markdown",
   "metadata": {
    "colab_type": "text",
    "id": "hiQMfy6gw2xy"
   },
   "source": [
    "Как видите, в общей сложности 1 285 152 параметров, и все параметры установлены для обучения.Последний слой, который является «sequential_4», представляет модель Text_tower."
   ]
  },
  {
   "cell_type": "markdown",
   "metadata": {
    "colab_type": "text",
    "id": "N6IQvXBa8UGh"
   },
   "source": [
    "# **Final Model**"
   ]
  },
  {
   "cell_type": "markdown",
   "metadata": {
    "colab_type": "text",
    "id": "bmiiMJq6zp72"
   },
   "source": [
    "Now we will merge both the models and add final layer for classification"
   ]
  },
  {
   "cell_type": "code",
   "execution_count": 24,
   "metadata": {
    "colab": {},
    "colab_type": "code",
    "id": "lJ6ve2Mw8hZ5"
   },
   "outputs": [],
   "source": [
    "# merged = concatenate(model.output, textmodel.output)  # Объединение обеих моделей\n",
    "out = Dense(874)(textmodel.output)  # Добавление плотного слоя в объединенные слои\n",
    "# Добавление активации Softmax для классификации\n",
    "out = Activation(\"softmax\")(out)\n",
    "final_model = Model(\n",
    "     textmodel.input, out\n",
    ")  # Окончательная модель, которую мы будем использовать для классификации"
   ]
  },
  {
   "cell_type": "code",
   "execution_count": 15,
   "metadata": {
    "colab": {
     "base_uri": "https://localhost:8080/",
     "height": 1000
    },
    "colab_type": "code",
    "id": "lIrZqDCR8mdW",
    "outputId": "44eec9d6-6707-43d6-8af1-cba2d667f299"
   },
   "outputs": [
    {
     "name": "stdout",
     "output_type": "stream",
     "text": [
      "Model: \"model\"\n",
      "_________________________________________________________________\n",
      "Layer (type)                 Output Shape              Param #   \n",
      "=================================================================\n",
      "embedding_input (InputLayer) [(None, 15)]              0         \n",
      "_________________________________________________________________\n",
      "embedding (Embedding)        (None, 15, 100)           500000    \n",
      "_________________________________________________________________\n",
      "dropout_4 (Dropout)          (None, 15, 100)           0         \n",
      "_________________________________________________________________\n",
      "conv1d (Conv1D)              (None, 11, 256)           128256    \n",
      "_________________________________________________________________\n",
      "global_max_pooling1d (Global (None, 256)               0         \n",
      "_________________________________________________________________\n",
      "dense_5 (Dense)              (None, 512)               131584    \n",
      "_________________________________________________________________\n",
      "dropout_5 (Dropout)          (None, 512)               0         \n",
      "_________________________________________________________________\n",
      "activation (Activation)      (None, 512)               0         \n",
      "_________________________________________________________________\n",
      "sequential_4 (Sequential)    (None, 512)               525312    \n",
      "_________________________________________________________________\n",
      "dense_8 (Dense)              (None, 45)                23085     \n",
      "_________________________________________________________________\n",
      "activation_1 (Activation)    (None, 45)                0         \n",
      "=================================================================\n",
      "Total params: 1,308,237\n",
      "Trainable params: 1,308,237\n",
      "Non-trainable params: 0\n",
      "_________________________________________________________________\n"
     ]
    }
   ],
   "source": [
    "# Давайте посмотрим на окончательную модель.\n",
    "final_model.summary()\n"
   ]
  },
  {
   "attachments": {},
   "cell_type": "markdown",
   "metadata": {
    "colab_type": "text",
    "id": "80WIZ4gc0Z1x"
   },
   "source": [
    "Посмотрите на слой «sequential_2».Эти слои объединяются (объединяются) в слой «concatenate_1».В Final_Model мы имеем в общей сложности 18 148 752 параметров, из которых 3,434 064 обучения.14 714 688 параметров не подлежат обучению, которые взяты из модели VGG16.Эта модель будет использоваться далее для классификации."
   ]
  },
  {
   "cell_type": "markdown",
   "metadata": {
    "colab_type": "text",
    "id": "KZWT8etI1zxv"
   },
   "source": [
    "# **Class Level Similarity**"
   ]
  },
  {
   "attachments": {},
   "cell_type": "markdown",
   "metadata": {
    "colab_type": "text",
    "id": "OifuiO2o2Be_"
   },
   "source": [
    "будем использовать RMSPROP-оптимизацию с помощью Learning_Rate = 1,6192E-5.Мы будем использовать \"Categorical_crossentropy\""
   ]
  },
  {
   "cell_type": "code",
   "execution_count": null,
   "metadata": {},
   "outputs": [],
   "source": [
    "# https://aakashgoel12.medium.com/how-to-add-user-defined-function-get-f1-score-in-keras-metrics-3013f979ce0d\n",
    "# https://stackoverflow.com/questions/50139087/nans-with-customised-weighted-f1-score-in-keras\n",
    "# import keras.backend as K\n",
    "\n",
    "# def get_f1(y_true, y_pred): #taken from old keras source code\n",
    "#     true_positives = K.sum(K.round(K.clip(y_true * y_pred, 0, 1)))\n",
    "#     possible_positives = K.sum(K.round(K.clip(y_true, 0, 1)))\n",
    "#     predicted_positives = K.sum(K.round(K.clip(y_pred, 0, 1)))\n",
    "#     precision = true_positives / (predicted_positives + K.epsilon())\n",
    "#     recall = true_positives / (possible_positives + K.epsilon())\n",
    "#     f1_val = 2*(precision*recall)/(precision+recall+K.epsilon())\n",
    "#     return f1_val"
   ]
  },
  {
   "cell_type": "code",
   "execution_count": 16,
   "metadata": {},
   "outputs": [],
   "source": [
    "# https://stackoverflow.com/questions/59963911/how-to-write-a-custom-f1-loss-function-with-weighted-average-for-keras\n",
    "def get_f1(true, pred):  # shapes (batch, 4)\n",
    "\n",
    "    # for metrics include these two lines, for loss, don't include them\n",
    "    # these are meant to round 'pred' to exactly zeros and ones\n",
    "    # predLabels = K.argmax(pred, axis=-1)\n",
    "    # pred = K.one_hot(predLabels, 4)\n",
    "\n",
    "    ground_positives = K.sum(true, axis=0) + K.epsilon()  # = TP + FN\n",
    "    pred_positives = K.sum(pred, axis=0) + K.epsilon()  # = TP + FP\n",
    "    true_positives = K.sum(true * pred, axis=0) + K.epsilon()  # = TP\n",
    "    # all with shape (4,)\n",
    "\n",
    "    precision = true_positives / pred_positives\n",
    "    recall = true_positives / ground_positives\n",
    "    # both = 1 if ground_positives == 0 or pred_positives == 0\n",
    "    # shape (4,)\n",
    "\n",
    "    f1 = 2 * (precision * recall) / (precision + recall + K.epsilon())\n",
    "    # still with shape (4,)\n",
    "\n",
    "    weighted_f1 = f1 * ground_positives / K.sum(ground_positives)\n",
    "    weighted_f1 = K.sum(weighted_f1)\n",
    "\n",
    "    return weighted_f1  # for metrics, return only 'weighted_f1'\n"
   ]
  },
  {
   "cell_type": "code",
   "execution_count": 26,
   "metadata": {
    "colab": {},
    "colab_type": "code",
    "id": "gjVC9kSn8o5Q"
   },
   "outputs": [],
   "source": [
    "from tensorflow.keras import (\n",
    "    optimizers,\n",
    ")  # переустановить библиотеку так как не находит rmsprob\n",
    "\n",
    "# При использовании метрик в model.compile в keras сообщите ValueError: («Неизвестная метрическая функция», «: f1score»)\n",
    "# На компьютере установлена старая библиотека keras\n",
    "\n",
    "final_model.compile(\n",
    "    optimizer=optimizers.RMSprop(learning_rate=1.6192e-5),\n",
    "    # optimizer=optimizers.experimental.Adafactor(learning_rate=1.6192e-5),\n",
    "    loss=\"categorical_crossentropy\",\n",
    "    metrics=[get_f1, \"accuracy\"],\n",
    ")\n"
   ]
  },
  {
   "cell_type": "code",
   "execution_count": 14,
   "metadata": {},
   "outputs": [
    {
     "name": "stdout",
     "output_type": "stream",
     "text": [
      "Num GPUs Available:  1\n"
     ]
    }
   ],
   "source": [
    "# Проверка доступа к видеокарте\n",
    "print(\"Num GPUs Available: \", len(tf.config.list_physical_devices(\"GPU\")))\n"
   ]
  },
  {
   "cell_type": "code",
   "execution_count": 15,
   "metadata": {},
   "outputs": [
    {
     "name": "stdout",
     "output_type": "stream",
     "text": [
      "Tue Mar 21 00:40:32 2023       \n",
      "+-----------------------------------------------------------------------------+\n",
      "| NVIDIA-SMI 525.85.12    Driver Version: 525.85.12    CUDA Version: 12.0     |\n",
      "|-------------------------------+----------------------+----------------------+\n",
      "| GPU  Name        Persistence-M| Bus-Id        Disp.A | Volatile Uncorr. ECC |\n",
      "| Fan  Temp  Perf  Pwr:Usage/Cap|         Memory-Usage | GPU-Util  Compute M. |\n",
      "|                               |                      |               MIG M. |\n",
      "|===============================+======================+======================|\n",
      "|   0  NVIDIA GeForce ...  Off  | 00000000:09:00.0  On |                  N/A |\n",
      "|  0%   46C    P2    54W / 170W |  10507MiB / 12288MiB |      1%      Default |\n",
      "|                               |                      |                  N/A |\n",
      "+-------------------------------+----------------------+----------------------+\n",
      "                                                                               \n",
      "+-----------------------------------------------------------------------------+\n",
      "| Processes:                                                                  |\n",
      "|  GPU   GI   CI        PID   Type   Process name                  GPU Memory |\n",
      "|        ID   ID                                                   Usage      |\n",
      "|=============================================================================|\n",
      "|    0   N/A  N/A      2195      G   /usr/lib/xorg/Xorg                 86MiB |\n",
      "|    0   N/A  N/A      2330      G   /usr/bin/gnome-shell               48MiB |\n",
      "|    0   N/A  N/A      2822      G   ...966570385018021405,131072       60MiB |\n",
      "|    0   N/A  N/A      4256      C   .../envs/rtx_3060/bin/python    10306MiB |\n",
      "+-----------------------------------------------------------------------------+\n"
     ]
    }
   ],
   "source": [
    "!nvidia-smi\n"
   ]
  },
  {
   "attachments": {},
   "cell_type": "markdown",
   "metadata": {
    "colab_type": "text",
    "id": "-fU_gAY22wFu"
   },
   "source": [
    "We are definining a callback which will stop training after we have achieved the f1_score of 98% or greater on validation set."
   ]
  },
  {
   "cell_type": "code",
   "execution_count": 20,
   "metadata": {},
   "outputs": [
    {
     "data": {
      "text/plain": [
       "(80000, 15)"
      ]
     },
     "execution_count": 20,
     "metadata": {},
     "output_type": "execute_result"
    }
   ],
   "source": [
    "X_traintext.shape"
   ]
  },
  {
   "cell_type": "markdown",
   "metadata": {
    "colab_type": "text",
    "id": "xkt3vMuy3ZLU"
   },
   "source": [
    "Finally training our model"
   ]
  },
  {
   "cell_type": "code",
   "execution_count": 28,
   "metadata": {
    "colab": {
     "base_uri": "https://localhost:8080/",
     "height": 1000
    },
    "colab_type": "code",
    "id": "qVyRLQlc89ZT",
    "outputId": "d66f7cf4-006c-4d64-b461-58eee4eb09d6"
   },
   "outputs": [
    {
     "name": "stdout",
     "output_type": "stream",
     "text": [
      "Epoch 1/400\n",
      "297/297 [==============================] - 1s 3ms/step - loss: 2.4029 - get_f1: 0.3057 - accuracy: 0.5906 - val_loss: 2.4257 - val_get_f1: 0.3154 - val_accuracy: 0.5987\n",
      "Epoch 2/400\n",
      "297/297 [==============================] - 1s 3ms/step - loss: 2.3834 - get_f1: 0.3102 - accuracy: 0.5935 - val_loss: 2.4070 - val_get_f1: 0.3197 - val_accuracy: 0.6003\n",
      "Epoch 3/400\n",
      "297/297 [==============================] - 1s 3ms/step - loss: 2.3637 - get_f1: 0.3141 - accuracy: 0.5966 - val_loss: 2.3891 - val_get_f1: 0.3236 - val_accuracy: 0.6003\n",
      "Epoch 4/400\n",
      "297/297 [==============================] - 1s 3ms/step - loss: 2.3443 - get_f1: 0.3182 - accuracy: 0.5992 - val_loss: 2.3718 - val_get_f1: 0.3276 - val_accuracy: 0.6037\n",
      "Epoch 5/400\n",
      "297/297 [==============================] - 1s 3ms/step - loss: 2.3258 - get_f1: 0.3224 - accuracy: 0.6017 - val_loss: 2.3525 - val_get_f1: 0.3320 - val_accuracy: 0.6075\n",
      "Epoch 6/400\n",
      "297/297 [==============================] - 1s 3ms/step - loss: 2.3068 - get_f1: 0.3261 - accuracy: 0.6043 - val_loss: 2.3362 - val_get_f1: 0.3359 - val_accuracy: 0.6105\n",
      "Epoch 7/400\n",
      "297/297 [==============================] - 1s 3ms/step - loss: 2.2882 - get_f1: 0.3302 - accuracy: 0.6078 - val_loss: 2.3183 - val_get_f1: 0.3398 - val_accuracy: 0.6127\n",
      "Epoch 8/400\n",
      "297/297 [==============================] - 1s 3ms/step - loss: 2.2703 - get_f1: 0.3340 - accuracy: 0.6099 - val_loss: 2.3010 - val_get_f1: 0.3440 - val_accuracy: 0.6148\n",
      "Epoch 9/400\n",
      "297/297 [==============================] - 1s 3ms/step - loss: 2.2521 - get_f1: 0.3382 - accuracy: 0.6131 - val_loss: 2.2840 - val_get_f1: 0.3478 - val_accuracy: 0.6162\n",
      "Epoch 10/400\n",
      "297/297 [==============================] - 1s 3ms/step - loss: 2.2337 - get_f1: 0.3423 - accuracy: 0.6160 - val_loss: 2.2676 - val_get_f1: 0.3518 - val_accuracy: 0.6195\n",
      "Epoch 11/400\n",
      "297/297 [==============================] - 1s 3ms/step - loss: 2.2160 - get_f1: 0.3461 - accuracy: 0.6179 - val_loss: 2.2513 - val_get_f1: 0.3558 - val_accuracy: 0.6208\n",
      "Epoch 12/400\n",
      "297/297 [==============================] - 1s 3ms/step - loss: 2.1989 - get_f1: 0.3499 - accuracy: 0.6214 - val_loss: 2.2353 - val_get_f1: 0.3599 - val_accuracy: 0.6240\n",
      "Epoch 13/400\n",
      "297/297 [==============================] - 1s 3ms/step - loss: 2.1815 - get_f1: 0.3538 - accuracy: 0.6227 - val_loss: 2.2197 - val_get_f1: 0.3637 - val_accuracy: 0.6255\n",
      "Epoch 14/400\n",
      "297/297 [==============================] - 1s 3ms/step - loss: 2.1652 - get_f1: 0.3577 - accuracy: 0.6263 - val_loss: 2.2035 - val_get_f1: 0.3676 - val_accuracy: 0.6302\n",
      "Epoch 15/400\n",
      "297/297 [==============================] - 1s 3ms/step - loss: 2.1475 - get_f1: 0.3616 - accuracy: 0.6272 - val_loss: 2.1877 - val_get_f1: 0.3714 - val_accuracy: 0.6340\n",
      "Epoch 16/400\n",
      "297/297 [==============================] - 1s 3ms/step - loss: 2.1303 - get_f1: 0.3656 - accuracy: 0.6305 - val_loss: 2.1727 - val_get_f1: 0.3751 - val_accuracy: 0.6365\n",
      "Epoch 17/400\n",
      "297/297 [==============================] - 1s 3ms/step - loss: 2.1143 - get_f1: 0.3693 - accuracy: 0.6326 - val_loss: 2.1572 - val_get_f1: 0.3792 - val_accuracy: 0.6400\n",
      "Epoch 18/400\n",
      "297/297 [==============================] - 1s 3ms/step - loss: 2.0983 - get_f1: 0.3731 - accuracy: 0.6346 - val_loss: 2.1415 - val_get_f1: 0.3831 - val_accuracy: 0.6415\n",
      "Epoch 19/400\n",
      "297/297 [==============================] - 1s 3ms/step - loss: 2.0816 - get_f1: 0.3768 - accuracy: 0.6368 - val_loss: 2.1274 - val_get_f1: 0.3868 - val_accuracy: 0.6442\n",
      "Epoch 20/400\n",
      "297/297 [==============================] - 1s 3ms/step - loss: 2.0657 - get_f1: 0.3810 - accuracy: 0.6394 - val_loss: 2.1131 - val_get_f1: 0.3906 - val_accuracy: 0.6457\n",
      "Epoch 21/400\n",
      "297/297 [==============================] - 1s 3ms/step - loss: 2.0506 - get_f1: 0.3843 - accuracy: 0.6408 - val_loss: 2.0983 - val_get_f1: 0.3944 - val_accuracy: 0.6445\n",
      "Epoch 22/400\n",
      "297/297 [==============================] - 1s 3ms/step - loss: 2.0357 - get_f1: 0.3882 - accuracy: 0.6415 - val_loss: 2.0846 - val_get_f1: 0.3980 - val_accuracy: 0.6472\n",
      "Epoch 23/400\n",
      "297/297 [==============================] - 1s 3ms/step - loss: 2.0201 - get_f1: 0.3918 - accuracy: 0.6444 - val_loss: 2.0711 - val_get_f1: 0.4014 - val_accuracy: 0.6470\n",
      "Epoch 24/400\n",
      "297/297 [==============================] - 1s 3ms/step - loss: 2.0050 - get_f1: 0.3954 - accuracy: 0.6462 - val_loss: 2.0568 - val_get_f1: 0.4052 - val_accuracy: 0.6475\n",
      "Epoch 25/400\n",
      "297/297 [==============================] - 1s 3ms/step - loss: 1.9897 - get_f1: 0.3992 - accuracy: 0.6478 - val_loss: 2.0435 - val_get_f1: 0.4090 - val_accuracy: 0.6495\n",
      "Epoch 26/400\n",
      "297/297 [==============================] - 1s 3ms/step - loss: 1.9762 - get_f1: 0.4026 - accuracy: 0.6486 - val_loss: 2.0297 - val_get_f1: 0.4124 - val_accuracy: 0.6513\n",
      "Epoch 27/400\n",
      "297/297 [==============================] - 1s 3ms/step - loss: 1.9603 - get_f1: 0.4065 - accuracy: 0.6526 - val_loss: 2.0174 - val_get_f1: 0.4159 - val_accuracy: 0.6522\n",
      "Epoch 28/400\n",
      "297/297 [==============================] - 1s 3ms/step - loss: 1.9473 - get_f1: 0.4098 - accuracy: 0.6529 - val_loss: 2.0046 - val_get_f1: 0.4194 - val_accuracy: 0.6543\n",
      "Epoch 29/400\n",
      "297/297 [==============================] - 1s 3ms/step - loss: 1.9329 - get_f1: 0.4132 - accuracy: 0.6546 - val_loss: 1.9905 - val_get_f1: 0.4232 - val_accuracy: 0.6578\n",
      "Epoch 30/400\n",
      "297/297 [==============================] - 1s 3ms/step - loss: 1.9186 - get_f1: 0.4169 - accuracy: 0.6567 - val_loss: 1.9785 - val_get_f1: 0.4266 - val_accuracy: 0.6597\n",
      "Epoch 31/400\n",
      "297/297 [==============================] - 1s 3ms/step - loss: 1.9054 - get_f1: 0.4203 - accuracy: 0.6578 - val_loss: 1.9661 - val_get_f1: 0.4301 - val_accuracy: 0.6595\n",
      "Epoch 32/400\n",
      "297/297 [==============================] - 1s 3ms/step - loss: 1.8907 - get_f1: 0.4242 - accuracy: 0.6599 - val_loss: 1.9547 - val_get_f1: 0.4336 - val_accuracy: 0.6618\n",
      "Epoch 33/400\n",
      "297/297 [==============================] - 1s 3ms/step - loss: 1.8783 - get_f1: 0.4274 - accuracy: 0.6610 - val_loss: 1.9432 - val_get_f1: 0.4368 - val_accuracy: 0.6600\n",
      "Epoch 34/400\n",
      "297/297 [==============================] - 1s 3ms/step - loss: 1.8644 - get_f1: 0.4305 - accuracy: 0.6627 - val_loss: 1.9314 - val_get_f1: 0.4403 - val_accuracy: 0.6622\n",
      "Epoch 35/400\n",
      "297/297 [==============================] - 1s 3ms/step - loss: 1.8524 - get_f1: 0.4344 - accuracy: 0.6642 - val_loss: 1.9189 - val_get_f1: 0.4439 - val_accuracy: 0.6630\n",
      "Epoch 36/400\n",
      "297/297 [==============================] - 1s 3ms/step - loss: 1.8392 - get_f1: 0.4374 - accuracy: 0.6664 - val_loss: 1.9081 - val_get_f1: 0.4469 - val_accuracy: 0.6637\n",
      "Epoch 37/400\n",
      "297/297 [==============================] - 1s 3ms/step - loss: 1.8258 - get_f1: 0.4408 - accuracy: 0.6681 - val_loss: 1.8970 - val_get_f1: 0.4501 - val_accuracy: 0.6660\n",
      "Epoch 38/400\n",
      "297/297 [==============================] - 1s 3ms/step - loss: 1.8143 - get_f1: 0.4443 - accuracy: 0.6701 - val_loss: 1.8855 - val_get_f1: 0.4532 - val_accuracy: 0.6668\n",
      "Epoch 39/400\n",
      "297/297 [==============================] - 1s 3ms/step - loss: 1.8011 - get_f1: 0.4473 - accuracy: 0.6718 - val_loss: 1.8728 - val_get_f1: 0.4569 - val_accuracy: 0.6690\n",
      "Epoch 40/400\n",
      "297/297 [==============================] - 1s 3ms/step - loss: 1.7893 - get_f1: 0.4507 - accuracy: 0.6725 - val_loss: 1.8626 - val_get_f1: 0.4601 - val_accuracy: 0.6727\n",
      "Epoch 41/400\n",
      "297/297 [==============================] - 1s 3ms/step - loss: 1.7775 - get_f1: 0.4539 - accuracy: 0.6754 - val_loss: 1.8523 - val_get_f1: 0.4627 - val_accuracy: 0.6740\n",
      "Epoch 42/400\n",
      "297/297 [==============================] - 1s 3ms/step - loss: 1.7662 - get_f1: 0.4568 - accuracy: 0.6768 - val_loss: 1.8420 - val_get_f1: 0.4662 - val_accuracy: 0.6762\n",
      "Epoch 43/400\n",
      "297/297 [==============================] - 1s 3ms/step - loss: 1.7535 - get_f1: 0.4602 - accuracy: 0.6783 - val_loss: 1.8329 - val_get_f1: 0.4688 - val_accuracy: 0.6758\n",
      "Epoch 44/400\n",
      "297/297 [==============================] - 1s 3ms/step - loss: 1.7416 - get_f1: 0.4631 - accuracy: 0.6796 - val_loss: 1.8218 - val_get_f1: 0.4722 - val_accuracy: 0.6783\n",
      "Epoch 45/400\n",
      "297/297 [==============================] - 1s 3ms/step - loss: 1.7291 - get_f1: 0.4666 - accuracy: 0.6812 - val_loss: 1.8119 - val_get_f1: 0.4754 - val_accuracy: 0.6793\n",
      "Epoch 46/400\n",
      "297/297 [==============================] - 1s 3ms/step - loss: 1.7200 - get_f1: 0.4692 - accuracy: 0.6827 - val_loss: 1.8012 - val_get_f1: 0.4783 - val_accuracy: 0.6810\n",
      "Epoch 47/400\n",
      "297/297 [==============================] - 1s 3ms/step - loss: 1.7075 - get_f1: 0.4729 - accuracy: 0.6848 - val_loss: 1.7916 - val_get_f1: 0.4813 - val_accuracy: 0.6808\n",
      "Epoch 48/400\n",
      "297/297 [==============================] - 1s 3ms/step - loss: 1.6961 - get_f1: 0.4751 - accuracy: 0.6849 - val_loss: 1.7829 - val_get_f1: 0.4840 - val_accuracy: 0.6815\n",
      "Epoch 49/400\n",
      "297/297 [==============================] - 1s 3ms/step - loss: 1.6874 - get_f1: 0.4783 - accuracy: 0.6875 - val_loss: 1.7736 - val_get_f1: 0.4870 - val_accuracy: 0.6833\n",
      "Epoch 50/400\n",
      "297/297 [==============================] - 1s 3ms/step - loss: 1.6750 - get_f1: 0.4816 - accuracy: 0.6886 - val_loss: 1.7646 - val_get_f1: 0.4898 - val_accuracy: 0.6842\n",
      "Epoch 51/400\n",
      "297/297 [==============================] - 1s 3ms/step - loss: 1.6658 - get_f1: 0.4841 - accuracy: 0.6899 - val_loss: 1.7549 - val_get_f1: 0.4923 - val_accuracy: 0.6840\n",
      "Epoch 52/400\n",
      "297/297 [==============================] - 1s 3ms/step - loss: 1.6541 - get_f1: 0.4868 - accuracy: 0.6910 - val_loss: 1.7458 - val_get_f1: 0.4952 - val_accuracy: 0.6858\n",
      "Epoch 53/400\n",
      "297/297 [==============================] - 1s 3ms/step - loss: 1.6440 - get_f1: 0.4896 - accuracy: 0.6928 - val_loss: 1.7359 - val_get_f1: 0.4984 - val_accuracy: 0.6860\n",
      "Epoch 54/400\n",
      "297/297 [==============================] - 1s 3ms/step - loss: 1.6328 - get_f1: 0.4927 - accuracy: 0.6939 - val_loss: 1.7270 - val_get_f1: 0.5010 - val_accuracy: 0.6862\n",
      "Epoch 55/400\n",
      "297/297 [==============================] - 1s 3ms/step - loss: 1.6248 - get_f1: 0.4954 - accuracy: 0.6959 - val_loss: 1.7186 - val_get_f1: 0.5035 - val_accuracy: 0.6865\n",
      "Epoch 56/400\n",
      "297/297 [==============================] - 1s 3ms/step - loss: 1.6133 - get_f1: 0.4984 - accuracy: 0.6976 - val_loss: 1.7111 - val_get_f1: 0.5062 - val_accuracy: 0.6877\n",
      "Epoch 57/400\n",
      "297/297 [==============================] - 1s 3ms/step - loss: 1.6040 - get_f1: 0.5009 - accuracy: 0.6986 - val_loss: 1.7014 - val_get_f1: 0.5087 - val_accuracy: 0.6892\n",
      "Epoch 58/400\n",
      "297/297 [==============================] - 1s 3ms/step - loss: 1.5930 - get_f1: 0.5042 - accuracy: 0.6987 - val_loss: 1.6922 - val_get_f1: 0.5115 - val_accuracy: 0.6905\n",
      "Epoch 59/400\n",
      "297/297 [==============================] - 1s 3ms/step - loss: 1.5856 - get_f1: 0.5062 - accuracy: 0.7010 - val_loss: 1.6845 - val_get_f1: 0.5139 - val_accuracy: 0.6925\n",
      "Epoch 60/400\n",
      "297/297 [==============================] - 1s 3ms/step - loss: 1.5750 - get_f1: 0.5090 - accuracy: 0.7029 - val_loss: 1.6767 - val_get_f1: 0.5167 - val_accuracy: 0.6950\n",
      "Epoch 61/400\n",
      "297/297 [==============================] - 1s 3ms/step - loss: 1.5656 - get_f1: 0.5116 - accuracy: 0.7046 - val_loss: 1.6683 - val_get_f1: 0.5188 - val_accuracy: 0.6948\n",
      "Epoch 62/400\n",
      "297/297 [==============================] - 1s 3ms/step - loss: 1.5565 - get_f1: 0.5139 - accuracy: 0.7062 - val_loss: 1.6609 - val_get_f1: 0.5216 - val_accuracy: 0.6967\n",
      "Epoch 63/400\n",
      "297/297 [==============================] - 1s 3ms/step - loss: 1.5460 - get_f1: 0.5169 - accuracy: 0.7063 - val_loss: 1.6517 - val_get_f1: 0.5240 - val_accuracy: 0.6980\n",
      "Epoch 64/400\n",
      "297/297 [==============================] - 1s 3ms/step - loss: 1.5372 - get_f1: 0.5195 - accuracy: 0.7099 - val_loss: 1.6458 - val_get_f1: 0.5265 - val_accuracy: 0.6973\n",
      "Epoch 65/400\n",
      "297/297 [==============================] - 1s 3ms/step - loss: 1.5286 - get_f1: 0.5218 - accuracy: 0.7109 - val_loss: 1.6377 - val_get_f1: 0.5288 - val_accuracy: 0.6995\n",
      "Epoch 66/400\n",
      "297/297 [==============================] - 1s 3ms/step - loss: 1.5194 - get_f1: 0.5244 - accuracy: 0.7119 - val_loss: 1.6307 - val_get_f1: 0.5313 - val_accuracy: 0.6990\n",
      "Epoch 67/400\n",
      "297/297 [==============================] - 1s 3ms/step - loss: 1.5107 - get_f1: 0.5273 - accuracy: 0.7130 - val_loss: 1.6240 - val_get_f1: 0.5336 - val_accuracy: 0.7010\n",
      "Epoch 68/400\n",
      "297/297 [==============================] - 1s 3ms/step - loss: 1.5012 - get_f1: 0.5296 - accuracy: 0.7152 - val_loss: 1.6164 - val_get_f1: 0.5360 - val_accuracy: 0.7023\n",
      "Epoch 69/400\n",
      "297/297 [==============================] - 1s 3ms/step - loss: 1.4945 - get_f1: 0.5318 - accuracy: 0.7155 - val_loss: 1.6085 - val_get_f1: 0.5382 - val_accuracy: 0.7032\n",
      "Epoch 70/400\n",
      "297/297 [==============================] - 1s 3ms/step - loss: 1.4851 - get_f1: 0.5345 - accuracy: 0.7176 - val_loss: 1.6011 - val_get_f1: 0.5405 - val_accuracy: 0.7045\n",
      "Epoch 71/400\n",
      "297/297 [==============================] - 1s 3ms/step - loss: 1.4770 - get_f1: 0.5366 - accuracy: 0.7188 - val_loss: 1.5937 - val_get_f1: 0.5427 - val_accuracy: 0.7060\n",
      "Epoch 72/400\n",
      "297/297 [==============================] - 1s 3ms/step - loss: 1.4698 - get_f1: 0.5385 - accuracy: 0.7189 - val_loss: 1.5878 - val_get_f1: 0.5449 - val_accuracy: 0.7065\n",
      "Epoch 73/400\n",
      "297/297 [==============================] - 1s 3ms/step - loss: 1.4607 - get_f1: 0.5412 - accuracy: 0.7213 - val_loss: 1.5802 - val_get_f1: 0.5473 - val_accuracy: 0.7082\n",
      "Epoch 74/400\n",
      "297/297 [==============================] - 1s 3ms/step - loss: 1.4532 - get_f1: 0.5434 - accuracy: 0.7219 - val_loss: 1.5736 - val_get_f1: 0.5493 - val_accuracy: 0.7082\n",
      "Epoch 75/400\n",
      "297/297 [==============================] - 1s 3ms/step - loss: 1.4449 - get_f1: 0.5458 - accuracy: 0.7231 - val_loss: 1.5679 - val_get_f1: 0.5513 - val_accuracy: 0.7092\n",
      "Epoch 76/400\n",
      "297/297 [==============================] - 1s 3ms/step - loss: 1.4376 - get_f1: 0.5480 - accuracy: 0.7244 - val_loss: 1.5608 - val_get_f1: 0.5535 - val_accuracy: 0.7095\n",
      "Epoch 77/400\n",
      "297/297 [==============================] - 1s 3ms/step - loss: 1.4283 - get_f1: 0.5501 - accuracy: 0.7259 - val_loss: 1.5555 - val_get_f1: 0.5553 - val_accuracy: 0.7092\n",
      "Epoch 78/400\n",
      "297/297 [==============================] - 1s 3ms/step - loss: 1.4201 - get_f1: 0.5528 - accuracy: 0.7274 - val_loss: 1.5480 - val_get_f1: 0.5576 - val_accuracy: 0.7117\n",
      "Epoch 79/400\n",
      "297/297 [==============================] - 1s 3ms/step - loss: 1.4139 - get_f1: 0.5549 - accuracy: 0.7284 - val_loss: 1.5424 - val_get_f1: 0.5596 - val_accuracy: 0.7135\n",
      "Epoch 80/400\n",
      "297/297 [==============================] - 1s 3ms/step - loss: 1.4066 - get_f1: 0.5566 - accuracy: 0.7301 - val_loss: 1.5360 - val_get_f1: 0.5617 - val_accuracy: 0.7140\n",
      "Epoch 81/400\n",
      "297/297 [==============================] - 1s 3ms/step - loss: 1.3977 - get_f1: 0.5592 - accuracy: 0.7311 - val_loss: 1.5311 - val_get_f1: 0.5637 - val_accuracy: 0.7140\n",
      "Epoch 82/400\n",
      "297/297 [==============================] - 1s 3ms/step - loss: 1.3911 - get_f1: 0.5614 - accuracy: 0.7322 - val_loss: 1.5253 - val_get_f1: 0.5655 - val_accuracy: 0.7145\n",
      "Epoch 83/400\n",
      "297/297 [==============================] - 1s 3ms/step - loss: 1.3827 - get_f1: 0.5636 - accuracy: 0.7337 - val_loss: 1.5175 - val_get_f1: 0.5678 - val_accuracy: 0.7145\n",
      "Epoch 84/400\n",
      "297/297 [==============================] - 1s 3ms/step - loss: 1.3755 - get_f1: 0.5654 - accuracy: 0.7346 - val_loss: 1.5127 - val_get_f1: 0.5693 - val_accuracy: 0.7160\n",
      "Epoch 85/400\n",
      "297/297 [==============================] - 1s 3ms/step - loss: 1.3696 - get_f1: 0.5676 - accuracy: 0.7346 - val_loss: 1.5087 - val_get_f1: 0.5710 - val_accuracy: 0.7168\n",
      "Epoch 86/400\n",
      "297/297 [==============================] - 1s 3ms/step - loss: 1.3627 - get_f1: 0.5693 - accuracy: 0.7369 - val_loss: 1.5011 - val_get_f1: 0.5731 - val_accuracy: 0.7193\n",
      "Epoch 87/400\n",
      "297/297 [==============================] - 1s 3ms/step - loss: 1.3539 - get_f1: 0.5717 - accuracy: 0.7380 - val_loss: 1.4957 - val_get_f1: 0.5751 - val_accuracy: 0.7210\n",
      "Epoch 88/400\n",
      "297/297 [==============================] - 1s 3ms/step - loss: 1.3490 - get_f1: 0.5736 - accuracy: 0.7378 - val_loss: 1.4890 - val_get_f1: 0.5770 - val_accuracy: 0.7203\n",
      "Epoch 89/400\n",
      "297/297 [==============================] - 1s 3ms/step - loss: 1.3412 - get_f1: 0.5757 - accuracy: 0.7390 - val_loss: 1.4852 - val_get_f1: 0.5784 - val_accuracy: 0.7212\n",
      "Epoch 90/400\n",
      "297/297 [==============================] - 1s 3ms/step - loss: 1.3350 - get_f1: 0.5778 - accuracy: 0.7413 - val_loss: 1.4792 - val_get_f1: 0.5808 - val_accuracy: 0.7237\n",
      "Epoch 91/400\n",
      "297/297 [==============================] - 1s 3ms/step - loss: 1.3287 - get_f1: 0.5793 - accuracy: 0.7420 - val_loss: 1.4733 - val_get_f1: 0.5823 - val_accuracy: 0.7230\n",
      "Epoch 92/400\n",
      "297/297 [==============================] - 1s 3ms/step - loss: 1.3216 - get_f1: 0.5815 - accuracy: 0.7435 - val_loss: 1.4682 - val_get_f1: 0.5839 - val_accuracy: 0.7235\n",
      "Epoch 93/400\n",
      "297/297 [==============================] - 1s 3ms/step - loss: 1.3151 - get_f1: 0.5832 - accuracy: 0.7449 - val_loss: 1.4653 - val_get_f1: 0.5853 - val_accuracy: 0.7253\n",
      "Epoch 94/400\n",
      "297/297 [==============================] - 1s 3ms/step - loss: 1.3095 - get_f1: 0.5852 - accuracy: 0.7449 - val_loss: 1.4581 - val_get_f1: 0.5872 - val_accuracy: 0.7253\n",
      "Epoch 95/400\n",
      "297/297 [==============================] - 1s 3ms/step - loss: 1.3018 - get_f1: 0.5870 - accuracy: 0.7466 - val_loss: 1.4551 - val_get_f1: 0.5888 - val_accuracy: 0.7250\n",
      "Epoch 96/400\n",
      "297/297 [==============================] - 1s 3ms/step - loss: 1.2952 - get_f1: 0.5891 - accuracy: 0.7479 - val_loss: 1.4496 - val_get_f1: 0.5905 - val_accuracy: 0.7272\n",
      "Epoch 97/400\n",
      "297/297 [==============================] - 1s 3ms/step - loss: 1.2917 - get_f1: 0.5905 - accuracy: 0.7483 - val_loss: 1.4453 - val_get_f1: 0.5922 - val_accuracy: 0.7270\n",
      "Epoch 98/400\n",
      "297/297 [==============================] - 1s 3ms/step - loss: 1.2831 - get_f1: 0.5925 - accuracy: 0.7501 - val_loss: 1.4398 - val_get_f1: 0.5943 - val_accuracy: 0.7283\n",
      "Epoch 99/400\n",
      "297/297 [==============================] - 1s 3ms/step - loss: 1.2757 - get_f1: 0.5948 - accuracy: 0.7513 - val_loss: 1.4341 - val_get_f1: 0.5957 - val_accuracy: 0.7312\n",
      "Epoch 100/400\n",
      "297/297 [==============================] - 1s 3ms/step - loss: 1.2712 - get_f1: 0.5964 - accuracy: 0.7528 - val_loss: 1.4297 - val_get_f1: 0.5974 - val_accuracy: 0.7308\n",
      "Epoch 101/400\n",
      "297/297 [==============================] - 1s 3ms/step - loss: 1.2645 - get_f1: 0.5982 - accuracy: 0.7532 - val_loss: 1.4261 - val_get_f1: 0.5991 - val_accuracy: 0.7310\n",
      "Epoch 102/400\n",
      "297/297 [==============================] - 1s 3ms/step - loss: 1.2590 - get_f1: 0.5996 - accuracy: 0.7545 - val_loss: 1.4207 - val_get_f1: 0.6007 - val_accuracy: 0.7322\n",
      "Epoch 103/400\n",
      "297/297 [==============================] - 1s 3ms/step - loss: 1.2553 - get_f1: 0.6013 - accuracy: 0.7543 - val_loss: 1.4166 - val_get_f1: 0.6020 - val_accuracy: 0.7312\n",
      "Epoch 104/400\n",
      "297/297 [==============================] - 1s 3ms/step - loss: 1.2473 - get_f1: 0.6033 - accuracy: 0.7568 - val_loss: 1.4106 - val_get_f1: 0.6035 - val_accuracy: 0.7335\n",
      "Epoch 105/400\n",
      "297/297 [==============================] - 1s 3ms/step - loss: 1.2409 - get_f1: 0.6048 - accuracy: 0.7569 - val_loss: 1.4087 - val_get_f1: 0.6047 - val_accuracy: 0.7325\n",
      "Epoch 106/400\n",
      "297/297 [==============================] - 1s 3ms/step - loss: 1.2358 - get_f1: 0.6066 - accuracy: 0.7578 - val_loss: 1.4036 - val_get_f1: 0.6061 - val_accuracy: 0.7340\n",
      "Epoch 107/400\n",
      "297/297 [==============================] - 1s 3ms/step - loss: 1.2302 - get_f1: 0.6081 - accuracy: 0.7592 - val_loss: 1.3990 - val_get_f1: 0.6079 - val_accuracy: 0.7340\n",
      "Epoch 108/400\n",
      "297/297 [==============================] - 1s 3ms/step - loss: 1.2240 - get_f1: 0.6099 - accuracy: 0.7603 - val_loss: 1.3965 - val_get_f1: 0.6092 - val_accuracy: 0.7350\n",
      "Epoch 109/400\n",
      "297/297 [==============================] - 1s 3ms/step - loss: 1.2178 - get_f1: 0.6117 - accuracy: 0.7606 - val_loss: 1.3898 - val_get_f1: 0.6112 - val_accuracy: 0.7352\n",
      "Epoch 110/400\n",
      "297/297 [==============================] - 1s 3ms/step - loss: 1.2126 - get_f1: 0.6135 - accuracy: 0.7625 - val_loss: 1.3872 - val_get_f1: 0.6122 - val_accuracy: 0.7377\n",
      "Epoch 111/400\n",
      "297/297 [==============================] - 1s 3ms/step - loss: 1.2082 - get_f1: 0.6148 - accuracy: 0.7624 - val_loss: 1.3819 - val_get_f1: 0.6138 - val_accuracy: 0.7398\n",
      "Epoch 112/400\n",
      "297/297 [==============================] - 1s 3ms/step - loss: 1.2016 - get_f1: 0.6168 - accuracy: 0.7643 - val_loss: 1.3787 - val_get_f1: 0.6153 - val_accuracy: 0.7408\n",
      "Epoch 113/400\n",
      "297/297 [==============================] - 1s 3ms/step - loss: 1.1998 - get_f1: 0.6178 - accuracy: 0.7636 - val_loss: 1.3734 - val_get_f1: 0.6168 - val_accuracy: 0.7408\n",
      "Epoch 114/400\n",
      "297/297 [==============================] - 1s 3ms/step - loss: 1.1906 - get_f1: 0.6198 - accuracy: 0.7656 - val_loss: 1.3729 - val_get_f1: 0.6178 - val_accuracy: 0.7405\n",
      "Epoch 115/400\n",
      "297/297 [==============================] - 1s 3ms/step - loss: 1.1859 - get_f1: 0.6216 - accuracy: 0.7664 - val_loss: 1.3661 - val_get_f1: 0.6193 - val_accuracy: 0.7405\n",
      "Epoch 116/400\n",
      "297/297 [==============================] - 1s 3ms/step - loss: 1.1812 - get_f1: 0.6228 - accuracy: 0.7669 - val_loss: 1.3617 - val_get_f1: 0.6207 - val_accuracy: 0.7415\n",
      "Epoch 117/400\n",
      "297/297 [==============================] - 1s 3ms/step - loss: 1.1768 - get_f1: 0.6243 - accuracy: 0.7677 - val_loss: 1.3592 - val_get_f1: 0.6218 - val_accuracy: 0.7418\n",
      "Epoch 118/400\n",
      "297/297 [==============================] - 1s 3ms/step - loss: 1.1697 - get_f1: 0.6261 - accuracy: 0.7687 - val_loss: 1.3536 - val_get_f1: 0.6233 - val_accuracy: 0.7415\n",
      "Epoch 119/400\n",
      "297/297 [==============================] - 1s 3ms/step - loss: 1.1655 - get_f1: 0.6277 - accuracy: 0.7696 - val_loss: 1.3524 - val_get_f1: 0.6247 - val_accuracy: 0.7433\n",
      "Epoch 120/400\n",
      "297/297 [==============================] - 1s 3ms/step - loss: 1.1600 - get_f1: 0.6291 - accuracy: 0.7707 - val_loss: 1.3471 - val_get_f1: 0.6259 - val_accuracy: 0.7450\n",
      "Epoch 121/400\n",
      "297/297 [==============================] - 1s 3ms/step - loss: 1.1545 - get_f1: 0.6309 - accuracy: 0.7716 - val_loss: 1.3428 - val_get_f1: 0.6276 - val_accuracy: 0.7458\n",
      "Epoch 122/400\n",
      "297/297 [==============================] - 1s 3ms/step - loss: 1.1482 - get_f1: 0.6327 - accuracy: 0.7724 - val_loss: 1.3398 - val_get_f1: 0.6286 - val_accuracy: 0.7440\n",
      "Epoch 123/400\n",
      "297/297 [==============================] - 1s 3ms/step - loss: 1.1457 - get_f1: 0.6338 - accuracy: 0.7732 - val_loss: 1.3374 - val_get_f1: 0.6299 - val_accuracy: 0.7440\n",
      "Epoch 124/400\n",
      "297/297 [==============================] - 1s 3ms/step - loss: 1.1412 - get_f1: 0.6348 - accuracy: 0.7734 - val_loss: 1.3323 - val_get_f1: 0.6309 - val_accuracy: 0.7455\n",
      "Epoch 125/400\n",
      "297/297 [==============================] - 1s 3ms/step - loss: 1.1334 - get_f1: 0.6368 - accuracy: 0.7733 - val_loss: 1.3285 - val_get_f1: 0.6322 - val_accuracy: 0.7465\n",
      "Epoch 126/400\n",
      "297/297 [==============================] - 1s 3ms/step - loss: 1.1302 - get_f1: 0.6378 - accuracy: 0.7750 - val_loss: 1.3268 - val_get_f1: 0.6333 - val_accuracy: 0.7470\n",
      "Epoch 127/400\n",
      "297/297 [==============================] - 1s 3ms/step - loss: 1.1267 - get_f1: 0.6392 - accuracy: 0.7749 - val_loss: 1.3241 - val_get_f1: 0.6343 - val_accuracy: 0.7477\n",
      "Epoch 128/400\n",
      "297/297 [==============================] - 1s 3ms/step - loss: 1.1210 - get_f1: 0.6410 - accuracy: 0.7770 - val_loss: 1.3186 - val_get_f1: 0.6358 - val_accuracy: 0.7467\n",
      "Epoch 129/400\n",
      "297/297 [==============================] - 1s 3ms/step - loss: 1.1153 - get_f1: 0.6420 - accuracy: 0.7772 - val_loss: 1.3165 - val_get_f1: 0.6368 - val_accuracy: 0.7483\n",
      "Epoch 130/400\n",
      "297/297 [==============================] - 1s 3ms/step - loss: 1.1120 - get_f1: 0.6436 - accuracy: 0.7772 - val_loss: 1.3145 - val_get_f1: 0.6381 - val_accuracy: 0.7473\n",
      "Epoch 131/400\n",
      "297/297 [==============================] - 1s 3ms/step - loss: 1.1085 - get_f1: 0.6449 - accuracy: 0.7781 - val_loss: 1.3103 - val_get_f1: 0.6392 - val_accuracy: 0.7483\n",
      "Epoch 132/400\n",
      "297/297 [==============================] - 1s 3ms/step - loss: 1.1019 - get_f1: 0.6467 - accuracy: 0.7797 - val_loss: 1.3059 - val_get_f1: 0.6405 - val_accuracy: 0.7490\n",
      "Epoch 133/400\n",
      "297/297 [==============================] - 1s 3ms/step - loss: 1.0984 - get_f1: 0.6478 - accuracy: 0.7808 - val_loss: 1.3038 - val_get_f1: 0.6419 - val_accuracy: 0.7510\n",
      "Epoch 134/400\n",
      "297/297 [==============================] - 1s 3ms/step - loss: 1.0956 - get_f1: 0.6489 - accuracy: 0.7802 - val_loss: 1.3002 - val_get_f1: 0.6427 - val_accuracy: 0.7523\n",
      "Epoch 135/400\n",
      "297/297 [==============================] - 1s 3ms/step - loss: 1.0901 - get_f1: 0.6504 - accuracy: 0.7815 - val_loss: 1.2992 - val_get_f1: 0.6437 - val_accuracy: 0.7508\n",
      "Epoch 136/400\n",
      "297/297 [==============================] - 1s 3ms/step - loss: 1.0853 - get_f1: 0.6517 - accuracy: 0.7820 - val_loss: 1.2954 - val_get_f1: 0.6448 - val_accuracy: 0.7523\n",
      "Epoch 137/400\n",
      "297/297 [==============================] - 1s 3ms/step - loss: 1.0797 - get_f1: 0.6532 - accuracy: 0.7834 - val_loss: 1.2930 - val_get_f1: 0.6460 - val_accuracy: 0.7523\n",
      "Epoch 138/400\n",
      "297/297 [==============================] - 1s 3ms/step - loss: 1.0760 - get_f1: 0.6539 - accuracy: 0.7842 - val_loss: 1.2870 - val_get_f1: 0.6471 - val_accuracy: 0.7538\n",
      "Epoch 139/400\n",
      "297/297 [==============================] - 1s 3ms/step - loss: 1.0723 - get_f1: 0.6555 - accuracy: 0.7839 - val_loss: 1.2851 - val_get_f1: 0.6482 - val_accuracy: 0.7540\n",
      "Epoch 140/400\n",
      "297/297 [==============================] - 1s 3ms/step - loss: 1.0692 - get_f1: 0.6563 - accuracy: 0.7851 - val_loss: 1.2839 - val_get_f1: 0.6490 - val_accuracy: 0.7533\n",
      "Epoch 141/400\n",
      "297/297 [==============================] - 1s 3ms/step - loss: 1.0636 - get_f1: 0.6582 - accuracy: 0.7859 - val_loss: 1.2809 - val_get_f1: 0.6498 - val_accuracy: 0.7538\n",
      "Epoch 142/400\n",
      "297/297 [==============================] - 1s 3ms/step - loss: 1.0597 - get_f1: 0.6596 - accuracy: 0.7861 - val_loss: 1.2759 - val_get_f1: 0.6512 - val_accuracy: 0.7540\n",
      "Epoch 143/400\n",
      "297/297 [==============================] - 1s 3ms/step - loss: 1.0559 - get_f1: 0.6605 - accuracy: 0.7874 - val_loss: 1.2738 - val_get_f1: 0.6523 - val_accuracy: 0.7555\n",
      "Epoch 144/400\n",
      "297/297 [==============================] - 1s 3ms/step - loss: 1.0516 - get_f1: 0.6621 - accuracy: 0.7877 - val_loss: 1.2729 - val_get_f1: 0.6533 - val_accuracy: 0.7575\n",
      "Epoch 145/400\n",
      "297/297 [==============================] - 1s 3ms/step - loss: 1.0460 - get_f1: 0.6633 - accuracy: 0.7893 - val_loss: 1.2679 - val_get_f1: 0.6545 - val_accuracy: 0.7573\n",
      "Epoch 146/400\n",
      "297/297 [==============================] - 1s 3ms/step - loss: 1.0426 - get_f1: 0.6646 - accuracy: 0.7896 - val_loss: 1.2671 - val_get_f1: 0.6553 - val_accuracy: 0.7558\n",
      "Epoch 147/400\n",
      "297/297 [==============================] - 1s 3ms/step - loss: 1.0395 - get_f1: 0.6657 - accuracy: 0.7895 - val_loss: 1.2643 - val_get_f1: 0.6562 - val_accuracy: 0.7577\n",
      "Epoch 148/400\n",
      "297/297 [==============================] - 1s 3ms/step - loss: 1.0364 - get_f1: 0.6666 - accuracy: 0.7902 - val_loss: 1.2637 - val_get_f1: 0.6572 - val_accuracy: 0.7575\n",
      "Epoch 149/400\n",
      "297/297 [==============================] - 1s 3ms/step - loss: 1.0319 - get_f1: 0.6680 - accuracy: 0.7905 - val_loss: 1.2566 - val_get_f1: 0.6583 - val_accuracy: 0.7585\n",
      "Epoch 150/400\n",
      "297/297 [==============================] - 1s 3ms/step - loss: 1.0292 - get_f1: 0.6688 - accuracy: 0.7910 - val_loss: 1.2558 - val_get_f1: 0.6591 - val_accuracy: 0.7573\n",
      "Epoch 151/400\n",
      "297/297 [==============================] - 1s 3ms/step - loss: 1.0228 - get_f1: 0.6708 - accuracy: 0.7922 - val_loss: 1.2534 - val_get_f1: 0.6602 - val_accuracy: 0.7590\n",
      "Epoch 152/400\n",
      "297/297 [==============================] - 1s 3ms/step - loss: 1.0206 - get_f1: 0.6716 - accuracy: 0.7931 - val_loss: 1.2518 - val_get_f1: 0.6612 - val_accuracy: 0.7592\n",
      "Epoch 153/400\n",
      "297/297 [==============================] - 1s 3ms/step - loss: 1.0145 - get_f1: 0.6727 - accuracy: 0.7932 - val_loss: 1.2475 - val_get_f1: 0.6624 - val_accuracy: 0.7592\n",
      "Epoch 154/400\n",
      "297/297 [==============================] - 1s 3ms/step - loss: 1.0102 - get_f1: 0.6741 - accuracy: 0.7949 - val_loss: 1.2460 - val_get_f1: 0.6631 - val_accuracy: 0.7588\n",
      "Epoch 155/400\n",
      "297/297 [==============================] - 1s 3ms/step - loss: 1.0086 - get_f1: 0.6750 - accuracy: 0.7947 - val_loss: 1.2420 - val_get_f1: 0.6644 - val_accuracy: 0.7592\n",
      "Epoch 156/400\n",
      "297/297 [==============================] - 1s 3ms/step - loss: 1.0062 - get_f1: 0.6755 - accuracy: 0.7944 - val_loss: 1.2408 - val_get_f1: 0.6647 - val_accuracy: 0.7610\n",
      "Epoch 157/400\n",
      "297/297 [==============================] - 1s 3ms/step - loss: 1.0008 - get_f1: 0.6774 - accuracy: 0.7951 - val_loss: 1.2374 - val_get_f1: 0.6660 - val_accuracy: 0.7610\n",
      "Epoch 158/400\n",
      "297/297 [==============================] - 1s 3ms/step - loss: 0.9988 - get_f1: 0.6783 - accuracy: 0.7962 - val_loss: 1.2357 - val_get_f1: 0.6667 - val_accuracy: 0.7615\n",
      "Epoch 159/400\n",
      "297/297 [==============================] - 1s 3ms/step - loss: 0.9927 - get_f1: 0.6795 - accuracy: 0.7973 - val_loss: 1.2334 - val_get_f1: 0.6677 - val_accuracy: 0.7620\n",
      "Epoch 160/400\n",
      "297/297 [==============================] - 1s 3ms/step - loss: 0.9918 - get_f1: 0.6805 - accuracy: 0.7961 - val_loss: 1.2319 - val_get_f1: 0.6683 - val_accuracy: 0.7628\n",
      "Epoch 161/400\n",
      "297/297 [==============================] - 1s 3ms/step - loss: 0.9864 - get_f1: 0.6821 - accuracy: 0.7972 - val_loss: 1.2278 - val_get_f1: 0.6693 - val_accuracy: 0.7640\n",
      "Epoch 162/400\n",
      "297/297 [==============================] - 1s 3ms/step - loss: 0.9849 - get_f1: 0.6825 - accuracy: 0.7979 - val_loss: 1.2262 - val_get_f1: 0.6701 - val_accuracy: 0.7632\n",
      "Epoch 163/400\n",
      "297/297 [==============================] - 1s 3ms/step - loss: 0.9802 - get_f1: 0.6839 - accuracy: 0.7989 - val_loss: 1.2227 - val_get_f1: 0.6711 - val_accuracy: 0.7630\n",
      "Epoch 164/400\n",
      "297/297 [==============================] - 1s 3ms/step - loss: 0.9756 - get_f1: 0.6849 - accuracy: 0.7995 - val_loss: 1.2218 - val_get_f1: 0.6717 - val_accuracy: 0.7645\n",
      "Epoch 165/400\n",
      "297/297 [==============================] - 1s 3ms/step - loss: 0.9725 - get_f1: 0.6861 - accuracy: 0.8010 - val_loss: 1.2189 - val_get_f1: 0.6727 - val_accuracy: 0.7648\n",
      "Epoch 166/400\n",
      "297/297 [==============================] - 1s 3ms/step - loss: 0.9701 - get_f1: 0.6865 - accuracy: 0.8010 - val_loss: 1.2183 - val_get_f1: 0.6735 - val_accuracy: 0.7653\n",
      "Epoch 167/400\n",
      "297/297 [==============================] - 1s 3ms/step - loss: 0.9665 - get_f1: 0.6880 - accuracy: 0.8018 - val_loss: 1.2177 - val_get_f1: 0.6742 - val_accuracy: 0.7645\n",
      "Epoch 168/400\n",
      "297/297 [==============================] - 1s 3ms/step - loss: 0.9625 - get_f1: 0.6893 - accuracy: 0.8023 - val_loss: 1.2130 - val_get_f1: 0.6750 - val_accuracy: 0.7650\n",
      "Epoch 169/400\n",
      "297/297 [==============================] - 1s 3ms/step - loss: 0.9604 - get_f1: 0.6896 - accuracy: 0.8026 - val_loss: 1.2129 - val_get_f1: 0.6760 - val_accuracy: 0.7670\n",
      "Epoch 170/400\n",
      "297/297 [==============================] - 1s 3ms/step - loss: 0.9557 - get_f1: 0.6913 - accuracy: 0.8034 - val_loss: 1.2117 - val_get_f1: 0.6766 - val_accuracy: 0.7682\n",
      "Epoch 171/400\n",
      "297/297 [==============================] - 1s 3ms/step - loss: 0.9519 - get_f1: 0.6926 - accuracy: 0.8041 - val_loss: 1.2081 - val_get_f1: 0.6776 - val_accuracy: 0.7675\n",
      "Epoch 172/400\n",
      "297/297 [==============================] - 1s 3ms/step - loss: 0.9490 - get_f1: 0.6933 - accuracy: 0.8045 - val_loss: 1.2059 - val_get_f1: 0.6784 - val_accuracy: 0.7680\n",
      "Epoch 173/400\n",
      "297/297 [==============================] - 1s 3ms/step - loss: 0.9452 - get_f1: 0.6942 - accuracy: 0.8052 - val_loss: 1.2037 - val_get_f1: 0.6792 - val_accuracy: 0.7675\n",
      "Epoch 174/400\n",
      "297/297 [==============================] - 1s 3ms/step - loss: 0.9429 - get_f1: 0.6954 - accuracy: 0.8059 - val_loss: 1.2029 - val_get_f1: 0.6801 - val_accuracy: 0.7680\n",
      "Epoch 175/400\n",
      "297/297 [==============================] - 1s 3ms/step - loss: 0.9399 - get_f1: 0.6963 - accuracy: 0.8059 - val_loss: 1.2002 - val_get_f1: 0.6808 - val_accuracy: 0.7688\n",
      "Epoch 176/400\n",
      "297/297 [==============================] - 1s 3ms/step - loss: 0.9370 - get_f1: 0.6974 - accuracy: 0.8071 - val_loss: 1.1989 - val_get_f1: 0.6810 - val_accuracy: 0.7688\n",
      "Epoch 177/400\n",
      "297/297 [==============================] - 1s 3ms/step - loss: 0.9320 - get_f1: 0.6984 - accuracy: 0.8088 - val_loss: 1.1975 - val_get_f1: 0.6821 - val_accuracy: 0.7685\n",
      "Epoch 178/400\n",
      "297/297 [==============================] - 1s 3ms/step - loss: 0.9312 - get_f1: 0.6989 - accuracy: 0.8074 - val_loss: 1.1974 - val_get_f1: 0.6827 - val_accuracy: 0.7682\n",
      "Epoch 179/400\n",
      "297/297 [==============================] - 1s 3ms/step - loss: 0.9257 - get_f1: 0.7003 - accuracy: 0.8086 - val_loss: 1.1960 - val_get_f1: 0.6835 - val_accuracy: 0.7690\n",
      "Epoch 180/400\n",
      "297/297 [==============================] - 1s 3ms/step - loss: 0.9226 - get_f1: 0.7014 - accuracy: 0.8092 - val_loss: 1.1953 - val_get_f1: 0.6841 - val_accuracy: 0.7688\n",
      "Epoch 181/400\n",
      "297/297 [==============================] - 1s 3ms/step - loss: 0.9241 - get_f1: 0.7019 - accuracy: 0.8089 - val_loss: 1.1923 - val_get_f1: 0.6846 - val_accuracy: 0.7682\n",
      "Epoch 182/400\n",
      "297/297 [==============================] - 1s 3ms/step - loss: 0.9185 - get_f1: 0.7031 - accuracy: 0.8104 - val_loss: 1.1908 - val_get_f1: 0.6856 - val_accuracy: 0.7710\n",
      "Epoch 183/400\n",
      "297/297 [==============================] - 1s 3ms/step - loss: 0.9148 - get_f1: 0.7035 - accuracy: 0.8112 - val_loss: 1.1882 - val_get_f1: 0.6862 - val_accuracy: 0.7703\n",
      "Epoch 184/400\n",
      "297/297 [==============================] - 1s 3ms/step - loss: 0.9117 - get_f1: 0.7044 - accuracy: 0.8111 - val_loss: 1.1830 - val_get_f1: 0.6877 - val_accuracy: 0.7703\n",
      "Epoch 185/400\n",
      "297/297 [==============================] - 1s 3ms/step - loss: 0.9117 - get_f1: 0.7050 - accuracy: 0.8108 - val_loss: 1.1829 - val_get_f1: 0.6880 - val_accuracy: 0.7713\n",
      "Epoch 186/400\n",
      "297/297 [==============================] - 1s 3ms/step - loss: 0.9057 - get_f1: 0.7065 - accuracy: 0.8126 - val_loss: 1.1811 - val_get_f1: 0.6886 - val_accuracy: 0.7713\n",
      "Epoch 187/400\n",
      "297/297 [==============================] - 1s 3ms/step - loss: 0.9041 - get_f1: 0.7077 - accuracy: 0.8130 - val_loss: 1.1808 - val_get_f1: 0.6891 - val_accuracy: 0.7720\n",
      "Epoch 188/400\n",
      "297/297 [==============================] - 1s 3ms/step - loss: 0.9000 - get_f1: 0.7086 - accuracy: 0.8132 - val_loss: 1.1780 - val_get_f1: 0.6902 - val_accuracy: 0.7722\n",
      "Epoch 189/400\n",
      "297/297 [==============================] - 1s 3ms/step - loss: 0.8960 - get_f1: 0.7099 - accuracy: 0.8149 - val_loss: 1.1776 - val_get_f1: 0.6907 - val_accuracy: 0.7705\n",
      "Epoch 190/400\n",
      "297/297 [==============================] - 1s 3ms/step - loss: 0.8968 - get_f1: 0.7099 - accuracy: 0.8140 - val_loss: 1.1758 - val_get_f1: 0.6914 - val_accuracy: 0.7713\n",
      "Epoch 191/400\n",
      "297/297 [==============================] - 1s 3ms/step - loss: 0.8913 - get_f1: 0.7111 - accuracy: 0.8150 - val_loss: 1.1739 - val_get_f1: 0.6923 - val_accuracy: 0.7717\n",
      "Epoch 192/400\n",
      "297/297 [==============================] - 1s 3ms/step - loss: 0.8898 - get_f1: 0.7120 - accuracy: 0.8153 - val_loss: 1.1731 - val_get_f1: 0.6925 - val_accuracy: 0.7697\n",
      "Epoch 193/400\n",
      "297/297 [==============================] - 1s 3ms/step - loss: 0.8859 - get_f1: 0.7130 - accuracy: 0.8165 - val_loss: 1.1690 - val_get_f1: 0.6933 - val_accuracy: 0.7710\n",
      "Epoch 194/400\n",
      "297/297 [==============================] - 1s 3ms/step - loss: 0.8822 - get_f1: 0.7140 - accuracy: 0.8168 - val_loss: 1.1704 - val_get_f1: 0.6942 - val_accuracy: 0.7717\n",
      "Epoch 195/400\n",
      "297/297 [==============================] - 1s 3ms/step - loss: 0.8810 - get_f1: 0.7144 - accuracy: 0.8167 - val_loss: 1.1677 - val_get_f1: 0.6947 - val_accuracy: 0.7720\n",
      "Epoch 196/400\n",
      "297/297 [==============================] - 1s 3ms/step - loss: 0.8790 - get_f1: 0.7151 - accuracy: 0.8172 - val_loss: 1.1645 - val_get_f1: 0.6954 - val_accuracy: 0.7717\n",
      "Epoch 197/400\n",
      "297/297 [==============================] - 1s 3ms/step - loss: 0.8754 - get_f1: 0.7166 - accuracy: 0.8186 - val_loss: 1.1644 - val_get_f1: 0.6960 - val_accuracy: 0.7728\n",
      "Epoch 198/400\n",
      "297/297 [==============================] - 1s 3ms/step - loss: 0.8712 - get_f1: 0.7173 - accuracy: 0.8190 - val_loss: 1.1628 - val_get_f1: 0.6968 - val_accuracy: 0.7725\n",
      "Epoch 199/400\n",
      "297/297 [==============================] - 1s 3ms/step - loss: 0.8697 - get_f1: 0.7182 - accuracy: 0.8197 - val_loss: 1.1625 - val_get_f1: 0.6972 - val_accuracy: 0.7722\n",
      "Epoch 200/400\n",
      "297/297 [==============================] - 1s 3ms/step - loss: 0.8689 - get_f1: 0.7183 - accuracy: 0.8186 - val_loss: 1.1600 - val_get_f1: 0.6983 - val_accuracy: 0.7730\n",
      "Epoch 201/400\n",
      "297/297 [==============================] - 1s 3ms/step - loss: 0.8645 - get_f1: 0.7195 - accuracy: 0.8199 - val_loss: 1.1564 - val_get_f1: 0.6987 - val_accuracy: 0.7730\n",
      "Epoch 202/400\n",
      "297/297 [==============================] - 1s 3ms/step - loss: 0.8625 - get_f1: 0.7205 - accuracy: 0.8206 - val_loss: 1.1544 - val_get_f1: 0.6997 - val_accuracy: 0.7717\n",
      "Epoch 203/400\n",
      "297/297 [==============================] - 1s 3ms/step - loss: 0.8594 - get_f1: 0.7211 - accuracy: 0.8214 - val_loss: 1.1534 - val_get_f1: 0.6999 - val_accuracy: 0.7732\n",
      "Epoch 204/400\n",
      "297/297 [==============================] - 1s 3ms/step - loss: 0.8563 - get_f1: 0.7221 - accuracy: 0.8209 - val_loss: 1.1522 - val_get_f1: 0.7008 - val_accuracy: 0.7735\n",
      "Epoch 205/400\n",
      "297/297 [==============================] - 1s 3ms/step - loss: 0.8536 - get_f1: 0.7231 - accuracy: 0.8215 - val_loss: 1.1502 - val_get_f1: 0.7014 - val_accuracy: 0.7732\n",
      "Epoch 206/400\n",
      "297/297 [==============================] - 1s 3ms/step - loss: 0.8525 - get_f1: 0.7233 - accuracy: 0.8216 - val_loss: 1.1500 - val_get_f1: 0.7021 - val_accuracy: 0.7738\n",
      "Epoch 207/400\n",
      "297/297 [==============================] - 1s 3ms/step - loss: 0.8480 - get_f1: 0.7247 - accuracy: 0.8224 - val_loss: 1.1496 - val_get_f1: 0.7028 - val_accuracy: 0.7738\n",
      "Epoch 208/400\n",
      "297/297 [==============================] - 1s 3ms/step - loss: 0.8460 - get_f1: 0.7255 - accuracy: 0.8228 - val_loss: 1.1468 - val_get_f1: 0.7030 - val_accuracy: 0.7738\n",
      "Epoch 209/400\n",
      "297/297 [==============================] - 1s 3ms/step - loss: 0.8449 - get_f1: 0.7259 - accuracy: 0.8229 - val_loss: 1.1463 - val_get_f1: 0.7041 - val_accuracy: 0.7747\n",
      "Epoch 210/400\n",
      "297/297 [==============================] - 1s 3ms/step - loss: 0.8432 - get_f1: 0.7267 - accuracy: 0.8242 - val_loss: 1.1453 - val_get_f1: 0.7045 - val_accuracy: 0.7745\n",
      "Epoch 211/400\n",
      "297/297 [==============================] - 1s 3ms/step - loss: 0.8390 - get_f1: 0.7277 - accuracy: 0.8231 - val_loss: 1.1427 - val_get_f1: 0.7052 - val_accuracy: 0.7732\n",
      "Epoch 212/400\n",
      "297/297 [==============================] - 1s 3ms/step - loss: 0.8386 - get_f1: 0.7278 - accuracy: 0.8242 - val_loss: 1.1437 - val_get_f1: 0.7056 - val_accuracy: 0.7755\n",
      "Epoch 213/400\n",
      "297/297 [==============================] - 1s 3ms/step - loss: 0.8342 - get_f1: 0.7291 - accuracy: 0.8249 - val_loss: 1.1433 - val_get_f1: 0.7059 - val_accuracy: 0.7757\n",
      "Epoch 214/400\n",
      "297/297 [==============================] - 1s 3ms/step - loss: 0.8327 - get_f1: 0.7295 - accuracy: 0.8251 - val_loss: 1.1419 - val_get_f1: 0.7066 - val_accuracy: 0.7753\n",
      "Epoch 215/400\n",
      "297/297 [==============================] - 1s 3ms/step - loss: 0.8282 - get_f1: 0.7309 - accuracy: 0.8267 - val_loss: 1.1388 - val_get_f1: 0.7074 - val_accuracy: 0.7760\n",
      "Epoch 216/400\n",
      "297/297 [==============================] - 1s 3ms/step - loss: 0.8263 - get_f1: 0.7317 - accuracy: 0.8257 - val_loss: 1.1389 - val_get_f1: 0.7083 - val_accuracy: 0.7760\n",
      "Epoch 217/400\n",
      "297/297 [==============================] - 1s 3ms/step - loss: 0.8235 - get_f1: 0.7327 - accuracy: 0.8268 - val_loss: 1.1365 - val_get_f1: 0.7085 - val_accuracy: 0.7788\n",
      "Epoch 218/400\n",
      "297/297 [==============================] - 1s 3ms/step - loss: 0.8209 - get_f1: 0.7335 - accuracy: 0.8276 - val_loss: 1.1373 - val_get_f1: 0.7088 - val_accuracy: 0.7797\n",
      "Epoch 219/400\n",
      "297/297 [==============================] - 1s 3ms/step - loss: 0.8202 - get_f1: 0.7342 - accuracy: 0.8284 - val_loss: 1.1370 - val_get_f1: 0.7094 - val_accuracy: 0.7775\n",
      "Epoch 220/400\n",
      "297/297 [==============================] - 1s 3ms/step - loss: 0.8151 - get_f1: 0.7350 - accuracy: 0.8281 - val_loss: 1.1360 - val_get_f1: 0.7103 - val_accuracy: 0.7782\n",
      "Epoch 221/400\n",
      "297/297 [==============================] - 1s 4ms/step - loss: 0.8138 - get_f1: 0.7355 - accuracy: 0.8289 - val_loss: 1.1316 - val_get_f1: 0.7114 - val_accuracy: 0.7803\n",
      "Epoch 222/400\n",
      "297/297 [==============================] - 1s 3ms/step - loss: 0.8119 - get_f1: 0.7360 - accuracy: 0.8288 - val_loss: 1.1313 - val_get_f1: 0.7112 - val_accuracy: 0.7790\n",
      "Epoch 223/400\n",
      "297/297 [==============================] - 1s 3ms/step - loss: 0.8103 - get_f1: 0.7368 - accuracy: 0.8291 - val_loss: 1.1298 - val_get_f1: 0.7117 - val_accuracy: 0.7797\n",
      "Epoch 224/400\n",
      "297/297 [==============================] - 1s 3ms/step - loss: 0.8068 - get_f1: 0.7378 - accuracy: 0.8304 - val_loss: 1.1301 - val_get_f1: 0.7118 - val_accuracy: 0.7795\n",
      "Epoch 225/400\n",
      "297/297 [==============================] - 1s 3ms/step - loss: 0.8026 - get_f1: 0.7386 - accuracy: 0.8309 - val_loss: 1.1279 - val_get_f1: 0.7128 - val_accuracy: 0.7785\n",
      "Epoch 226/400\n",
      "297/297 [==============================] - 1s 3ms/step - loss: 0.8042 - get_f1: 0.7385 - accuracy: 0.8303 - val_loss: 1.1262 - val_get_f1: 0.7134 - val_accuracy: 0.7790\n",
      "Epoch 227/400\n",
      "297/297 [==============================] - 1s 3ms/step - loss: 0.8020 - get_f1: 0.7395 - accuracy: 0.8303 - val_loss: 1.1290 - val_get_f1: 0.7137 - val_accuracy: 0.7780\n",
      "Epoch 228/400\n",
      "297/297 [==============================] - 1s 3ms/step - loss: 0.7976 - get_f1: 0.7408 - accuracy: 0.8314 - val_loss: 1.1246 - val_get_f1: 0.7142 - val_accuracy: 0.7790\n",
      "Epoch 229/400\n",
      "297/297 [==============================] - 1s 3ms/step - loss: 0.7968 - get_f1: 0.7413 - accuracy: 0.8311 - val_loss: 1.1244 - val_get_f1: 0.7151 - val_accuracy: 0.7788\n",
      "Epoch 230/400\n",
      "297/297 [==============================] - 1s 3ms/step - loss: 0.7955 - get_f1: 0.7416 - accuracy: 0.8319 - val_loss: 1.1231 - val_get_f1: 0.7152 - val_accuracy: 0.7793\n",
      "Epoch 231/400\n",
      "297/297 [==============================] - 1s 3ms/step - loss: 0.7922 - get_f1: 0.7422 - accuracy: 0.8328 - val_loss: 1.1205 - val_get_f1: 0.7157 - val_accuracy: 0.7803\n",
      "Epoch 232/400\n",
      "297/297 [==============================] - 1s 3ms/step - loss: 0.7909 - get_f1: 0.7433 - accuracy: 0.8327 - val_loss: 1.1214 - val_get_f1: 0.7163 - val_accuracy: 0.7807\n",
      "Epoch 233/400\n",
      "297/297 [==============================] - 1s 3ms/step - loss: 0.7900 - get_f1: 0.7438 - accuracy: 0.8323 - val_loss: 1.1202 - val_get_f1: 0.7167 - val_accuracy: 0.7815\n",
      "Epoch 234/400\n",
      "297/297 [==============================] - 1s 3ms/step - loss: 0.7867 - get_f1: 0.7444 - accuracy: 0.8335 - val_loss: 1.1187 - val_get_f1: 0.7173 - val_accuracy: 0.7803\n",
      "Epoch 235/400\n",
      "297/297 [==============================] - 1s 3ms/step - loss: 0.7821 - get_f1: 0.7455 - accuracy: 0.8339 - val_loss: 1.1165 - val_get_f1: 0.7180 - val_accuracy: 0.7830\n",
      "Epoch 236/400\n",
      "297/297 [==============================] - 1s 3ms/step - loss: 0.7841 - get_f1: 0.7450 - accuracy: 0.8345 - val_loss: 1.1172 - val_get_f1: 0.7186 - val_accuracy: 0.7812\n",
      "Epoch 237/400\n",
      "297/297 [==============================] - 1s 3ms/step - loss: 0.7798 - get_f1: 0.7462 - accuracy: 0.8344 - val_loss: 1.1182 - val_get_f1: 0.7190 - val_accuracy: 0.7805\n",
      "Epoch 238/400\n",
      "297/297 [==============================] - 1s 3ms/step - loss: 0.7789 - get_f1: 0.7471 - accuracy: 0.8349 - val_loss: 1.1143 - val_get_f1: 0.7200 - val_accuracy: 0.7828\n",
      "Epoch 239/400\n",
      "297/297 [==============================] - 1s 3ms/step - loss: 0.7759 - get_f1: 0.7477 - accuracy: 0.8347 - val_loss: 1.1156 - val_get_f1: 0.7201 - val_accuracy: 0.7830\n",
      "Epoch 240/400\n",
      "297/297 [==============================] - 1s 3ms/step - loss: 0.7734 - get_f1: 0.7484 - accuracy: 0.8357 - val_loss: 1.1131 - val_get_f1: 0.7200 - val_accuracy: 0.7828\n",
      "Epoch 241/400\n",
      "297/297 [==============================] - 1s 3ms/step - loss: 0.7719 - get_f1: 0.7489 - accuracy: 0.8357 - val_loss: 1.1136 - val_get_f1: 0.7210 - val_accuracy: 0.7832\n",
      "Epoch 242/400\n",
      "297/297 [==============================] - 1s 3ms/step - loss: 0.7705 - get_f1: 0.7493 - accuracy: 0.8360 - val_loss: 1.1146 - val_get_f1: 0.7210 - val_accuracy: 0.7825\n",
      "Epoch 243/400\n",
      "297/297 [==============================] - 1s 3ms/step - loss: 0.7656 - get_f1: 0.7505 - accuracy: 0.8373 - val_loss: 1.1120 - val_get_f1: 0.7213 - val_accuracy: 0.7818\n",
      "Epoch 244/400\n",
      "297/297 [==============================] - 1s 3ms/step - loss: 0.7660 - get_f1: 0.7507 - accuracy: 0.8367 - val_loss: 1.1092 - val_get_f1: 0.7219 - val_accuracy: 0.7812\n",
      "Epoch 245/400\n",
      "297/297 [==============================] - 1s 3ms/step - loss: 0.7636 - get_f1: 0.7514 - accuracy: 0.8372 - val_loss: 1.1085 - val_get_f1: 0.7223 - val_accuracy: 0.7822\n",
      "Epoch 246/400\n",
      "297/297 [==============================] - 1s 3ms/step - loss: 0.7611 - get_f1: 0.7522 - accuracy: 0.8367 - val_loss: 1.1079 - val_get_f1: 0.7228 - val_accuracy: 0.7837\n",
      "Epoch 247/400\n",
      "297/297 [==============================] - 1s 3ms/step - loss: 0.7564 - get_f1: 0.7535 - accuracy: 0.8390 - val_loss: 1.1080 - val_get_f1: 0.7235 - val_accuracy: 0.7835\n",
      "Epoch 248/400\n",
      "297/297 [==============================] - 1s 3ms/step - loss: 0.7570 - get_f1: 0.7538 - accuracy: 0.8385 - val_loss: 1.1050 - val_get_f1: 0.7238 - val_accuracy: 0.7835\n",
      "Epoch 249/400\n",
      "297/297 [==============================] - 1s 3ms/step - loss: 0.7561 - get_f1: 0.7543 - accuracy: 0.8392 - val_loss: 1.1054 - val_get_f1: 0.7243 - val_accuracy: 0.7840\n",
      "Epoch 250/400\n",
      "297/297 [==============================] - 1s 3ms/step - loss: 0.7526 - get_f1: 0.7546 - accuracy: 0.8396 - val_loss: 1.1050 - val_get_f1: 0.7250 - val_accuracy: 0.7855\n",
      "Epoch 251/400\n",
      "297/297 [==============================] - 1s 3ms/step - loss: 0.7506 - get_f1: 0.7555 - accuracy: 0.8396 - val_loss: 1.1022 - val_get_f1: 0.7253 - val_accuracy: 0.7847\n",
      "Epoch 252/400\n",
      "297/297 [==============================] - 1s 3ms/step - loss: 0.7497 - get_f1: 0.7558 - accuracy: 0.8402 - val_loss: 1.1064 - val_get_f1: 0.7256 - val_accuracy: 0.7843\n",
      "Epoch 253/400\n",
      "297/297 [==============================] - 1s 3ms/step - loss: 0.7483 - get_f1: 0.7565 - accuracy: 0.8398 - val_loss: 1.1023 - val_get_f1: 0.7264 - val_accuracy: 0.7853\n",
      "Epoch 254/400\n",
      "297/297 [==============================] - 1s 3ms/step - loss: 0.7464 - get_f1: 0.7574 - accuracy: 0.8405 - val_loss: 1.1000 - val_get_f1: 0.7266 - val_accuracy: 0.7850\n",
      "Epoch 255/400\n",
      "297/297 [==============================] - 1s 3ms/step - loss: 0.7428 - get_f1: 0.7578 - accuracy: 0.8412 - val_loss: 1.1016 - val_get_f1: 0.7268 - val_accuracy: 0.7855\n",
      "Epoch 256/400\n",
      "297/297 [==============================] - 1s 3ms/step - loss: 0.7426 - get_f1: 0.7583 - accuracy: 0.8404 - val_loss: 1.1002 - val_get_f1: 0.7275 - val_accuracy: 0.7865\n",
      "Epoch 257/400\n",
      "297/297 [==============================] - 1s 3ms/step - loss: 0.7391 - get_f1: 0.7592 - accuracy: 0.8425 - val_loss: 1.0986 - val_get_f1: 0.7282 - val_accuracy: 0.7855\n",
      "Epoch 258/400\n",
      "297/297 [==============================] - 1s 3ms/step - loss: 0.7378 - get_f1: 0.7599 - accuracy: 0.8419 - val_loss: 1.0985 - val_get_f1: 0.7284 - val_accuracy: 0.7870\n",
      "Epoch 259/400\n",
      "297/297 [==============================] - 1s 3ms/step - loss: 0.7365 - get_f1: 0.7607 - accuracy: 0.8422 - val_loss: 1.0979 - val_get_f1: 0.7289 - val_accuracy: 0.7865\n",
      "Epoch 260/400\n",
      "297/297 [==============================] - 1s 3ms/step - loss: 0.7355 - get_f1: 0.7607 - accuracy: 0.8422 - val_loss: 1.0947 - val_get_f1: 0.7292 - val_accuracy: 0.7868\n",
      "Epoch 261/400\n",
      "297/297 [==============================] - 1s 3ms/step - loss: 0.7337 - get_f1: 0.7615 - accuracy: 0.8438 - val_loss: 1.0981 - val_get_f1: 0.7298 - val_accuracy: 0.7865\n",
      "Epoch 262/400\n",
      "297/297 [==============================] - 1s 3ms/step - loss: 0.7302 - get_f1: 0.7621 - accuracy: 0.8439 - val_loss: 1.0961 - val_get_f1: 0.7298 - val_accuracy: 0.7868\n",
      "Epoch 263/400\n",
      "297/297 [==============================] - 1s 3ms/step - loss: 0.7294 - get_f1: 0.7627 - accuracy: 0.8443 - val_loss: 1.0943 - val_get_f1: 0.7302 - val_accuracy: 0.7857\n",
      "Epoch 264/400\n",
      "297/297 [==============================] - 1s 3ms/step - loss: 0.7293 - get_f1: 0.7626 - accuracy: 0.8438 - val_loss: 1.0944 - val_get_f1: 0.7306 - val_accuracy: 0.7868\n",
      "Epoch 265/400\n",
      "297/297 [==============================] - 1s 3ms/step - loss: 0.7250 - get_f1: 0.7640 - accuracy: 0.8452 - val_loss: 1.0935 - val_get_f1: 0.7312 - val_accuracy: 0.7872\n",
      "Epoch 266/400\n",
      "297/297 [==============================] - 1s 3ms/step - loss: 0.7228 - get_f1: 0.7646 - accuracy: 0.8455 - val_loss: 1.0974 - val_get_f1: 0.7315 - val_accuracy: 0.7872\n",
      "Epoch 267/400\n",
      "297/297 [==============================] - 1s 3ms/step - loss: 0.7202 - get_f1: 0.7650 - accuracy: 0.8459 - val_loss: 1.0945 - val_get_f1: 0.7319 - val_accuracy: 0.7875\n",
      "Epoch 268/400\n",
      "297/297 [==============================] - 1s 3ms/step - loss: 0.7204 - get_f1: 0.7656 - accuracy: 0.8450 - val_loss: 1.0913 - val_get_f1: 0.7325 - val_accuracy: 0.7878\n",
      "Epoch 269/400\n",
      "297/297 [==============================] - 1s 3ms/step - loss: 0.7180 - get_f1: 0.7661 - accuracy: 0.8458 - val_loss: 1.0907 - val_get_f1: 0.7324 - val_accuracy: 0.7887\n",
      "Epoch 270/400\n",
      "297/297 [==============================] - 1s 3ms/step - loss: 0.7184 - get_f1: 0.7661 - accuracy: 0.8456 - val_loss: 1.0916 - val_get_f1: 0.7330 - val_accuracy: 0.7878\n",
      "Epoch 271/400\n",
      "297/297 [==============================] - 1s 3ms/step - loss: 0.7168 - get_f1: 0.7665 - accuracy: 0.8463 - val_loss: 1.0897 - val_get_f1: 0.7332 - val_accuracy: 0.7883\n",
      "Epoch 272/400\n",
      "297/297 [==============================] - 1s 3ms/step - loss: 0.7152 - get_f1: 0.7676 - accuracy: 0.8456 - val_loss: 1.0886 - val_get_f1: 0.7334 - val_accuracy: 0.7880\n",
      "Epoch 273/400\n",
      "297/297 [==============================] - 1s 3ms/step - loss: 0.7113 - get_f1: 0.7681 - accuracy: 0.8473 - val_loss: 1.0898 - val_get_f1: 0.7340 - val_accuracy: 0.7900\n",
      "Epoch 274/400\n",
      "297/297 [==============================] - 1s 3ms/step - loss: 0.7103 - get_f1: 0.7685 - accuracy: 0.8468 - val_loss: 1.0848 - val_get_f1: 0.7348 - val_accuracy: 0.7890\n",
      "Epoch 275/400\n",
      "297/297 [==============================] - 1s 3ms/step - loss: 0.7079 - get_f1: 0.7695 - accuracy: 0.8488 - val_loss: 1.0854 - val_get_f1: 0.7353 - val_accuracy: 0.7893\n",
      "Epoch 276/400\n",
      "297/297 [==============================] - 1s 3ms/step - loss: 0.7104 - get_f1: 0.7691 - accuracy: 0.8468 - val_loss: 1.0835 - val_get_f1: 0.7352 - val_accuracy: 0.7897\n",
      "Epoch 277/400\n",
      "297/297 [==============================] - 1s 3ms/step - loss: 0.7039 - get_f1: 0.7701 - accuracy: 0.8485 - val_loss: 1.0853 - val_get_f1: 0.7355 - val_accuracy: 0.7880\n",
      "Epoch 278/400\n",
      "297/297 [==============================] - 1s 3ms/step - loss: 0.7051 - get_f1: 0.7703 - accuracy: 0.8468 - val_loss: 1.0867 - val_get_f1: 0.7363 - val_accuracy: 0.7893\n",
      "Epoch 279/400\n",
      "297/297 [==============================] - 1s 3ms/step - loss: 0.7021 - get_f1: 0.7710 - accuracy: 0.8493 - val_loss: 1.0853 - val_get_f1: 0.7362 - val_accuracy: 0.7887\n",
      "Epoch 280/400\n",
      "297/297 [==============================] - 1s 3ms/step - loss: 0.7018 - get_f1: 0.7713 - accuracy: 0.8489 - val_loss: 1.0843 - val_get_f1: 0.7367 - val_accuracy: 0.7887\n",
      "Epoch 281/400\n",
      "297/297 [==============================] - 1s 3ms/step - loss: 0.6981 - get_f1: 0.7723 - accuracy: 0.8496 - val_loss: 1.0855 - val_get_f1: 0.7371 - val_accuracy: 0.7878\n",
      "Epoch 282/400\n",
      "297/297 [==============================] - 1s 3ms/step - loss: 0.6993 - get_f1: 0.7726 - accuracy: 0.8498 - val_loss: 1.0847 - val_get_f1: 0.7370 - val_accuracy: 0.7895\n",
      "Epoch 283/400\n",
      "297/297 [==============================] - 1s 3ms/step - loss: 0.6965 - get_f1: 0.7729 - accuracy: 0.8501 - val_loss: 1.0840 - val_get_f1: 0.7372 - val_accuracy: 0.7897\n",
      "Epoch 284/400\n",
      "297/297 [==============================] - 1s 3ms/step - loss: 0.6925 - get_f1: 0.7736 - accuracy: 0.8508 - val_loss: 1.0832 - val_get_f1: 0.7376 - val_accuracy: 0.7893\n",
      "Epoch 285/400\n",
      "297/297 [==============================] - 1s 3ms/step - loss: 0.6932 - get_f1: 0.7739 - accuracy: 0.8497 - val_loss: 1.0827 - val_get_f1: 0.7379 - val_accuracy: 0.7883\n",
      "Epoch 286/400\n",
      "297/297 [==============================] - 1s 3ms/step - loss: 0.6907 - get_f1: 0.7747 - accuracy: 0.8512 - val_loss: 1.0790 - val_get_f1: 0.7385 - val_accuracy: 0.7893\n",
      "Epoch 287/400\n",
      "297/297 [==============================] - 1s 3ms/step - loss: 0.6902 - get_f1: 0.7751 - accuracy: 0.8505 - val_loss: 1.0806 - val_get_f1: 0.7387 - val_accuracy: 0.7893\n",
      "Epoch 288/400\n",
      "297/297 [==============================] - 1s 3ms/step - loss: 0.6875 - get_f1: 0.7755 - accuracy: 0.8506 - val_loss: 1.0822 - val_get_f1: 0.7391 - val_accuracy: 0.7890\n",
      "Epoch 289/400\n",
      "297/297 [==============================] - 1s 3ms/step - loss: 0.6868 - get_f1: 0.7760 - accuracy: 0.8513 - val_loss: 1.0785 - val_get_f1: 0.7393 - val_accuracy: 0.7900\n",
      "Epoch 290/400\n",
      "297/297 [==============================] - 1s 3ms/step - loss: 0.6846 - get_f1: 0.7769 - accuracy: 0.8515 - val_loss: 1.0805 - val_get_f1: 0.7398 - val_accuracy: 0.7908\n",
      "Epoch 291/400\n",
      "297/297 [==============================] - 1s 3ms/step - loss: 0.6830 - get_f1: 0.7774 - accuracy: 0.8529 - val_loss: 1.0785 - val_get_f1: 0.7401 - val_accuracy: 0.7895\n",
      "Epoch 292/400\n",
      "297/297 [==============================] - 1s 3ms/step - loss: 0.6804 - get_f1: 0.7778 - accuracy: 0.8527 - val_loss: 1.0794 - val_get_f1: 0.7406 - val_accuracy: 0.7903\n",
      "Epoch 293/400\n",
      "297/297 [==============================] - 1s 3ms/step - loss: 0.6791 - get_f1: 0.7780 - accuracy: 0.8529 - val_loss: 1.0792 - val_get_f1: 0.7409 - val_accuracy: 0.7908\n",
      "Epoch 294/400\n",
      "297/297 [==============================] - 1s 3ms/step - loss: 0.6797 - get_f1: 0.7782 - accuracy: 0.8528 - val_loss: 1.0786 - val_get_f1: 0.7409 - val_accuracy: 0.7900\n",
      "Epoch 295/400\n",
      "297/297 [==============================] - 1s 3ms/step - loss: 0.6765 - get_f1: 0.7790 - accuracy: 0.8534 - val_loss: 1.0766 - val_get_f1: 0.7413 - val_accuracy: 0.7910\n",
      "Epoch 296/400\n",
      "297/297 [==============================] - 1s 3ms/step - loss: 0.6767 - get_f1: 0.7794 - accuracy: 0.8529 - val_loss: 1.0761 - val_get_f1: 0.7417 - val_accuracy: 0.7903\n",
      "Epoch 297/400\n",
      "297/297 [==============================] - 1s 3ms/step - loss: 0.6760 - get_f1: 0.7798 - accuracy: 0.8541 - val_loss: 1.0772 - val_get_f1: 0.7420 - val_accuracy: 0.7903\n",
      "Epoch 298/400\n",
      "297/297 [==============================] - 1s 3ms/step - loss: 0.6721 - get_f1: 0.7805 - accuracy: 0.8536 - val_loss: 1.0740 - val_get_f1: 0.7421 - val_accuracy: 0.7905\n",
      "Epoch 299/400\n",
      "297/297 [==============================] - 1s 3ms/step - loss: 0.6711 - get_f1: 0.7811 - accuracy: 0.8551 - val_loss: 1.0762 - val_get_f1: 0.7429 - val_accuracy: 0.7903\n",
      "Epoch 300/400\n",
      "297/297 [==============================] - 1s 3ms/step - loss: 0.6698 - get_f1: 0.7814 - accuracy: 0.8543 - val_loss: 1.0713 - val_get_f1: 0.7431 - val_accuracy: 0.7920\n",
      "Epoch 301/400\n",
      "297/297 [==============================] - 1s 3ms/step - loss: 0.6697 - get_f1: 0.7816 - accuracy: 0.8551 - val_loss: 1.0735 - val_get_f1: 0.7429 - val_accuracy: 0.7912\n",
      "Epoch 302/400\n",
      "297/297 [==============================] - 1s 3ms/step - loss: 0.6670 - get_f1: 0.7821 - accuracy: 0.8550 - val_loss: 1.0718 - val_get_f1: 0.7431 - val_accuracy: 0.7910\n",
      "Epoch 303/400\n",
      "297/297 [==============================] - 1s 3ms/step - loss: 0.6648 - get_f1: 0.7828 - accuracy: 0.8563 - val_loss: 1.0732 - val_get_f1: 0.7435 - val_accuracy: 0.7920\n",
      "Epoch 304/400\n",
      "297/297 [==============================] - 1s 3ms/step - loss: 0.6634 - get_f1: 0.7834 - accuracy: 0.8554 - val_loss: 1.0747 - val_get_f1: 0.7437 - val_accuracy: 0.7910\n",
      "Epoch 305/400\n",
      "297/297 [==============================] - 1s 3ms/step - loss: 0.6632 - get_f1: 0.7834 - accuracy: 0.8557 - val_loss: 1.0707 - val_get_f1: 0.7438 - val_accuracy: 0.7915\n",
      "Epoch 306/400\n",
      "297/297 [==============================] - 1s 3ms/step - loss: 0.6605 - get_f1: 0.7843 - accuracy: 0.8566 - val_loss: 1.0750 - val_get_f1: 0.7443 - val_accuracy: 0.7905\n",
      "Epoch 307/400\n",
      "297/297 [==============================] - 1s 3ms/step - loss: 0.6591 - get_f1: 0.7846 - accuracy: 0.8564 - val_loss: 1.0733 - val_get_f1: 0.7448 - val_accuracy: 0.7920\n",
      "Epoch 308/400\n",
      "297/297 [==============================] - 1s 3ms/step - loss: 0.6571 - get_f1: 0.7848 - accuracy: 0.8572 - val_loss: 1.0705 - val_get_f1: 0.7442 - val_accuracy: 0.7930\n",
      "Epoch 309/400\n",
      "297/297 [==============================] - 1s 3ms/step - loss: 0.6574 - get_f1: 0.7853 - accuracy: 0.8574 - val_loss: 1.0764 - val_get_f1: 0.7446 - val_accuracy: 0.7915\n",
      "Epoch 310/400\n",
      "297/297 [==============================] - 1s 3ms/step - loss: 0.6574 - get_f1: 0.7849 - accuracy: 0.8569 - val_loss: 1.0718 - val_get_f1: 0.7450 - val_accuracy: 0.7933\n",
      "Epoch 311/400\n",
      "297/297 [==============================] - 1s 3ms/step - loss: 0.6550 - get_f1: 0.7861 - accuracy: 0.8573 - val_loss: 1.0736 - val_get_f1: 0.7455 - val_accuracy: 0.7910\n",
      "Epoch 312/400\n",
      "297/297 [==============================] - 1s 3ms/step - loss: 0.6508 - get_f1: 0.7873 - accuracy: 0.8584 - val_loss: 1.0699 - val_get_f1: 0.7457 - val_accuracy: 0.7928\n",
      "Epoch 313/400\n",
      "297/297 [==============================] - 1s 3ms/step - loss: 0.6515 - get_f1: 0.7873 - accuracy: 0.8582 - val_loss: 1.0721 - val_get_f1: 0.7462 - val_accuracy: 0.7920\n",
      "Epoch 314/400\n",
      "297/297 [==============================] - 1s 3ms/step - loss: 0.6508 - get_f1: 0.7876 - accuracy: 0.8581 - val_loss: 1.0690 - val_get_f1: 0.7468 - val_accuracy: 0.7930\n",
      "Epoch 315/400\n",
      "297/297 [==============================] - 1s 3ms/step - loss: 0.6510 - get_f1: 0.7880 - accuracy: 0.8581 - val_loss: 1.0664 - val_get_f1: 0.7465 - val_accuracy: 0.7925\n",
      "Epoch 316/400\n",
      "297/297 [==============================] - 1s 3ms/step - loss: 0.6453 - get_f1: 0.7890 - accuracy: 0.8600 - val_loss: 1.0691 - val_get_f1: 0.7472 - val_accuracy: 0.7918\n",
      "Epoch 317/400\n",
      "297/297 [==============================] - 1s 3ms/step - loss: 0.6469 - get_f1: 0.7888 - accuracy: 0.8590 - val_loss: 1.0645 - val_get_f1: 0.7469 - val_accuracy: 0.7920\n",
      "Epoch 318/400\n",
      "297/297 [==============================] - 1s 3ms/step - loss: 0.6464 - get_f1: 0.7886 - accuracy: 0.8589 - val_loss: 1.0699 - val_get_f1: 0.7474 - val_accuracy: 0.7918\n",
      "Epoch 319/400\n",
      "297/297 [==============================] - 1s 3ms/step - loss: 0.6445 - get_f1: 0.7895 - accuracy: 0.8599 - val_loss: 1.0685 - val_get_f1: 0.7475 - val_accuracy: 0.7928\n",
      "Epoch 320/400\n",
      "297/297 [==============================] - 1s 3ms/step - loss: 0.6450 - get_f1: 0.7894 - accuracy: 0.8594 - val_loss: 1.0662 - val_get_f1: 0.7480 - val_accuracy: 0.7928\n",
      "Epoch 321/400\n",
      "297/297 [==============================] - 1s 4ms/step - loss: 0.6414 - get_f1: 0.7901 - accuracy: 0.8604 - val_loss: 1.0735 - val_get_f1: 0.7480 - val_accuracy: 0.7925\n",
      "Epoch 322/400\n",
      "297/297 [==============================] - 1s 3ms/step - loss: 0.6391 - get_f1: 0.7916 - accuracy: 0.8608 - val_loss: 1.0668 - val_get_f1: 0.7483 - val_accuracy: 0.7935\n",
      "Epoch 323/400\n",
      "297/297 [==============================] - 1s 3ms/step - loss: 0.6384 - get_f1: 0.7912 - accuracy: 0.8608 - val_loss: 1.0661 - val_get_f1: 0.7487 - val_accuracy: 0.7937\n",
      "Epoch 324/400\n",
      "297/297 [==============================] - 1s 3ms/step - loss: 0.6364 - get_f1: 0.7920 - accuracy: 0.8613 - val_loss: 1.0683 - val_get_f1: 0.7490 - val_accuracy: 0.7930\n",
      "Epoch 325/400\n",
      "297/297 [==============================] - 1s 3ms/step - loss: 0.6343 - get_f1: 0.7924 - accuracy: 0.8616 - val_loss: 1.0658 - val_get_f1: 0.7495 - val_accuracy: 0.7925\n",
      "Epoch 326/400\n",
      "297/297 [==============================] - 1s 3ms/step - loss: 0.6341 - get_f1: 0.7923 - accuracy: 0.8609 - val_loss: 1.0670 - val_get_f1: 0.7492 - val_accuracy: 0.7930\n",
      "Epoch 327/400\n",
      "297/297 [==============================] - 1s 3ms/step - loss: 0.6337 - get_f1: 0.7930 - accuracy: 0.8619 - val_loss: 1.0693 - val_get_f1: 0.7492 - val_accuracy: 0.7922\n",
      "Epoch 328/400\n",
      "297/297 [==============================] - 1s 3ms/step - loss: 0.6322 - get_f1: 0.7933 - accuracy: 0.8621 - val_loss: 1.0644 - val_get_f1: 0.7499 - val_accuracy: 0.7930\n",
      "Epoch 329/400\n",
      "297/297 [==============================] - 1s 3ms/step - loss: 0.6311 - get_f1: 0.7937 - accuracy: 0.8616 - val_loss: 1.0666 - val_get_f1: 0.7502 - val_accuracy: 0.7933\n",
      "Epoch 330/400\n",
      "297/297 [==============================] - 1s 3ms/step - loss: 0.6300 - get_f1: 0.7938 - accuracy: 0.8612 - val_loss: 1.0693 - val_get_f1: 0.7502 - val_accuracy: 0.7918\n",
      "Epoch 331/400\n",
      "297/297 [==============================] - 1s 3ms/step - loss: 0.6289 - get_f1: 0.7942 - accuracy: 0.8625 - val_loss: 1.0657 - val_get_f1: 0.7505 - val_accuracy: 0.7937\n",
      "Epoch 332/400\n",
      "297/297 [==============================] - 1s 3ms/step - loss: 0.6277 - get_f1: 0.7949 - accuracy: 0.8626 - val_loss: 1.0650 - val_get_f1: 0.7504 - val_accuracy: 0.7950\n",
      "Epoch 333/400\n",
      "297/297 [==============================] - 1s 3ms/step - loss: 0.6277 - get_f1: 0.7949 - accuracy: 0.8626 - val_loss: 1.0662 - val_get_f1: 0.7507 - val_accuracy: 0.7928\n",
      "Epoch 334/400\n",
      "297/297 [==============================] - 1s 3ms/step - loss: 0.6282 - get_f1: 0.7950 - accuracy: 0.8620 - val_loss: 1.0653 - val_get_f1: 0.7511 - val_accuracy: 0.7925\n",
      "Epoch 335/400\n",
      "297/297 [==============================] - 1s 3ms/step - loss: 0.6225 - get_f1: 0.7964 - accuracy: 0.8640 - val_loss: 1.0658 - val_get_f1: 0.7518 - val_accuracy: 0.7922\n",
      "Epoch 336/400\n",
      "297/297 [==============================] - 1s 3ms/step - loss: 0.6242 - get_f1: 0.7958 - accuracy: 0.8619 - val_loss: 1.0650 - val_get_f1: 0.7521 - val_accuracy: 0.7933\n",
      "Epoch 337/400\n",
      "297/297 [==============================] - 1s 3ms/step - loss: 0.6234 - get_f1: 0.7962 - accuracy: 0.8632 - val_loss: 1.0625 - val_get_f1: 0.7521 - val_accuracy: 0.7940\n",
      "Epoch 338/400\n",
      "297/297 [==============================] - 1s 3ms/step - loss: 0.6224 - get_f1: 0.7965 - accuracy: 0.8633 - val_loss: 1.0630 - val_get_f1: 0.7522 - val_accuracy: 0.7940\n",
      "Epoch 339/400\n",
      "297/297 [==============================] - 1s 3ms/step - loss: 0.6184 - get_f1: 0.7970 - accuracy: 0.8639 - val_loss: 1.0626 - val_get_f1: 0.7527 - val_accuracy: 0.7943\n",
      "Epoch 340/400\n",
      "297/297 [==============================] - 1s 3ms/step - loss: 0.6192 - get_f1: 0.7975 - accuracy: 0.8637 - val_loss: 1.0615 - val_get_f1: 0.7530 - val_accuracy: 0.7947\n",
      "Epoch 341/400\n",
      "297/297 [==============================] - 1s 3ms/step - loss: 0.6134 - get_f1: 0.7994 - accuracy: 0.8658 - val_loss: 1.0629 - val_get_f1: 0.7529 - val_accuracy: 0.7947\n",
      "Epoch 342/400\n",
      "297/297 [==============================] - 1s 3ms/step - loss: 0.6156 - get_f1: 0.7987 - accuracy: 0.8644 - val_loss: 1.0616 - val_get_f1: 0.7534 - val_accuracy: 0.7945\n",
      "Epoch 343/400\n",
      "297/297 [==============================] - 1s 3ms/step - loss: 0.6136 - get_f1: 0.7995 - accuracy: 0.8654 - val_loss: 1.0633 - val_get_f1: 0.7536 - val_accuracy: 0.7945\n",
      "Epoch 344/400\n",
      "297/297 [==============================] - 1s 3ms/step - loss: 0.6123 - get_f1: 0.7993 - accuracy: 0.8646 - val_loss: 1.0596 - val_get_f1: 0.7539 - val_accuracy: 0.7952\n",
      "Epoch 345/400\n",
      "297/297 [==============================] - 1s 3ms/step - loss: 0.6129 - get_f1: 0.7999 - accuracy: 0.8651 - val_loss: 1.0581 - val_get_f1: 0.7542 - val_accuracy: 0.7935\n",
      "Epoch 346/400\n",
      "297/297 [==============================] - 1s 3ms/step - loss: 0.6099 - get_f1: 0.8001 - accuracy: 0.8661 - val_loss: 1.0607 - val_get_f1: 0.7547 - val_accuracy: 0.7958\n",
      "Epoch 347/400\n",
      "297/297 [==============================] - 1s 3ms/step - loss: 0.6097 - get_f1: 0.8004 - accuracy: 0.8650 - val_loss: 1.0579 - val_get_f1: 0.7546 - val_accuracy: 0.7945\n",
      "Epoch 348/400\n",
      "297/297 [==============================] - 1s 3ms/step - loss: 0.6093 - get_f1: 0.8001 - accuracy: 0.8653 - val_loss: 1.0613 - val_get_f1: 0.7552 - val_accuracy: 0.7960\n",
      "Epoch 349/400\n",
      "297/297 [==============================] - 1s 3ms/step - loss: 0.6072 - get_f1: 0.8015 - accuracy: 0.8662 - val_loss: 1.0596 - val_get_f1: 0.7552 - val_accuracy: 0.7950\n",
      "Epoch 350/400\n",
      "297/297 [==============================] - 1s 3ms/step - loss: 0.6065 - get_f1: 0.8016 - accuracy: 0.8666 - val_loss: 1.0603 - val_get_f1: 0.7545 - val_accuracy: 0.7943\n",
      "Epoch 351/400\n",
      "297/297 [==============================] - 1s 3ms/step - loss: 0.6038 - get_f1: 0.8020 - accuracy: 0.8663 - val_loss: 1.0611 - val_get_f1: 0.7550 - val_accuracy: 0.7945\n",
      "Epoch 352/400\n",
      "297/297 [==============================] - 1s 3ms/step - loss: 0.6053 - get_f1: 0.8021 - accuracy: 0.8669 - val_loss: 1.0612 - val_get_f1: 0.7550 - val_accuracy: 0.7950\n",
      "Epoch 353/400\n",
      "297/297 [==============================] - 1s 3ms/step - loss: 0.6051 - get_f1: 0.8014 - accuracy: 0.8666 - val_loss: 1.0602 - val_get_f1: 0.7558 - val_accuracy: 0.7955\n",
      "Epoch 354/400\n",
      "297/297 [==============================] - 1s 3ms/step - loss: 0.6015 - get_f1: 0.8028 - accuracy: 0.8670 - val_loss: 1.0602 - val_get_f1: 0.7556 - val_accuracy: 0.7952\n",
      "Epoch 355/400\n",
      "297/297 [==============================] - 1s 3ms/step - loss: 0.6004 - get_f1: 0.8031 - accuracy: 0.8666 - val_loss: 1.0596 - val_get_f1: 0.7564 - val_accuracy: 0.7962\n",
      "Epoch 356/400\n",
      "297/297 [==============================] - 1s 3ms/step - loss: 0.6000 - get_f1: 0.8037 - accuracy: 0.8675 - val_loss: 1.0590 - val_get_f1: 0.7567 - val_accuracy: 0.7955\n",
      "Epoch 357/400\n",
      "297/297 [==============================] - 1s 3ms/step - loss: 0.5972 - get_f1: 0.8042 - accuracy: 0.8684 - val_loss: 1.0581 - val_get_f1: 0.7565 - val_accuracy: 0.7952\n",
      "Epoch 358/400\n",
      "297/297 [==============================] - 1s 3ms/step - loss: 0.5973 - get_f1: 0.8045 - accuracy: 0.8681 - val_loss: 1.0547 - val_get_f1: 0.7567 - val_accuracy: 0.7968\n",
      "Epoch 359/400\n",
      "297/297 [==============================] - 1s 3ms/step - loss: 0.5954 - get_f1: 0.8048 - accuracy: 0.8680 - val_loss: 1.0540 - val_get_f1: 0.7572 - val_accuracy: 0.7965\n",
      "Epoch 360/400\n",
      "297/297 [==============================] - 1s 3ms/step - loss: 0.5954 - get_f1: 0.8052 - accuracy: 0.8684 - val_loss: 1.0546 - val_get_f1: 0.7565 - val_accuracy: 0.7943\n",
      "Epoch 361/400\n",
      "297/297 [==============================] - 1s 3ms/step - loss: 0.5957 - get_f1: 0.8051 - accuracy: 0.8683 - val_loss: 1.0594 - val_get_f1: 0.7573 - val_accuracy: 0.7960\n",
      "Epoch 362/400\n",
      "297/297 [==============================] - 1s 3ms/step - loss: 0.5904 - get_f1: 0.8061 - accuracy: 0.8696 - val_loss: 1.0604 - val_get_f1: 0.7575 - val_accuracy: 0.7952\n",
      "Epoch 363/400\n",
      "297/297 [==============================] - 1s 3ms/step - loss: 0.5911 - get_f1: 0.8063 - accuracy: 0.8704 - val_loss: 1.0537 - val_get_f1: 0.7581 - val_accuracy: 0.7965\n",
      "Epoch 364/400\n",
      "297/297 [==============================] - 1s 3ms/step - loss: 0.5912 - get_f1: 0.8064 - accuracy: 0.8698 - val_loss: 1.0583 - val_get_f1: 0.7581 - val_accuracy: 0.7962\n",
      "Epoch 365/400\n",
      "297/297 [==============================] - 1s 3ms/step - loss: 0.5889 - get_f1: 0.8068 - accuracy: 0.8708 - val_loss: 1.0545 - val_get_f1: 0.7582 - val_accuracy: 0.7968\n",
      "Epoch 366/400\n",
      "297/297 [==============================] - 1s 3ms/step - loss: 0.5878 - get_f1: 0.8071 - accuracy: 0.8699 - val_loss: 1.0522 - val_get_f1: 0.7586 - val_accuracy: 0.7947\n",
      "Epoch 367/400\n",
      "297/297 [==============================] - 1s 3ms/step - loss: 0.5857 - get_f1: 0.8078 - accuracy: 0.8701 - val_loss: 1.0569 - val_get_f1: 0.7586 - val_accuracy: 0.7960\n",
      "Epoch 368/400\n",
      "297/297 [==============================] - 1s 3ms/step - loss: 0.5866 - get_f1: 0.8077 - accuracy: 0.8692 - val_loss: 1.0516 - val_get_f1: 0.7594 - val_accuracy: 0.7972\n",
      "Epoch 369/400\n",
      "297/297 [==============================] - 1s 3ms/step - loss: 0.5873 - get_f1: 0.8077 - accuracy: 0.8698 - val_loss: 1.0544 - val_get_f1: 0.7584 - val_accuracy: 0.7965\n",
      "Epoch 370/400\n",
      "297/297 [==============================] - 1s 3ms/step - loss: 0.5828 - get_f1: 0.8090 - accuracy: 0.8711 - val_loss: 1.0558 - val_get_f1: 0.7591 - val_accuracy: 0.7962\n",
      "Epoch 371/400\n",
      "297/297 [==============================] - 1s 3ms/step - loss: 0.5845 - get_f1: 0.8082 - accuracy: 0.8701 - val_loss: 1.0549 - val_get_f1: 0.7591 - val_accuracy: 0.7955\n",
      "Epoch 372/400\n",
      "297/297 [==============================] - 1s 3ms/step - loss: 0.5839 - get_f1: 0.8088 - accuracy: 0.8705 - val_loss: 1.0582 - val_get_f1: 0.7594 - val_accuracy: 0.7962\n",
      "Epoch 373/400\n",
      "297/297 [==============================] - 1s 3ms/step - loss: 0.5821 - get_f1: 0.8090 - accuracy: 0.8707 - val_loss: 1.0588 - val_get_f1: 0.7597 - val_accuracy: 0.7983\n",
      "Epoch 374/400\n",
      "297/297 [==============================] - 1s 3ms/step - loss: 0.5805 - get_f1: 0.8101 - accuracy: 0.8715 - val_loss: 1.0597 - val_get_f1: 0.7593 - val_accuracy: 0.7955\n",
      "Epoch 375/400\n",
      "297/297 [==============================] - 1s 3ms/step - loss: 0.5789 - get_f1: 0.8097 - accuracy: 0.8715 - val_loss: 1.0551 - val_get_f1: 0.7596 - val_accuracy: 0.7970\n",
      "Epoch 376/400\n",
      "297/297 [==============================] - 1s 3ms/step - loss: 0.5800 - get_f1: 0.8093 - accuracy: 0.8706 - val_loss: 1.0528 - val_get_f1: 0.7598 - val_accuracy: 0.7972\n",
      "Epoch 377/400\n",
      "297/297 [==============================] - 1s 3ms/step - loss: 0.5778 - get_f1: 0.8107 - accuracy: 0.8715 - val_loss: 1.0573 - val_get_f1: 0.7601 - val_accuracy: 0.7975\n",
      "Epoch 378/400\n",
      "297/297 [==============================] - 1s 3ms/step - loss: 0.5755 - get_f1: 0.8110 - accuracy: 0.8718 - val_loss: 1.0537 - val_get_f1: 0.7603 - val_accuracy: 0.7977\n",
      "Epoch 379/400\n",
      "297/297 [==============================] - 1s 3ms/step - loss: 0.5732 - get_f1: 0.8114 - accuracy: 0.8729 - val_loss: 1.0549 - val_get_f1: 0.7608 - val_accuracy: 0.7980\n",
      "Epoch 380/400\n",
      "297/297 [==============================] - 1s 3ms/step - loss: 0.5736 - get_f1: 0.8120 - accuracy: 0.8734 - val_loss: 1.0535 - val_get_f1: 0.7614 - val_accuracy: 0.7980\n",
      "Epoch 381/400\n",
      "297/297 [==============================] - 1s 3ms/step - loss: 0.5745 - get_f1: 0.8119 - accuracy: 0.8719 - val_loss: 1.0575 - val_get_f1: 0.7607 - val_accuracy: 0.7970\n",
      "Epoch 382/400\n",
      "297/297 [==============================] - 1s 3ms/step - loss: 0.5725 - get_f1: 0.8118 - accuracy: 0.8710 - val_loss: 1.0523 - val_get_f1: 0.7612 - val_accuracy: 0.7995\n",
      "Epoch 383/400\n",
      "297/297 [==============================] - 1s 3ms/step - loss: 0.5712 - get_f1: 0.8125 - accuracy: 0.8734 - val_loss: 1.0550 - val_get_f1: 0.7614 - val_accuracy: 0.7990\n",
      "Epoch 384/400\n",
      "297/297 [==============================] - 1s 3ms/step - loss: 0.5696 - get_f1: 0.8131 - accuracy: 0.8732 - val_loss: 1.0532 - val_get_f1: 0.7614 - val_accuracy: 0.7987\n",
      "Epoch 385/400\n",
      "297/297 [==============================] - 1s 3ms/step - loss: 0.5719 - get_f1: 0.8125 - accuracy: 0.8731 - val_loss: 1.0507 - val_get_f1: 0.7616 - val_accuracy: 0.7997\n",
      "Epoch 386/400\n",
      "297/297 [==============================] - 1s 3ms/step - loss: 0.5698 - get_f1: 0.8130 - accuracy: 0.8731 - val_loss: 1.0508 - val_get_f1: 0.7623 - val_accuracy: 0.7997\n",
      "Epoch 387/400\n",
      "297/297 [==============================] - 1s 3ms/step - loss: 0.5654 - get_f1: 0.8141 - accuracy: 0.8743 - val_loss: 1.0555 - val_get_f1: 0.7620 - val_accuracy: 0.7993\n",
      "Epoch 388/400\n",
      "297/297 [==============================] - 1s 3ms/step - loss: 0.5699 - get_f1: 0.8132 - accuracy: 0.8735 - val_loss: 1.0490 - val_get_f1: 0.7622 - val_accuracy: 0.7983\n",
      "Epoch 389/400\n",
      "297/297 [==============================] - 1s 3ms/step - loss: 0.5663 - get_f1: 0.8140 - accuracy: 0.8742 - val_loss: 1.0528 - val_get_f1: 0.7624 - val_accuracy: 0.8012\n",
      "Epoch 390/400\n",
      "297/297 [==============================] - 1s 3ms/step - loss: 0.5653 - get_f1: 0.8147 - accuracy: 0.8739 - val_loss: 1.0502 - val_get_f1: 0.7624 - val_accuracy: 0.7983\n",
      "Epoch 391/400\n",
      "297/297 [==============================] - 1s 3ms/step - loss: 0.5626 - get_f1: 0.8150 - accuracy: 0.8748 - val_loss: 1.0502 - val_get_f1: 0.7626 - val_accuracy: 0.8005\n",
      "Epoch 392/400\n",
      "297/297 [==============================] - 1s 3ms/step - loss: 0.5623 - get_f1: 0.8148 - accuracy: 0.8743 - val_loss: 1.0520 - val_get_f1: 0.7628 - val_accuracy: 0.8005\n",
      "Epoch 393/400\n",
      "297/297 [==============================] - 1s 3ms/step - loss: 0.5621 - get_f1: 0.8153 - accuracy: 0.8743 - val_loss: 1.0506 - val_get_f1: 0.7626 - val_accuracy: 0.8002\n",
      "Epoch 394/400\n",
      "297/297 [==============================] - 1s 3ms/step - loss: 0.5614 - get_f1: 0.8162 - accuracy: 0.8758 - val_loss: 1.0511 - val_get_f1: 0.7629 - val_accuracy: 0.8005\n",
      "Epoch 395/400\n",
      "297/297 [==============================] - 1s 3ms/step - loss: 0.5619 - get_f1: 0.8157 - accuracy: 0.8748 - val_loss: 1.0524 - val_get_f1: 0.7636 - val_accuracy: 0.8008\n",
      "Epoch 396/400\n",
      "297/297 [==============================] - 1s 3ms/step - loss: 0.5581 - get_f1: 0.8163 - accuracy: 0.8752 - val_loss: 1.0500 - val_get_f1: 0.7640 - val_accuracy: 0.8002\n",
      "Epoch 397/400\n",
      "297/297 [==============================] - 1s 3ms/step - loss: 0.5594 - get_f1: 0.8165 - accuracy: 0.8760 - val_loss: 1.0511 - val_get_f1: 0.7639 - val_accuracy: 0.8010\n",
      "Epoch 398/400\n",
      "297/297 [==============================] - 1s 3ms/step - loss: 0.5548 - get_f1: 0.8174 - accuracy: 0.8764 - val_loss: 1.0532 - val_get_f1: 0.7639 - val_accuracy: 0.7990\n",
      "Epoch 399/400\n",
      "297/297 [==============================] - 1s 3ms/step - loss: 0.5551 - get_f1: 0.8176 - accuracy: 0.8770 - val_loss: 1.0519 - val_get_f1: 0.7643 - val_accuracy: 0.8000\n",
      "Epoch 400/400\n",
      "297/297 [==============================] - 1s 3ms/step - loss: 0.5533 - get_f1: 0.8180 - accuracy: 0.8765 - val_loss: 1.0517 - val_get_f1: 0.7646 - val_accuracy: 0.8005\n"
     ]
    },
    {
     "data": {
      "text/plain": [
       "<keras.callbacks.History at 0x7f206c26e0b8>"
      ]
     },
     "execution_count": 28,
     "metadata": {},
     "output_type": "execute_result"
    }
   ],
   "source": [
    "final_model.fit(X_traintext, Y_train, batch_size=256,epochs=400,validation_split=0.05)"
   ]
  },
  {
   "cell_type": "markdown",
   "metadata": {
    "colab_type": "text",
    "id": "lLWH97kI3fra"
   },
   "source": [
    "Evaluating model on test set"
   ]
  },
  {
   "cell_type": "code",
   "execution_count": 29,
   "metadata": {
    "colab": {
     "base_uri": "https://localhost:8080/",
     "height": 50
    },
    "colab_type": "code",
    "id": "WUprKjlA9MIr",
    "outputId": "d1ad5eb0-beba-4c6e-916a-1bf3dbe1137b"
   },
   "outputs": [
    {
     "name": "stdout",
     "output_type": "stream",
     "text": [
      "348/348 [==============================] - 1s 1ms/step - loss: 1.0745 - get_f1: 0.7685 - accuracy: 0.7960\n"
     ]
    },
    {
     "data": {
      "text/plain": [
       "[1.0745106935501099, 0.7684622406959534, 0.7960431575775146]"
      ]
     },
     "execution_count": 29,
     "metadata": {},
     "output_type": "execute_result"
    }
   ],
   "source": [
    "final_model.evaluate(X_testtext, Y_test)"
   ]
  },
  {
   "cell_type": "code",
   "execution_count": 30,
   "metadata": {
    "colab": {},
    "colab_type": "code",
    "id": "seLa10dGgmXN"
   },
   "outputs": [],
   "source": [
    "final_model.save(\"text_model.h5\")"
   ]
  },
  {
   "cell_type": "code",
   "execution_count": 31,
   "metadata": {
    "colab": {},
    "colab_type": "code",
    "id": "ge4mMCw-hBUp"
   },
   "outputs": [],
   "source": [
    "final_model.save_weights(\"text_model_weights.h5\")"
   ]
  },
  {
   "cell_type": "code",
   "execution_count": null,
   "metadata": {
    "colab": {},
    "colab_type": "code",
    "id": "ee7CrkgJsi_C"
   },
   "outputs": [],
   "source": [
    "# Predicting on X_test and X_testtext datasets\n",
    "pred = inter_output_model.predict(X_testtext)"
   ]
  },
  {
   "cell_type": "code",
   "execution_count": 47,
   "metadata": {},
   "outputs": [
    {
     "data": {
      "text/html": [
       "<div>\n",
       "<style scoped>\n",
       "    .dataframe tbody tr th:only-of-type {\n",
       "        vertical-align: middle;\n",
       "    }\n",
       "\n",
       "    .dataframe tbody tr th {\n",
       "        vertical-align: top;\n",
       "    }\n",
       "\n",
       "    .dataframe thead th {\n",
       "        text-align: right;\n",
       "    }\n",
       "</style>\n",
       "<table border=\"1\" class=\"dataframe\">\n",
       "  <thead>\n",
       "    <tr style=\"text-align: right;\">\n",
       "      <th></th>\n",
       "      <th>product_id</th>\n",
       "      <th>sale</th>\n",
       "      <th>shop_id</th>\n",
       "      <th>shop_title</th>\n",
       "      <th>rating</th>\n",
       "      <th>text_fields</th>\n",
       "      <th>title</th>\n",
       "      <th>description</th>\n",
       "      <th>attributes</th>\n",
       "      <th>custom_characteristics</th>\n",
       "      <th>defined_characteristics</th>\n",
       "      <th>filters</th>\n",
       "    </tr>\n",
       "  </thead>\n",
       "  <tbody>\n",
       "    <tr>\n",
       "      <th>1</th>\n",
       "      <td>1997646</td>\n",
       "      <td>False</td>\n",
       "      <td>22758</td>\n",
       "      <td>Sky_Electronics</td>\n",
       "      <td>5.000000</td>\n",
       "      <td>{\"title\": \"Светодиодная лента Smart led Strip ...</td>\n",
       "      <td>Светодиодная лента Smart led Strip Light, с пу...</td>\n",
       "      <td>&lt;p&gt;Светодиодная лента LED, 5 м, RGB (Цветная) ...</td>\n",
       "      <td>[Легкость управления с пульта, а так же смартф...</td>\n",
       "      <td>{}</td>\n",
       "      <td>{}</td>\n",
       "      <td>{'Тип питания': ['От сети', 'От USB'], 'В комп...</td>\n",
       "    </tr>\n",
       "    <tr>\n",
       "      <th>2</th>\n",
       "      <td>927375</td>\n",
       "      <td>False</td>\n",
       "      <td>17729</td>\n",
       "      <td>Di-Di Market</td>\n",
       "      <td>4.405941</td>\n",
       "      <td>{\"title\": \"Стекло ПЛЕНКА керамик матовое Honor...</td>\n",
       "      <td>Стекло ПЛЕНКА керамик матовое Honor 50 lite 10...</td>\n",
       "      <td>&lt;p&gt;&lt;span style=\"color: rgb(63, 62, 62);\"&gt;Защит...</td>\n",
       "      <td>[Honor 50 ПЛЕНКА!!!  КРАЯ КЛЕЮТСЯ МОГУТ НЕ ПРО...</td>\n",
       "      <td>{'Модель': ['8a - Y6 2019', '9x - P Smart Z', ...</td>\n",
       "      <td>{}</td>\n",
       "      <td>{'Модель устройства': ['Honor 9X', 'Honor 20 P...</td>\n",
       "    </tr>\n",
       "    <tr>\n",
       "      <th>3</th>\n",
       "      <td>1921513</td>\n",
       "      <td>False</td>\n",
       "      <td>54327</td>\n",
       "      <td>VisionStore</td>\n",
       "      <td>4.000000</td>\n",
       "      <td>{\"title\": \"Проводные наушники с микрофоном jac...</td>\n",
       "      <td>Проводные наушники с микрофоном jack 3.5, IOS,...</td>\n",
       "      <td>&lt;p&gt;Наушники проводные с микрофоном отличное ка...</td>\n",
       "      <td>[Возможность использования как гарнитуры для П...</td>\n",
       "      <td>{}</td>\n",
       "      <td>{}</td>\n",
       "      <td>{'Разъем': ['3.5 мм'], 'Конструкция наушников'...</td>\n",
       "    </tr>\n",
       "    <tr>\n",
       "      <th>4</th>\n",
       "      <td>1668662</td>\n",
       "      <td>False</td>\n",
       "      <td>15000</td>\n",
       "      <td>FORNAILS</td>\n",
       "      <td>5.000000</td>\n",
       "      <td>{\"title\": \"Декоративная табличка \\\"Правила кух...</td>\n",
       "      <td>Декоративная табличка \"Правила кухни\", подстав...</td>\n",
       "      <td>&lt;p&gt;Декоративная табличка \"Правила кухни\" созда...</td>\n",
       "      <td>[]</td>\n",
       "      <td>{}</td>\n",
       "      <td>{}</td>\n",
       "      <td>{'Бренд': ['FORNAILS']}</td>\n",
       "    </tr>\n",
       "    <tr>\n",
       "      <th>5</th>\n",
       "      <td>1467778</td>\n",
       "      <td>False</td>\n",
       "      <td>39600</td>\n",
       "      <td>МОЯ КУХНЯ</td>\n",
       "      <td>5.000000</td>\n",
       "      <td>{\"title\": \"Подставка под ложку керамическая, п...</td>\n",
       "      <td>Подставка под ложку керамическая, подложка \"Кл...</td>\n",
       "      <td>&lt;p&gt;Подложка керамическая с рисунком в подарочн...</td>\n",
       "      <td>[Керамика., Размер: 255*90*30мм; ]</td>\n",
       "      <td>{'Модель': ['Клубника', 'Лимоны', 'Лаванда']}</td>\n",
       "      <td>{}</td>\n",
       "      <td>{'Бренд': ['Valleya', 'Valleya', 'Valleya']}</td>\n",
       "    </tr>\n",
       "    <tr>\n",
       "      <th>...</th>\n",
       "      <td>...</td>\n",
       "      <td>...</td>\n",
       "      <td>...</td>\n",
       "      <td>...</td>\n",
       "      <td>...</td>\n",
       "      <td>...</td>\n",
       "      <td>...</td>\n",
       "      <td>...</td>\n",
       "      <td>...</td>\n",
       "      <td>...</td>\n",
       "      <td>...</td>\n",
       "      <td>...</td>\n",
       "    </tr>\n",
       "    <tr>\n",
       "      <th>24987</th>\n",
       "      <td>1914264</td>\n",
       "      <td>False</td>\n",
       "      <td>8598</td>\n",
       "      <td>Zoorbox</td>\n",
       "      <td>4.913043</td>\n",
       "      <td>{\"title\": \"Жесткий диск внутренний SSD KingDia...</td>\n",
       "      <td>Жесткий диск внутренний SSD KingDian 2.5 Inch ...</td>\n",
       "      <td>&lt;p&gt;&lt;img src=\"https://ke-images.servicecdn.ru/c...</td>\n",
       "      <td>[Интерфейс SSD SATA3 6.0 Гбит/с, Форм-фактор 2...</td>\n",
       "      <td>{'Объем памяти': ['128 гб', '256 гб', '512 гб'...</td>\n",
       "      <td>{}</td>\n",
       "      <td>{}</td>\n",
       "    </tr>\n",
       "    <tr>\n",
       "      <th>24988</th>\n",
       "      <td>1310569</td>\n",
       "      <td>False</td>\n",
       "      <td>27474</td>\n",
       "      <td>RenRin</td>\n",
       "      <td>5.000000</td>\n",
       "      <td>{\"title\": \"Браслет оберег на руку/красная нить...</td>\n",
       "      <td>Браслет оберег на руку/красная нить от сглаза/...</td>\n",
       "      <td>&lt;p&gt;Красная нить - оберег, обладающий большой с...</td>\n",
       "      <td>[Насыщенный красный цвет, Хорошее плетение, Ун...</td>\n",
       "      <td>{}</td>\n",
       "      <td>{}</td>\n",
       "      <td>{}</td>\n",
       "    </tr>\n",
       "    <tr>\n",
       "      <th>24989</th>\n",
       "      <td>978095</td>\n",
       "      <td>False</td>\n",
       "      <td>23395</td>\n",
       "      <td>Хобби и Ты</td>\n",
       "      <td>5.000000</td>\n",
       "      <td>{\"title\": \"Кабошон бантик в упаковке 2 шт\", \"d...</td>\n",
       "      <td>Кабошон бантик в упаковке 2 шт</td>\n",
       "      <td>&lt;p&gt;Кабошон бантик, желтого цвета. Используется...</td>\n",
       "      <td>[Размер: 1.8 см., Пластик., В упаковке 2 шт.]</td>\n",
       "      <td>{}</td>\n",
       "      <td>{}</td>\n",
       "      <td>{}</td>\n",
       "    </tr>\n",
       "    <tr>\n",
       "      <th>24992</th>\n",
       "      <td>797547</td>\n",
       "      <td>False</td>\n",
       "      <td>16764</td>\n",
       "      <td>100000 мелочей</td>\n",
       "      <td>5.000000</td>\n",
       "      <td>{\"title\": \"Полка для ванной угловая, 20,5 х 20...</td>\n",
       "      <td>Полка для ванной угловая, 20,5 х 20,5 х 6,5 см...</td>\n",
       "      <td>&lt;p&gt;Полка для ванной угловая, 20,5×20,5×6,5 см,...</td>\n",
       "      <td>[Индивидуальная упаковка Без упаковки, Размер ...</td>\n",
       "      <td>{}</td>\n",
       "      <td>{}</td>\n",
       "      <td>{}</td>\n",
       "    </tr>\n",
       "    <tr>\n",
       "      <th>24995</th>\n",
       "      <td>703835</td>\n",
       "      <td>False</td>\n",
       "      <td>13813</td>\n",
       "      <td>SYNDYK</td>\n",
       "      <td>5.000000</td>\n",
       "      <td>{\"title\": \"Подарочная коробка сердце\", \"descri...</td>\n",
       "      <td>Подарочная коробка сердце</td>\n",
       "      <td>&lt;p&gt;&lt;span style=\"color: rgb(75, 79, 88);\"&gt;Любой...</td>\n",
       "      <td>[]</td>\n",
       "      <td>{'Выберите размер:': ['S', 'M', 'L']}</td>\n",
       "      <td>{}</td>\n",
       "      <td>{}</td>\n",
       "    </tr>\n",
       "  </tbody>\n",
       "</table>\n",
       "<p>16860 rows × 12 columns</p>\n",
       "</div>"
      ],
      "text/plain": [
       "       product_id   sale  shop_id       shop_title    rating  \\\n",
       "1         1997646  False    22758  Sky_Electronics  5.000000   \n",
       "2          927375  False    17729     Di-Di Market  4.405941   \n",
       "3         1921513  False    54327      VisionStore  4.000000   \n",
       "4         1668662  False    15000         FORNAILS  5.000000   \n",
       "5         1467778  False    39600        МОЯ КУХНЯ  5.000000   \n",
       "...           ...    ...      ...              ...       ...   \n",
       "24987     1914264  False     8598          Zoorbox  4.913043   \n",
       "24988     1310569  False    27474           RenRin  5.000000   \n",
       "24989      978095  False    23395       Хобби и Ты  5.000000   \n",
       "24992      797547  False    16764   100000 мелочей  5.000000   \n",
       "24995      703835  False    13813           SYNDYK  5.000000   \n",
       "\n",
       "                                             text_fields  \\\n",
       "1      {\"title\": \"Светодиодная лента Smart led Strip ...   \n",
       "2      {\"title\": \"Стекло ПЛЕНКА керамик матовое Honor...   \n",
       "3      {\"title\": \"Проводные наушники с микрофоном jac...   \n",
       "4      {\"title\": \"Декоративная табличка \\\"Правила кух...   \n",
       "5      {\"title\": \"Подставка под ложку керамическая, п...   \n",
       "...                                                  ...   \n",
       "24987  {\"title\": \"Жесткий диск внутренний SSD KingDia...   \n",
       "24988  {\"title\": \"Браслет оберег на руку/красная нить...   \n",
       "24989  {\"title\": \"Кабошон бантик в упаковке 2 шт\", \"d...   \n",
       "24992  {\"title\": \"Полка для ванной угловая, 20,5 х 20...   \n",
       "24995  {\"title\": \"Подарочная коробка сердце\", \"descri...   \n",
       "\n",
       "                                                   title  \\\n",
       "1      Светодиодная лента Smart led Strip Light, с пу...   \n",
       "2      Стекло ПЛЕНКА керамик матовое Honor 50 lite 10...   \n",
       "3      Проводные наушники с микрофоном jack 3.5, IOS,...   \n",
       "4      Декоративная табличка \"Правила кухни\", подстав...   \n",
       "5      Подставка под ложку керамическая, подложка \"Кл...   \n",
       "...                                                  ...   \n",
       "24987  Жесткий диск внутренний SSD KingDian 2.5 Inch ...   \n",
       "24988  Браслет оберег на руку/красная нить от сглаза/...   \n",
       "24989                     Кабошон бантик в упаковке 2 шт   \n",
       "24992  Полка для ванной угловая, 20,5 х 20,5 х 6,5 см...   \n",
       "24995                          Подарочная коробка сердце   \n",
       "\n",
       "                                             description  \\\n",
       "1      <p>Светодиодная лента LED, 5 м, RGB (Цветная) ...   \n",
       "2      <p><span style=\"color: rgb(63, 62, 62);\">Защит...   \n",
       "3      <p>Наушники проводные с микрофоном отличное ка...   \n",
       "4      <p>Декоративная табличка \"Правила кухни\" созда...   \n",
       "5      <p>Подложка керамическая с рисунком в подарочн...   \n",
       "...                                                  ...   \n",
       "24987  <p><img src=\"https://ke-images.servicecdn.ru/c...   \n",
       "24988  <p>Красная нить - оберег, обладающий большой с...   \n",
       "24989  <p>Кабошон бантик, желтого цвета. Используется...   \n",
       "24992  <p>Полка для ванной угловая, 20,5×20,5×6,5 см,...   \n",
       "24995  <p><span style=\"color: rgb(75, 79, 88);\">Любой...   \n",
       "\n",
       "                                              attributes  \\\n",
       "1      [Легкость управления с пульта, а так же смартф...   \n",
       "2      [Honor 50 ПЛЕНКА!!!  КРАЯ КЛЕЮТСЯ МОГУТ НЕ ПРО...   \n",
       "3      [Возможность использования как гарнитуры для П...   \n",
       "4                                                     []   \n",
       "5                     [Керамика., Размер: 255*90*30мм; ]   \n",
       "...                                                  ...   \n",
       "24987  [Интерфейс SSD SATA3 6.0 Гбит/с, Форм-фактор 2...   \n",
       "24988  [Насыщенный красный цвет, Хорошее плетение, Ун...   \n",
       "24989      [Размер: 1.8 см., Пластик., В упаковке 2 шт.]   \n",
       "24992  [Индивидуальная упаковка Без упаковки, Размер ...   \n",
       "24995                                                 []   \n",
       "\n",
       "                                  custom_characteristics  \\\n",
       "1                                                     {}   \n",
       "2      {'Модель': ['8a - Y6 2019', '9x - P Smart Z', ...   \n",
       "3                                                     {}   \n",
       "4                                                     {}   \n",
       "5          {'Модель': ['Клубника', 'Лимоны', 'Лаванда']}   \n",
       "...                                                  ...   \n",
       "24987  {'Объем памяти': ['128 гб', '256 гб', '512 гб'...   \n",
       "24988                                                 {}   \n",
       "24989                                                 {}   \n",
       "24992                                                 {}   \n",
       "24995              {'Выберите размер:': ['S', 'M', 'L']}   \n",
       "\n",
       "      defined_characteristics  \\\n",
       "1                          {}   \n",
       "2                          {}   \n",
       "3                          {}   \n",
       "4                          {}   \n",
       "5                          {}   \n",
       "...                       ...   \n",
       "24987                      {}   \n",
       "24988                      {}   \n",
       "24989                      {}   \n",
       "24992                      {}   \n",
       "24995                      {}   \n",
       "\n",
       "                                                 filters  \n",
       "1      {'Тип питания': ['От сети', 'От USB'], 'В комп...  \n",
       "2      {'Модель устройства': ['Honor 9X', 'Honor 20 P...  \n",
       "3      {'Разъем': ['3.5 мм'], 'Конструкция наушников'...  \n",
       "4                                {'Бренд': ['FORNAILS']}  \n",
       "5           {'Бренд': ['Valleya', 'Valleya', 'Valleya']}  \n",
       "...                                                  ...  \n",
       "24987                                                 {}  \n",
       "24988                                                 {}  \n",
       "24989                                                 {}  \n",
       "24992                                                 {}  \n",
       "24995                                                 {}  \n",
       "\n",
       "[16860 rows x 12 columns]"
      ]
     },
     "execution_count": 47,
     "metadata": {},
     "output_type": "execute_result"
    }
   ],
   "source": [
    "test"
   ]
  },
  {
   "cell_type": "code",
   "execution_count": 45,
   "metadata": {},
   "outputs": [],
   "source": [
    "col_tf = test[\"text_fields\"].apply(json.loads)[1].keys()"
   ]
  },
  {
   "cell_type": "code",
   "execution_count": 46,
   "metadata": {},
   "outputs": [
    {
     "name": "stdout",
     "output_type": "stream",
     "text": [
      "Found 4921 unique tokens.\n",
      "Shape of data tensor: (16860, 15)\n",
      "Found 0 unique tokens.\n",
      "Shape of data tensor: (16860, 15)\n"
     ]
    },
    {
     "ename": "KeyError",
     "evalue": "'category_name'",
     "output_type": "error",
     "traceback": [
      "\u001b[0;31m---------------------------------------------------------------------------\u001b[0m",
      "\u001b[0;31mKeyError\u001b[0m                                  Traceback (most recent call last)",
      "\u001b[0;32m~/anaconda3/envs/rtx_3060/lib/python3.6/site-packages/pandas/core/indexes/base.py\u001b[0m in \u001b[0;36mget_loc\u001b[0;34m(self, key, method, tolerance)\u001b[0m\n\u001b[1;32m   2897\u001b[0m             \u001b[0;32mtry\u001b[0m\u001b[0;34m:\u001b[0m\u001b[0;34m\u001b[0m\u001b[0m\n\u001b[0;32m-> 2898\u001b[0;31m                 \u001b[0;32mreturn\u001b[0m \u001b[0mself\u001b[0m\u001b[0;34m.\u001b[0m\u001b[0m_engine\u001b[0m\u001b[0;34m.\u001b[0m\u001b[0mget_loc\u001b[0m\u001b[0;34m(\u001b[0m\u001b[0mcasted_key\u001b[0m\u001b[0;34m)\u001b[0m\u001b[0;34m\u001b[0m\u001b[0m\n\u001b[0m\u001b[1;32m   2899\u001b[0m             \u001b[0;32mexcept\u001b[0m \u001b[0mKeyError\u001b[0m \u001b[0;32mas\u001b[0m \u001b[0merr\u001b[0m\u001b[0;34m:\u001b[0m\u001b[0;34m\u001b[0m\u001b[0m\n",
      "\u001b[0;32mpandas/_libs/index.pyx\u001b[0m in \u001b[0;36mpandas._libs.index.IndexEngine.get_loc\u001b[0;34m()\u001b[0m\n",
      "\u001b[0;32mpandas/_libs/index.pyx\u001b[0m in \u001b[0;36mpandas._libs.index.IndexEngine.get_loc\u001b[0;34m()\u001b[0m\n",
      "\u001b[0;32mpandas/_libs/hashtable_class_helper.pxi\u001b[0m in \u001b[0;36mpandas._libs.hashtable.PyObjectHashTable.get_item\u001b[0;34m()\u001b[0m\n",
      "\u001b[0;32mpandas/_libs/hashtable_class_helper.pxi\u001b[0m in \u001b[0;36mpandas._libs.hashtable.PyObjectHashTable.get_item\u001b[0;34m()\u001b[0m\n",
      "\u001b[0;31mKeyError\u001b[0m: 'category_name'",
      "\nThe above exception was the direct cause of the following exception:\n",
      "\u001b[0;31mKeyError\u001b[0m                                  Traceback (most recent call last)",
      "\u001b[0;32m<ipython-input-46-56846efd37f6>\u001b[0m in \u001b[0;36m<module>\u001b[0;34m\u001b[0m\n\u001b[1;32m     22\u001b[0m \u001b[0mEMBEDDING_DIM\u001b[0m \u001b[0;34m=\u001b[0m \u001b[0;36m100\u001b[0m\u001b[0;34m\u001b[0m\u001b[0m\n\u001b[1;32m     23\u001b[0m \u001b[0;32mfor\u001b[0m \u001b[0mcol\u001b[0m \u001b[0;32min\u001b[0m \u001b[0mcol_cat\u001b[0m\u001b[0;34m:\u001b[0m\u001b[0;34m\u001b[0m\u001b[0m\n\u001b[0;32m---> 24\u001b[0;31m     \u001b[0mnames\u001b[0m \u001b[0;34m=\u001b[0m \u001b[0mnp\u001b[0m\u001b[0;34m.\u001b[0m\u001b[0marray\u001b[0m\u001b[0;34m(\u001b[0m\u001b[0mtest\u001b[0m\u001b[0;34m[\u001b[0m\u001b[0mcol\u001b[0m\u001b[0;34m]\u001b[0m\u001b[0;34m.\u001b[0m\u001b[0mastype\u001b[0m\u001b[0;34m(\u001b[0m\u001b[0mstr\u001b[0m\u001b[0;34m)\u001b[0m\u001b[0;34m)\u001b[0m\u001b[0;34m\u001b[0m\u001b[0m\n\u001b[0m\u001b[1;32m     25\u001b[0m     \u001b[0;31m# Применение функции clean_text для получения чистых текстовых данных\u001b[0m\u001b[0;34m\u001b[0m\u001b[0;34m\u001b[0m\u001b[0m\n\u001b[1;32m     26\u001b[0m     \u001b[0mnames\u001b[0m \u001b[0;34m=\u001b[0m \u001b[0mclean_text\u001b[0m\u001b[0;34m(\u001b[0m\u001b[0mnames\u001b[0m\u001b[0;34m)\u001b[0m\u001b[0;34m\u001b[0m\u001b[0m\n",
      "\u001b[0;32m~/anaconda3/envs/rtx_3060/lib/python3.6/site-packages/pandas/core/frame.py\u001b[0m in \u001b[0;36m__getitem__\u001b[0;34m(self, key)\u001b[0m\n\u001b[1;32m   2904\u001b[0m             \u001b[0;32mif\u001b[0m \u001b[0mself\u001b[0m\u001b[0;34m.\u001b[0m\u001b[0mcolumns\u001b[0m\u001b[0;34m.\u001b[0m\u001b[0mnlevels\u001b[0m \u001b[0;34m>\u001b[0m \u001b[0;36m1\u001b[0m\u001b[0;34m:\u001b[0m\u001b[0;34m\u001b[0m\u001b[0m\n\u001b[1;32m   2905\u001b[0m                 \u001b[0;32mreturn\u001b[0m \u001b[0mself\u001b[0m\u001b[0;34m.\u001b[0m\u001b[0m_getitem_multilevel\u001b[0m\u001b[0;34m(\u001b[0m\u001b[0mkey\u001b[0m\u001b[0;34m)\u001b[0m\u001b[0;34m\u001b[0m\u001b[0m\n\u001b[0;32m-> 2906\u001b[0;31m             \u001b[0mindexer\u001b[0m \u001b[0;34m=\u001b[0m \u001b[0mself\u001b[0m\u001b[0;34m.\u001b[0m\u001b[0mcolumns\u001b[0m\u001b[0;34m.\u001b[0m\u001b[0mget_loc\u001b[0m\u001b[0;34m(\u001b[0m\u001b[0mkey\u001b[0m\u001b[0;34m)\u001b[0m\u001b[0;34m\u001b[0m\u001b[0m\n\u001b[0m\u001b[1;32m   2907\u001b[0m             \u001b[0;32mif\u001b[0m \u001b[0mis_integer\u001b[0m\u001b[0;34m(\u001b[0m\u001b[0mindexer\u001b[0m\u001b[0;34m)\u001b[0m\u001b[0;34m:\u001b[0m\u001b[0;34m\u001b[0m\u001b[0m\n\u001b[1;32m   2908\u001b[0m                 \u001b[0mindexer\u001b[0m \u001b[0;34m=\u001b[0m \u001b[0;34m[\u001b[0m\u001b[0mindexer\u001b[0m\u001b[0;34m]\u001b[0m\u001b[0;34m\u001b[0m\u001b[0m\n",
      "\u001b[0;32m~/anaconda3/envs/rtx_3060/lib/python3.6/site-packages/pandas/core/indexes/base.py\u001b[0m in \u001b[0;36mget_loc\u001b[0;34m(self, key, method, tolerance)\u001b[0m\n\u001b[1;32m   2898\u001b[0m                 \u001b[0;32mreturn\u001b[0m \u001b[0mself\u001b[0m\u001b[0;34m.\u001b[0m\u001b[0m_engine\u001b[0m\u001b[0;34m.\u001b[0m\u001b[0mget_loc\u001b[0m\u001b[0;34m(\u001b[0m\u001b[0mcasted_key\u001b[0m\u001b[0;34m)\u001b[0m\u001b[0;34m\u001b[0m\u001b[0m\n\u001b[1;32m   2899\u001b[0m             \u001b[0;32mexcept\u001b[0m \u001b[0mKeyError\u001b[0m \u001b[0;32mas\u001b[0m \u001b[0merr\u001b[0m\u001b[0;34m:\u001b[0m\u001b[0;34m\u001b[0m\u001b[0m\n\u001b[0;32m-> 2900\u001b[0;31m                 \u001b[0;32mraise\u001b[0m \u001b[0mKeyError\u001b[0m\u001b[0;34m(\u001b[0m\u001b[0mkey\u001b[0m\u001b[0;34m)\u001b[0m \u001b[0;32mfrom\u001b[0m \u001b[0merr\u001b[0m\u001b[0;34m\u001b[0m\u001b[0m\n\u001b[0m\u001b[1;32m   2901\u001b[0m \u001b[0;34m\u001b[0m\u001b[0m\n\u001b[1;32m   2902\u001b[0m         \u001b[0;32mif\u001b[0m \u001b[0mtolerance\u001b[0m \u001b[0;32mis\u001b[0m \u001b[0;32mnot\u001b[0m \u001b[0;32mNone\u001b[0m\u001b[0;34m:\u001b[0m\u001b[0;34m\u001b[0m\u001b[0m\n",
      "\u001b[0;31mKeyError\u001b[0m: 'category_name'"
     ]
    }
   ],
   "source": [
    "\n",
    "# Колонка text_fields содержит значения в json формате.  Необходимая колонка это 'title'\n",
    "for col in col_tf:\n",
    "    test[col] = test[\"text_fields\"].apply(\n",
    "    json.loads).apply(lambda x: x[col])\n",
    "col_cat = list(['shop_title','rating', 'category_name', 'title', 'description', 'attributes', 'custom_characteristics','defined_characteristics','filter'])\n",
    "def clean_text(data):\n",
    "    # На этом этапе мы преобразуем Charecters в нижний чехол\n",
    "    for i in range(data.shape[0]):\n",
    "        data[i] = data[i].lower()\n",
    "    # На этом этапе мы удаляем числа и знаки препинания из текста\n",
    "    for i in range(data.shape[0]):\n",
    "        data[i] = re.sub(r\"[^\\w\\s]+|[\\d]+\", \"\", data[i])\n",
    "        #  выбрасывает все слова (преимущественно предлоги), длинна которых меньше 3-х символов.\n",
    "        data[i] = \" \".join(word for word in data[i].split() if len(word) > 3)\n",
    "    # Здесь мы снимаем дополнительное пространство с конца и начала предложения\n",
    "    for i in range(data.shape[0]):\n",
    "        data[i] = data[i].strip()\n",
    "    return data\n",
    "MAX_NB_WORDS = 5000\n",
    "# Максимальное количество слов в каждом имени.\n",
    "MAX_SEQUENCE_LENGTH = 15\n",
    "EMBEDDING_DIM = 100\n",
    "for col in col_cat:\n",
    "    names = np.array(test[col].astype(str))\n",
    "    # Применение функции clean_text для получения чистых текстовых данных\n",
    "    names = clean_text(names)\n",
    "    # Максимальное количество слов, которые будут использоваться.\n",
    "    MAX_NB_WORDS = 5000\n",
    "    # Максимальное количество слов в каждом имени.\n",
    "    MAX_SEQUENCE_LENGTH = 15\n",
    "    EMBEDDING_DIM = 100\n",
    "    \n",
    "    # Создание токенов слова\n",
    "    tokenizer = Tokenizer(\n",
    "        num_words=MAX_NB_WORDS,\n",
    "        filters='!\"#$%&()*+,-./:;<=>?@[\\]^_`{|}~',\n",
    "        lower=True,\n",
    "        char_level=False,\n",
    "    )\n",
    "    tokenizer.fit_on_texts(names)\n",
    "    word_index = tokenizer.word_index\n",
    "    \n",
    "    print(\"Found %s unique tokens.\" % len(word_index))\n",
    "    # Наконец мы создаем наши текстовые данные для обучения\n",
    "    X = tokenizer.texts_to_sequences(\n",
    "        names\n",
    "    )  # Здесь он берет каждое слово от имен и заменяет его соответствующим номером от нашего Word_index\n",
    "    X = pad_sequences(\n",
    "        X, maxlen=MAX_SEQUENCE_LENGTH\n",
    "    )  # Он преобразует список последовательностей в массив формы Numpy (num_sequence, num_timestep)\n",
    "    # Где числовая последовательность - это количество предложений в именах, а num_timestep - это количество слов в каждом предложении, которое в данном случае составляет 15.\n",
    "    print(\"Shape of data tensor:\", X.shape)"
   ]
  },
  {
   "cell_type": "code",
   "execution_count": null,
   "metadata": {},
   "outputs": [
    {
     "ename": "TypeError",
     "evalue": "list() takes at most 1 argument (9 given)",
     "output_type": "error",
     "traceback": [
      "\u001b[0;31m---------------------------------------------------------------------------\u001b[0m\n",
      "\u001b[0;31mTypeError\u001b[0m                                 Traceback (most recent call last)\n",
      "\u001b[0;32m<ipython-input-32-76c9f5590434>\u001b[0m in \u001b[0;36m<module>\u001b[0;34m\u001b[0m\n",
      "\u001b[0;32m----> 1\u001b[0;31m \u001b[0mcol_cat\u001b[0m \u001b[0;34m=\u001b[0m \u001b[0mlist\u001b[0m\u001b[0;34m(\u001b[0m\u001b[0;34m'shop_title'\u001b[0m\u001b[0;34m,\u001b[0m\u001b[0;34m'rating'\u001b[0m\u001b[0;34m,\u001b[0m \u001b[0;34m'category_name'\u001b[0m\u001b[0;34m,\u001b[0m \u001b[0;34m'title'\u001b[0m\u001b[0;34m,\u001b[0m \u001b[0;34m'description'\u001b[0m\u001b[0;34m,\u001b[0m \u001b[0;34m'attributes'\u001b[0m\u001b[0;34m,\u001b[0m \u001b[0;34m'custom_characteristics'\u001b[0m\u001b[0;34m,\u001b[0m\u001b[0;34m'defined_characteristics'\u001b[0m\u001b[0;34m,\u001b[0m\u001b[0;34m'filter'\u001b[0m\u001b[0;34m)\u001b[0m\u001b[0;34m\u001b[0m\u001b[0m\n",
      "\u001b[0m\n",
      "\u001b[0;31mTypeError\u001b[0m: list() takes at most 1 argument (9 given)"
     ]
    }
   ],
   "source": []
  },
  {
   "cell_type": "code",
   "execution_count": null,
   "metadata": {},
   "outputs": [],
   "source": []
  },
  {
   "cell_type": "code",
   "execution_count": null,
   "metadata": {},
   "outputs": [],
   "source": []
  },
  {
   "cell_type": "code",
   "execution_count": null,
   "metadata": {},
   "outputs": [
    {
     "ename": "NameError",
     "evalue": "name 'col_cat' is not defined",
     "output_type": "error",
     "traceback": [
      "\u001b[0;31m---------------------------------------------------------------------------\u001b[0m\n",
      "\u001b[0;31mNameError\u001b[0m                                 Traceback (most recent call last)\n",
      "\u001b[0;32m<ipython-input-29-7cc59f818956>\u001b[0m in \u001b[0;36m<module>\u001b[0;34m\u001b[0m\n",
      "\u001b[0;32m----> 1\u001b[0;31m \u001b[0;32mfor\u001b[0m \u001b[0mcol\u001b[0m \u001b[0;32min\u001b[0m \u001b[0mcol_cat\u001b[0m\u001b[0;34m:\u001b[0m\u001b[0;34m\u001b[0m\u001b[0m\n",
      "\u001b[0m\u001b[1;32m      2\u001b[0m     \u001b[0mnames\u001b[0m \u001b[0;34m=\u001b[0m \u001b[0mnp\u001b[0m\u001b[0;34m.\u001b[0m\u001b[0marray\u001b[0m\u001b[0;34m(\u001b[0m\u001b[0mtrain\u001b[0m\u001b[0;34m[\u001b[0m\u001b[0mcol\u001b[0m\u001b[0;34m]\u001b[0m\u001b[0;34m.\u001b[0m\u001b[0mastype\u001b[0m\u001b[0;34m(\u001b[0m\u001b[0mstr\u001b[0m\u001b[0;34m)\u001b[0m\u001b[0;34m)\u001b[0m\u001b[0;34m\u001b[0m\u001b[0m\n",
      "\u001b[1;32m      3\u001b[0m     \u001b[0;31m# Применение функции clean_text для получения чистых текстовых данных\u001b[0m\u001b[0;34m\u001b[0m\u001b[0;34m\u001b[0m\u001b[0m\n",
      "\u001b[1;32m      4\u001b[0m     \u001b[0mnames\u001b[0m \u001b[0;34m=\u001b[0m \u001b[0mclean_text\u001b[0m\u001b[0;34m(\u001b[0m\u001b[0mnames\u001b[0m\u001b[0;34m)\u001b[0m\u001b[0;34m\u001b[0m\u001b[0m\n",
      "\u001b[1;32m      5\u001b[0m     \u001b[0;31m# Максимальное количество слов, которые будут использоваться.\u001b[0m\u001b[0;34m\u001b[0m\u001b[0;34m\u001b[0m\u001b[0m\n",
      "\n",
      "\u001b[0;31mNameError\u001b[0m: name 'col_cat' is not defined"
     ]
    }
   ],
   "source": []
  },
  {
   "cell_type": "code",
   "execution_count": null,
   "metadata": {
    "colab": {
     "base_uri": "https://localhost:8080/",
     "height": 34
    },
    "colab_type": "code",
    "id": "Y3Z1pWxFsvEX",
    "outputId": "eaeaf6f6-359f-4196-f653-ff21f7263203"
   },
   "outputs": [],
   "source": [
    "pred.shape\n"
   ]
  },
  {
   "cell_type": "markdown",
   "metadata": {
    "colab_type": "text",
    "id": "cx5K5TW_AcuM"
   },
   "source": [
    "We have 5714 examples each having a vector of size 1024."
   ]
  },
  {
   "cell_type": "code",
   "execution_count": null,
   "metadata": {
    "colab": {
     "base_uri": "https://localhost:8080/",
     "height": 34
    },
    "colab_type": "code",
    "id": "qZkxQrXcs1zk",
    "outputId": "25c33778-1225-4564-f6f1-5142675c3cf1"
   },
   "outputs": [],
   "source": [
    "# Finally let's call cross_modal_gap to get the loss.\n",
    "cross_modal_gap(pred)\n"
   ]
  },
  {
   "cell_type": "code",
   "execution_count": null,
   "metadata": {
    "colab": {},
    "colab_type": "code",
    "id": "J8cci2eZhloy"
   },
   "outputs": [],
   "source": []
  }
 ],
 "metadata": {
  "accelerator": "GPU",
  "colab": {
   "collapsed_sections": [
    "mNAvIBJ3QFa8",
    "TLSrJhczQO8D",
    "5mAxPTkiAxDd",
    "4nBpwajM2J1t",
    "rORm_ZQzVd1b",
    "inlzz2kM53A2",
    "3NJ8N_HVz7L_",
    "C2D3spPxgpzi"
   ],
   "machine_shape": "hm",
   "name": "GreenDeckMLAssignmment.ipynb",
   "provenance": [],
   "toc_visible": true
  },
  "kernelspec": {
   "display_name": "rtx_3060",
   "language": "python",
   "name": "python3"
  },
  "language_info": {
   "codemirror_mode": {
    "name": "ipython",
    "version": 3
   },
   "file_extension": ".py",
   "mimetype": "text/x-python",
   "name": "python",
   "nbconvert_exporter": "python",
   "pygments_lexer": "ipython3",
   "version": "3.6.5"
  },
  "vscode": {
   "interpreter": {
    "hash": "88836a8584e7c14d5eed002b8fbf884ca23613cbdce85d25f5154bc740706129"
   }
  }
 },
 "nbformat": 4,
 "nbformat_minor": 1
}
